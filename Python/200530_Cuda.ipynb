{
 "cells": [
  {
   "cell_type": "markdown",
   "metadata": {},
   "source": [
    "///---\n",
    "layout: post\n",
    "title: \"CUDA\"\n",
    "comments: true\n",
    "share: true\n",
    "date: 2020-05-30 01:00:00\n",
    "description: Cuda에 대해 정리한다.\n",
    "tags: cuda\n",
    "toc: true\n",
    "sitemap :\n",
    "  changefreq : daily\n",
    "  priority : 1.0\n",
    "///---"
   ]
  },
  {
   "cell_type": "markdown",
   "metadata": {},
   "source": [
    "# CUDA"
   ]
  },
  {
   "cell_type": "markdown",
   "metadata": {},
   "source": [
    "## Memory"
   ]
  },
  {
   "cell_type": "markdown",
   "metadata": {},
   "source": [
    "### Memory hierarchy\n",
    "\n",
    "<figure>\n",
    "    <img src='../assets/images/Cuda/memory_hierarchy.png' alt='Memory hierarchy' width=\"640\" />\n",
    "    <figcaption class=\"figure-caption\">Memory hierarchy</figcaption>\n",
    "</figure>\n",
    "\n",
    "- Registers\n",
    "  - Thread 간에도 공유되지 않는다.\n",
    "  - 함수에서 선언한 변수를 저장한다.\n",
    "  - 함수에서 선언한 변수의 크기가 Thread의 Register개수를 넘을 경우 Local 메모리에 위치한다.\n",
    "- Shared memory\n",
    "  - __shared__를 이용하여 선언한다.\n",
    "  - Local, Global memory보다 지연시간이 적다.\n",
    "  - Block내의 Thread간 공유된다.\n",
    "  - __syncThreads()으로 Shared memory의 Coherent를 유지한다.\n",
    "  - L1 cache와 하드웨어를 공유하고 할당량은 cudaFuncSetCache함수를 이용하여 설정가능한다.\n",
    "- Local memory\n",
    "  - Registers의 공간 부족으로 Cache에 위치한 변수\n",
    "- Constant memory\n",
    "  - __constant__를 이용하여 선언한다.\n",
    "  - Global scope 선언되어야 한다.\n",
    "  - Kernel 실행 전 cudaMemcpyToSymbo로 값을 설정하여야한다.\n",
    "- Texture memory\n",
    "  - Read Only\n",
    "  - 2D Spatial Locality에 최적회 되어 있다.\n",
    "- Global memory\n",
    "  - __device__ 식별자를 이용하여 선언하거나 Host에서 cudaMalloc을 이용한다."
   ]
  },
  {
   "cell_type": "markdown",
   "metadata": {},
   "source": [
    "  \n",
    "  \n",
    "---\n",
    "\n",
    "- CUDA Variable and Type Qualifier\n",
    "\n",
    "|   Qualifier  |  Variable Name |  Memory  |  Scope |   Lifespan  |\n",
    "|:------------:|:--------------:|:--------:|:------:|:-----------:|\n",
    "|              |    float var   | Register | Thread |    Thread   |\n",
    "|              | float var[100] |   Local  | Thread |    Thread   |\n",
    "|  __shared__  |    float var   |  Shared  |  Block |    Block    |\n",
    "|  __device__  |    float var   |  Global  | Global | Application |\n",
    "| __constant__ |    float var   | Constant | Global | Application |\n",
    "\n",
    "- Salient Features of Device Memory\n",
    "\n",
    "|  Memory  | On/Off Chip | Cached  | Access |        Scope         |     Lifetime    |\n",
    "|:--------:|:-----------:|:-------:|:------:|:--------------------:|:---------------:|\n",
    "| Register |      On     |   n/a   |   R/W  |       1 thread       |      Thread     |\n",
    "|   Local  |     Off     |   Yes   |   R/W  |       1 thread       |      Thread     |\n",
    "|  Shared  |      On     |   n/a   |   R/W  | All threads in block |      Block      |\n",
    "|  Global  |     Off     |    †    |   R/W  |  All threads + host  | Host allocation |\n",
    "| Constant |     Off     |   Yes   |    R   |  All threads + host  | Host allocation |\n",
    "|  Texture |     Off     |   Yes   |    R   |  All threads + host  | Host allocation |"
   ]
  },
  {
   "cell_type": "markdown",
   "metadata": {},
   "source": [
    "### Host <-> Device\n",
    "Host와 device의 변수가 동일한 파일에 선언되어 있어도 직접적인 참조는 불가능한다. 배열의 경우 cudaAlloc으로 할당된 포인터와 cudaMemcpy를 이용하여 Host와 device간 데이터를 교환할 수 있다. 하지만 Global scope에 __device__로 선언된 변수의 경우는 변수의 주소값과 cudaMemcpy를 이용하여 값을 전송 할 수 없다. 이런 경우에는 cudaGetSymboAddress를 이용하여 포인터를 얻어와서 cudaMemcpy를 이용하거나 cudaMemcpyToSymbol 명령을 이용하여 한다.\n",
    "\n",
    "```c\n",
    "#include <cuda_runtime.h>\n",
    "#include <stdio.h>\n",
    "__device__ float devData;\n",
    "__global__ void checkGlobalVariable() {\n",
    "   devData +=2.0f;\n",
    "}\n",
    "int main(void) {\n",
    "   float value = 3.14f;\n",
    "   cudaMemcpyToSymbol(devData, &value, sizeof(float));\n",
    "   // 위의 처럼 devData에 저장하거나\n",
    "   float *dptr = NULL;\n",
    "   cudaGetSymbolAddress((void**)&dptr, devData);\n",
    "   cudaMemcpy(dptr, &value, sizeof(float), cudaMemcpyHostToDevice);\n",
    "   //\n",
    "   checkGlobalVariable <<<1, 1>>>();\n",
    "   cudaMemcpyFromSymbol(&value, devData, sizeof(float));\n",
    "   cudaDeviceReset();\n",
    "   return EXIT_SUCCESS;\n",
    "}\n",
    "```"
   ]
  },
  {
   "cell_type": "markdown",
   "metadata": {},
   "source": [
    "### Pinned Memory\n",
    "\n",
    "CPU에서 선언한 배열의 경우 Pageable 메모리 형태로 생성되므로 Device로 데이터를 전송 할때 Overhead가 생성된다. Host에서 사용할 메모리를 cudaMallocHost/cudaFreeHost를 이용하면 Pinned Memory(Non-pageable)로 선언되므로 Overhead를 줄일 수 있다. Pinned Memory가 많을 수록 host의 전체 성능이 저하 될 수 있으므로 시스템과 프로그램 상황에 맞게 조절되어야 한다.\n",
    "\n",
    "\n",
    "<figure>\n",
    "    <img src='../assets/images/Cuda/pinned_memroy.png' alt='Pinned Memory' width=\"640\" />\n",
    "    <figcaption class=\"figure-caption\">Pinned Memory</figcaption>\n",
    "</figure>"
   ]
  },
  {
   "cell_type": "markdown",
   "metadata": {},
   "source": [
    "### Zero-Copy Memory\n",
    "\n",
    "일반적으로는 Host<->Device간의 데이터를 직접 주고 받을 수 없지만 Zero-Copy memory로 선언된 영역에 대해서는 Host와 device가 접근할 수 있다. cudaHostAlloc/cudaFreeHost를 이용하여 선언/해제 할 수 있다.\n",
    "\n",
    "Zero-Copy Memory의 장점은 다음과 같다.\n",
    "\n",
    "- Leveraging host memory when there is insufficient device memory\n",
    "- Avoiding explicit data transfer between the host and device\n",
    "- Improving PCIe transfer rates\n",
    "\n",
    "큰 배열의 경우 cudaMalloc을 사용하는 것이 훨씬 효율적이다."
   ]
  },
  {
   "cell_type": "markdown",
   "metadata": {},
   "source": [
    "## 참고문헌\n",
    "[1] Professional CUDA C Programming "
   ]
  }
 ],
 "metadata": {
  "kernelspec": {
   "display_name": "Python 3",
   "language": "python",
   "name": "python3"
  },
  "language_info": {
   "codemirror_mode": {
    "name": "ipython",
    "version": 3
   },
   "file_extension": ".py",
   "mimetype": "text/x-python",
   "name": "python",
   "nbconvert_exporter": "python",
   "pygments_lexer": "ipython3",
   "version": "3.7.4"
  },
  "toc-autonumbering": true
 },
 "nbformat": 4,
 "nbformat_minor": 4
}
