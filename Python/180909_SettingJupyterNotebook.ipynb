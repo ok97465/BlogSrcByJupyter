{
 "cells": [
  {
   "cell_type": "markdown",
   "metadata": {},
   "source": [
    "///---\n",
    "layout: post\n",
    "title: \"Jupyter NoteBook에서 신호처리를 위한 설정\"\n",
    "comments: true\n",
    "share: true\n",
    "date: 2018-09-09 01:08:00\n",
    "description: Jupyter NoteBook에서 신호처리를 편리하게 하기 위해 설정 값을 조정한다.\n",
    "tags: python jupyter\n",
    "sitemap :\n",
    "  changefreq : daily\n",
    "  priority : 1.0\n",
    "///---"
   ]
  },
  {
   "cell_type": "markdown",
   "metadata": {},
   "source": [
    "# Jupyter NoteBook에서 신호처리를 위한 설정\n",
    "---"
   ]
  },
  {
   "cell_type": "markdown",
   "metadata": {},
   "source": [
    "## NBExtension 설정\n",
    "  * hide input 활성화\n",
    "  * hide input all 활성화\n",
    "  * comment/uncomment hotkey 활성화\n",
    "    * 단축키 Ctrl+R로 변경\n",
    "  * spell checker 활성화\n",
    "  * table of contents(2) 활성화\n",
    "  * runtools 활성화\n",
    "    * run all cells 단축키 Ctrl+F5로 변경\n",
    "  * snippets 활성화\n",
    "    * [snippets.json](/assets/data/SettingJupyterNotebook/snippets.json)을 파이선폴더/share/jupyter/nbextensions/snippets에 복사 한다.\n",
    "  * snippets Menu 활성화\n",
    "  * scratchpad 활성화"
   ]
  },
  {
   "cell_type": "markdown",
   "metadata": {},
   "source": [
    "## Theme 설정\n",
    "onedork theme 설정  \n",
    "./jt -t onedork -fs 12 -nfs 13 -tfs 12 -ofs 11 -mathfs 90 -T"
   ]
  },
  {
   "cell_type": "markdown",
   "metadata": {},
   "source": [
    "## qtconsole style변경\n",
    "%qtconsole로 외부 console 실행 시 theme를 설정 한다.  \n",
    "[jupyter_qtconsole_config.py](/assets/data/SettingJupyterNotebook/jupyter_qtconsole_config.py)를 ~/.jupyter에 복사 한다."
   ]
  },
  {
   "cell_type": "markdown",
   "metadata": {},
   "source": [
    "## Jupyter Notebook 1회만 실행\n",
    "jupyter notebook을 아이콘으로 만들어 실행 하려다 보면 아이콘 클릭 시 마다 새로운 jupyter server가 실행된다. 이런 문제를 해결하기 위해서 간단한 python 코드와 Script를 작성하여 script를 바로가기로 지정한다.\n",
    "  \n",
    "  * Python Code (run\\_jupyter.py)\n",
    "  \n",
    "``` python\n",
    "import re\n",
    "import sys\n",
    "import os\n",
    "import subprocess\n",
    "import webbrowser\n",
    "from notebook import notebookapp\n",
    "from notebook.notebookapp import main\n",
    "\n",
    "if __name__ == '__main__':\n",
    "    port = 9876\n",
    "    jupyter_server_list = list(notebookapp.list_running_servers())\n",
    "\n",
    "    if len(jupyter_server_list) > 0:\n",
    "        for server in jupyter_server_list:\n",
    "            if server['port'] == port:\n",
    "                webbrowser.open(jupyter_server_list[0]['url']+'tree')\n",
    "                sys.exit(0)\n",
    "\n",
    "    os.chdir('/home/ok97465/python/BlogSrcByJupyter')  # notebook을 저장할 폴더\n",
    "    sys.exit(main(port=port))\n",
    "```\n",
    "\n",
    "  * Linux용 script (run\\_jupyter.sh)\n",
    "  \n",
    "```bash\n",
    "#!/bin/sh\n",
    "export MPLCURSORS='{\"multiple\": 1}'  # maplotlib Cusor Marker\n",
    "export PYTHONPATH=/home/ok97465/python/scientific  # oklib를 포함하는 폴더  \n",
    "~/anaconda3/bin/python ~/python/run_jupyter.py\n",
    "```\n",
    "\n",
    "  * Window용 스크립트 (run\\_jupyter.vbs)\n",
    "  \n",
    "```\n",
    "Set oShell = CreateObject (\"Wscript.Shell\")\n",
    "Dim strArgs\n",
    "strArgs = \"cmd /v:on /k (set MPLCURSORS=\" + \"{\" + Chr(34) + \"multiple\" + Chr(34) + \": 1\" + \"}\" + \")\" + \" & (set PYTHONPATH=D:\\python\\scientific) & C:\\IntelPython3\\python.exe D:\\python\\start_jupyter.py\"\n",
    "oShell.Run strArgs, 0, false\n",
    "```"
   ]
  }
 ],
 "metadata": {
  "hide_input": false,
  "kernelspec": {
   "display_name": "Python 3",
   "language": "python",
   "name": "python3"
  },
  "language_info": {
   "codemirror_mode": {
    "name": "ipython",
    "version": 3
   },
   "file_extension": ".py",
   "mimetype": "text/x-python",
   "name": "python",
   "nbconvert_exporter": "python",
   "pygments_lexer": "ipython3",
   "version": "3.6.6"
  },
  "toc": {
   "nav_menu": {},
   "number_sections": true,
   "sideBar": true,
   "skip_h1_title": true,
   "title_cell": "Table of Contents",
   "title_sidebar": "Contents",
   "toc_cell": false,
   "toc_position": {
    "height": "calc(100% - 180px)",
    "left": "10px",
    "top": "150px",
    "width": "295.594px"
   },
   "toc_section_display": true,
   "toc_window_display": true
  },
  "varInspector": {
   "cols": {
    "lenName": 16,
    "lenType": 16,
    "lenVar": 40
   },
   "kernels_config": {
    "python": {
     "delete_cmd_postfix": "",
     "delete_cmd_prefix": "del ",
     "library": "var_list.py",
     "varRefreshCmd": "print(var_dic_list())"
    },
    "r": {
     "delete_cmd_postfix": ") ",
     "delete_cmd_prefix": "rm(",
     "library": "var_list.r",
     "varRefreshCmd": "cat(var_dic_list()) "
    }
   },
   "types_to_exclude": [
    "module",
    "function",
    "builtin_function_or_method",
    "instance",
    "_Feature"
   ],
   "window_display": true
  }
 },
 "nbformat": 4,
 "nbformat_minor": 2
}
