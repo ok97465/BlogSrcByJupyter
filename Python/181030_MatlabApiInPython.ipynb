{
 "cells": [
  {
   "cell_type": "markdown",
   "metadata": {},
   "source": [
    "///---\n",
    "layout: post\n",
    "title: \"Python에서 Matlab 사용하기\"\n",
    "comments: true\n",
    "share: true\n",
    "date: 2018-10-10 01:08:00\n",
    "description: Python에서 Matlab을 실행하고 데이터를 주고 받는다.\n",
    "tags: python matlab\n",
    "toc: true\n",
    "sitemap :\n",
    "  changefreq : daily\n",
    "  priority : 1.0\n",
    "///---"
   ]
  },
  {
   "cell_type": "markdown",
   "metadata": {},
   "source": [
    "# MATLAB API in Python\n",
    "  \n",
    "Python으로 Matlab 대부분의 일을 할 수 있기 때문에 Maltab을 사용할 일이 거의 없지만 간혹 Matlab으로 작성된 유물 코드를 급하게 활용해야 할 경우가 발생한다. \n",
    "이런 경우엔 MATLAB API를 사용하면 Python과 연동하여 Matlab를 사용 할 수 있다."
   ]
  },
  {
   "cell_type": "markdown",
   "metadata": {},
   "source": [
    "## MATLAB API 설치\n",
    "```bash\n",
    "cd  /${MATLAB}/extern/engines/python\n",
    "python setup.py install\n",
    "```"
   ]
  },
  {
   "cell_type": "markdown",
   "metadata": {},
   "source": [
    "## Import MATLAB"
   ]
  },
  {
   "cell_type": "code",
   "execution_count": null,
   "metadata": {},
   "outputs": [],
   "source": [
    "# Show in Markdown\n",
    "import matlab.engine\n",
    "import numpy as np\n",
    "from numpy import array, arange\n",
    "from matlab import double as double_m"
   ]
  },
  {
   "cell_type": "markdown",
   "metadata": {},
   "source": [
    "## MATLAB 시작하기"
   ]
  },
  {
   "cell_type": "code",
   "execution_count": null,
   "metadata": {},
   "outputs": [],
   "source": [
    "# Show in Markdown\n",
    "eng = matlab.engine.start_matlab()"
   ]
  },
  {
   "cell_type": "markdown",
   "metadata": {},
   "source": [
    "## Python과 동기된 MATLAB GUI 띄우기"
   ]
  },
  {
   "cell_type": "code",
   "execution_count": null,
   "metadata": {},
   "outputs": [],
   "source": [
    "# Show in Markdown\n",
    "eng.desktop(nargout=0)"
   ]
  },
  {
   "cell_type": "markdown",
   "metadata": {},
   "source": [
    "## MATLAB에 명령 보내기"
   ]
  },
  {
   "cell_type": "code",
   "execution_count": null,
   "metadata": {},
   "outputs": [],
   "source": [
    "# Show in Markdown\n",
    "eng.workspace['x'] = 3\n",
    "a = eng.eval(\"x+3;\")\n",
    "\n",
    "eng.eval(\"y = 5;\", nargout=0)\n",
    "print(eng.workspace['y'])"
   ]
  },
  {
   "cell_type": "markdown",
   "metadata": {},
   "source": [
    "## MATLAB 행렬 Numpy에 저장"
   ]
  },
  {
   "cell_type": "code",
   "execution_count": null,
   "metadata": {},
   "outputs": [],
   "source": [
    "# Show in Markdown\n",
    "x_matlab = eng.linspace(0, 1000, -1, 1000)\n",
    "x_py = array(x_matlab)\n",
    "\n",
    "eng.eval('x = linspace(0, 1000, -1, 1000)', nargout=0)\n",
    "x_py = array(eng.workspace['x'])"
   ]
  },
  {
   "cell_type": "markdown",
   "metadata": {},
   "source": [
    "## MATLAB에 경로 추가"
   ]
  },
  {
   "cell_type": "code",
   "execution_count": null,
   "metadata": {},
   "outputs": [],
   "source": [
    "# Show in Markdown\n",
    "eng.addpath('/home/kkk/matlab_utility', nargout=0)"
   ]
  },
  {
   "cell_type": "markdown",
   "metadata": {},
   "source": [
    "## MATLAB의 함수 실행"
   ]
  },
  {
   "cell_type": "code",
   "execution_count": null,
   "metadata": {},
   "outputs": [],
   "source": [
    "# Show in Markdown\n",
    "x_randn_matlab = eng.randn(4,4)\n",
    "x_randn_matlab_T = eng.transpose(x_randn_matlab)"
   ]
  },
  {
   "cell_type": "markdown",
   "metadata": {},
   "source": [
    "## Numpy 데이터를 Matlab에서 사용하기"
   ]
  },
  {
   "cell_type": "code",
   "execution_count": null,
   "metadata": {},
   "outputs": [],
   "source": [
    "# Show in Markdown\n",
    "y = arange(16).reshape(4, 4)\n",
    "y_matlab = double_m(y.tolist(), is_complex=True)\n",
    "eng.workspace['y'] = y_matlab"
   ]
  },
  {
   "cell_type": "markdown",
   "metadata": {},
   "source": [
    "## MATLAB 종료하기"
   ]
  },
  {
   "cell_type": "code",
   "execution_count": null,
   "metadata": {},
   "outputs": [],
   "source": [
    "# Show in Markdown\n",
    "eng.quit()"
   ]
  }
 ],
 "metadata": {
  "kernelspec": {
   "display_name": "Python 3 (ipykernel)",
   "language": "python",
   "name": "python3"
  },
  "language_info": {
   "codemirror_mode": {
    "name": "ipython",
    "version": 3
   },
   "file_extension": ".py",
   "mimetype": "text/x-python",
   "name": "python",
   "nbconvert_exporter": "python",
   "pygments_lexer": "ipython3",
   "version": "3.8.11"
  }
 },
 "nbformat": 4,
 "nbformat_minor": 4
}
