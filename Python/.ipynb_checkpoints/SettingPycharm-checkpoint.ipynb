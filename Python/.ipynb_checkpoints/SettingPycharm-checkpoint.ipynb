{
 "cells": [
  {
   "cell_type": "markdown",
   "metadata": {},
   "source": [
    "# Pycharm(Python)을 Matlab 처럼 설정하기"
   ]
  },
  {
   "cell_type": "markdown",
   "metadata": {},
   "source": [
    "## Script Run 시 현재 Console에서 실행\n",
    "File --> Settings --> Build, Execution, Deployment --> Console\n",
    "  * Always show debug console : 활성화\n",
    "  * User existing console for \"Run with Python console\" : 활성화"
   ]
  },
  {
   "cell_type": "markdown",
   "metadata": {},
   "source": [
    "## Console에 자주 쓰는 함수 자동 import\n",
    "File --> Settings --> Build, Execution, Deployment --> Console --> Python Console --> Start Script에 추가\n",
    "``` python\n",
    "    %load_ext autoreload\n",
    "    %autoreload 2\n",
    "\n",
    "    from oklib.init import load_func_frequently\n",
    "    load_func_frequently(globals())\n",
    "```"
   ]
  },
  {
   "cell_type": "markdown",
   "metadata": {},
   "source": [
    "## Matplotlib의 Cursor Marker 기능 활성화\n",
    "File --> Settings --> Build, Execution, Deployment --> Console --> Python Console --> Enviroment variables에 추가  \n",
    "Name : MPLCURSORS  \n",
    "Value : {\"multiple\": 1}"
   ]
  },
  {
   "cell_type": "markdown",
   "metadata": {},
   "source": [
    "## Variable 창에서 자주 쓰는 함수 숨김\n",
    "pycharm 폴더\\helpers\\pydev\\_pydev_bundle\\pydev_ipython_console.py의 get_ipython_hidden_vars_dict에 추가\n",
    "``` python\n",
    "    user_hidden_dict.setdefault('rad2deg', '')\n",
    "    user_hidden_dict.setdefault('deg2rad', '')\n",
    "    user_hidden_dict.setdefault('arange', '')\n",
    "    user_hidden_dict.setdefault('arccos', '')\n",
    "    user_hidden_dict.setdefault('arcsin', '')\n",
    "    user_hidden_dict.setdefault('arctan', '')\n",
    "    user_hidden_dict.setdefault('array', '')\n",
    "    user_hidden_dict.setdefault('conj', '')\n",
    "    user_hidden_dict.setdefault('cos', '')\n",
    "    user_hidden_dict.setdefault('sin', '')\n",
    "    user_hidden_dict.setdefault('tan', '')\n",
    "    user_hidden_dict.setdefault('exp', '')\n",
    "    user_hidden_dict.setdefault('zeros', '')\n",
    "    user_hidden_dict.setdefault('pi', '')\n",
    "    user_hidden_dict.setdefault('randn', '')\n",
    "    user_hidden_dict.setdefault('standard_normal', '')\n",
    "    user_hidden_dict.setdefault('sqrt', '')\n",
    "    user_hidden_dict.setdefault('fig', '')\n",
    "    user_hidden_dict.setdefault('ax', '')\n",
    "```"
   ]
  },
  {
   "cell_type": "markdown",
   "metadata": {},
   "source": [
    "## Matplotlib의 한글 표시\n",
    "파이썬폴더\\Lib\\site-packages\\matplotlib\\mpl-data\\matplotlibrc 파일 수정  \n",
    "  * backend      : Qt5Agg  \n",
    "  * font.family         : Malgun Gothic  \n",
    "  * axes.unicode_minus  : False  \n",
    "  * savefig.transparent : True  \n",
    "  * figure.facecolor : 0.95"
   ]
  },
  {
   "cell_type": "markdown",
   "metadata": {},
   "source": [
    "## 자주쓰는 Keyword 추가\n",
    "File --> Settings --> Live Templates --> Python 에 아래 명령들 추가"
   ]
  },
  {
   "cell_type": "markdown",
   "metadata": {},
   "source": [
    "### clear 명령\n",
    "Abbreviation : clear  \n",
    "Template text :  \n",
    "``` python\n",
    "    from oklib.init import ipython_clear\n",
    "    ipython_clear(b_plot_close=True)\n",
    "    from oklib.init import load_func_frequently\n",
    "    load_func_frequently(globals())\n",
    "\n",
    "    if __name__ == \"__main__\":\n",
    "        pass\n",
    "\n",
    "```"
   ]
  },
  {
   "cell_type": "markdown",
   "metadata": {},
   "source": [
    "### 새로운 figure 명령\n",
    "Abbreviation : fig,  \n",
    "Template text :  \n",
    "``` python\n",
    "    fig, ax = plt.subplots()\n",
    "```"
   ]
  },
  {
   "cell_type": "markdown",
   "metadata": {},
   "source": [
    "### matlab 명령 import\n",
    "Abbreviation : matlab   \n",
    "Template text :  \n",
    "``` python\n",
    "    import numpy as np\n",
    "    import matplotlib.pyplot as plt\n",
    "    from matplotlib.pyplot import plot, hist\n",
    "    from oklib.signal import (db2, nextpow2, sind, cosd, tand, arcsind, arccosd, arctand)\n",
    "    from oklib.plot import imagesc\n",
    "    from oklib.file import save_vars, load_vars\n",
    "    from numpy import (pi, deg2rad, rad2deg, unwrap, angle, zeros, array, ones, linspace, cumsum, diff, arange, interp,\n",
    "                       conj, exp, sqrt)\n",
    "    from numpy import (cos, sin, tan, arcsin, arccos, arctan)\n",
    "    from numpy import (amin, amax, argmin, argmax, sum, mean)\n",
    "    from numpy.fft import (fft, ifft, fft2, ifft2, fftshift, ifftshift)\n",
    "    from numpy.linalg import svd, norm\n",
    "    from numpy.random_intel import randn, standard_normal\n",
    "\n",
    "```"
   ]
  },
  {
   "cell_type": "markdown",
   "metadata": {},
   "source": [
    "## File 생성 시 주석 추가\n",
    "File --> Settings --> File and Code Templates --> Python script에 추가\n",
    "``` python\n",
    "    # -*- coding: utf-8 -*-\n",
    "    r\"\"\"[Title]\n",
    "\n",
    "    [Description]\n",
    "\n",
    "    Example\n",
    "    -------\n",
    "    [example]\n",
    "\n",
    "    Notes\n",
    "    -----\n",
    "    [Notes]\n",
    "\n",
    "    References\n",
    "    ----------\n",
    "    .. [] 책: 저자명. (발행년). Title of chapter. In 편집자명 (역할), title of book (쪽). 발행지 : 발행사\n",
    "    .. [] 학위 논문: 학위자명, \"논문제목\", 대학원 이름 석사 학윈논문, 1990 \n",
    "    .. [] 저널 논문: 저자. \"논문제목\". 저널명, . pp.\n",
    "\n",
    "    :File name: ${NAME}.py\n",
    "    :author: ok97465\n",
    "    :Date created: ${DATE} ${TIME}\n",
    "    \"\"\"\n",
    "\n",
    "\n",
    "```"
   ]
  },
  {
   "cell_type": "markdown",
   "metadata": {},
   "source": [
    "## Docstring format 변경\n",
    "File --> Settings --> Tools --> Python Integrated Tools --> Docstring format을 Numpy로 변경"
   ]
  },
  {
   "cell_type": "markdown",
   "metadata": {},
   "source": [
    "## Offline 환경에서 Quick Document 사용 시 버벅임 최소화\n",
    "File --> Settings --> Tools --> Python External Documentation의 항목 전체 삭제"
   ]
  },
  {
   "cell_type": "markdown",
   "metadata": {},
   "source": [
    "## 자주 쓰는 함수 추가\n",
    "생성한 Python Project 폴더에 아래 파일을 압축 해제하여 oklib 폴더를 생성한다.\n"
   ]
  }
 ],
 "metadata": {
  "hide_input": false,
  "kernelspec": {
   "display_name": "Python 3",
   "language": "python",
   "name": "python3"
  },
  "language_info": {
   "codemirror_mode": {
    "name": "ipython",
    "version": 3
   },
   "file_extension": ".py",
   "mimetype": "text/x-python",
   "name": "python",
   "nbconvert_exporter": "python",
   "pygments_lexer": "ipython3",
   "version": "3.6.5"
  },
  "toc": {
   "nav_menu": {},
   "number_sections": true,
   "sideBar": true,
   "skip_h1_title": true,
   "title_cell": "Table of Contents",
   "title_sidebar": "Contents",
   "toc_cell": false,
   "toc_position": {},
   "toc_section_display": true,
   "toc_window_display": true
  }
 },
 "nbformat": 4,
 "nbformat_minor": 2
}
