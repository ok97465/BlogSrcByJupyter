{
 "cells": [
  {
   "cell_type": "markdown",
   "metadata": {},
   "source": [
    "///---\n",
    "layout: post\n",
    "title: \"Pycharm(Python)을 Matlab 처럼\"\n",
    "comments: true\n",
    "share: true\n",
    "date: 2018-09-04 23:15:00\n",
    "description: Spyder IDE는 Python을 Matlab처럼 사용 할 수 있는 Open Source 이지만, 안정성과 편의성이 좀 떨어진다. 그래서 개발툴로서 완성도 높은 Pycharm의 설정을 수정하여 Matlab처럼 사용하는 방법을 정리한다.\n",
    "tags: python pycharm matlab\n",
    "sitemap :\n",
    "  changefreq : daily\n",
    "  priority : 1.0\n",
    "///---"
   ]
  },
  {
   "cell_type": "markdown",
   "metadata": {},
   "source": [
    "# Pycharm(Python)을 Matlab 처럼 사용하기\n",
    "---"
   ]
  },
  {
   "cell_type": "markdown",
   "metadata": {},
   "source": [
    "## Script Run 시 현재 Console에서 실행\n",
    "File --> Settings --> Build, Execution, Deployment --> Console\n",
    "  * Always show debug console : 활성화\n",
    "  * User existing console for \"Run with Python console\" : 활성화"
   ]
  },
  {
   "cell_type": "markdown",
   "metadata": {},
   "source": [
    "## Python Console 실행 시 자주 사용하는 함수 자동 import\n",
    "File --> Settings --> Build, Execution, Deployment --> Console --> Python Console --> Start Script에 추가\n",
    "``` python\n",
    "%load_ext autoreload\n",
    "%autoreload 2\n",
    "\n",
    "from oklib.init import load_func_frequently\n",
    "load_func_frequently(globals())\n",
    "```\n",
    "\n",
    "<figure>\n",
    "    <img src='../assets/images/SettingPycharm/console_import.gif' alt='missing' width=\"640\" />\n",
    "    <figcaption class=\"figure-caption\">Python Console 실행 시 자주 사용하는 함수 자동 import</figcaption>\n",
    "</figure>"
   ]
  },
  {
   "cell_type": "markdown",
   "metadata": {},
   "source": [
    "## Matplotlib의 Cursor Marker 기능 활성화\n",
    "```sh\n",
    "pip install mplcursors\n",
    "```\n",
    "File --> Settings --> Build, Execution, Deployment --> Console --> Python Console --> Enviroment variables에 추가  \n",
    "Name : MPLCURSORS  \n",
    "Value : {\"multiple\": 1}\n",
    "\n",
    "<figure>\n",
    "    <img src='../assets/images/SettingPycharm/mpl_cursors.gif' alt='missing' width=\"640\" />\n",
    "    <figcaption class=\"figure-caption\">Matplotlib의 Cursor Marker 기능 활성화</figcaption>\n",
    "</figure>"
   ]
  },
  {
   "cell_type": "markdown",
   "metadata": {},
   "source": [
    "## Variable 창에서 자주 쓰는 함수 숨김\n",
    "pycharm 폴더/helpers/pydev/\\_pydev\\_bundle/pydev\\_ipython\\_console.py의 get\\_ipython\\_hidden\\_vars\\_dict에 추가\n",
    "\n",
    "``` python\n",
    "    user_hidden_dict.setdefault('rad2deg', '')\n",
    "    user_hidden_dict.setdefault('deg2rad', '')\n",
    "    user_hidden_dict.setdefault('arange', '')\n",
    "    user_hidden_dict.setdefault('arccos', '')\n",
    "    user_hidden_dict.setdefault('arcsin', '')\n",
    "    user_hidden_dict.setdefault('arctan', '')\n",
    "    user_hidden_dict.setdefault('array', '')\n",
    "    user_hidden_dict.setdefault('conj', '')\n",
    "    user_hidden_dict.setdefault('cos', '')\n",
    "    user_hidden_dict.setdefault('sin', '')\n",
    "    user_hidden_dict.setdefault('tan', '')\n",
    "    user_hidden_dict.setdefault('exp', '')\n",
    "    user_hidden_dict.setdefault('zeros', '')\n",
    "    user_hidden_dict.setdefault('pi', '')\n",
    "    user_hidden_dict.setdefault('randn', '')\n",
    "    user_hidden_dict.setdefault('standard_normal', '')\n",
    "    user_hidden_dict.setdefault('randint', '')\n",
    "    user_hidden_dict.setdefault('uniform', '')\n",
    "    user_hidden_dict.setdefault('choice', '')\n",
    "    user_hidden_dict.setdefault('sqrt', '')\n",
    "    user_hidden_dict.setdefault('dot', '')\n",
    "    user_hidden_dict.setdefault('fig', '')\n",
    "    user_hidden_dict.setdefault('ax', '')\n",
    "```"
   ]
  },
  {
   "cell_type": "markdown",
   "metadata": {},
   "source": [
    "## Matplotlib의 한글 표시\n",
    "파이썬폴더/Lib/site-packages/matplotlib/mpl-data/matplotlibrc 파일 수정  \n",
    "  * backend      : Qt5Agg  \n",
    "  * font.family         : Malgun Gothic  \n",
    "  * axes.unicode_minus  : False  \n",
    "  * savefig.transparent : True  \n",
    "  * figure.facecolor : 0.95"
   ]
  },
  {
   "cell_type": "markdown",
   "metadata": {},
   "source": [
    "## Matlab의 자주쓰는 Keyword 추가\n",
    "- File --> Settings --> Editor --> Live Templates --> Python 에 아래 명령들 추가\n",
    "- 명령 추가 시 하단의 Define을 눌러 Python Check\n",
    "\n",
    "<figure>\n",
    "    <img src='../assets/images/SettingPycharm/import_matlab.gif' alt='missing' width=\"640\" />\n",
    "    <figcaption class=\"figure-caption\">Matlab의 자주 쓰는 명령어 자동 완성</figcaption>\n",
    "</figure>"
   ]
  },
  {
   "cell_type": "markdown",
   "metadata": {},
   "source": [
    "### clear 명령\n",
    "Abbreviation : clear  \n",
    "Template text :  \n",
    "``` python\n",
    "from oklib.init import ipython_clear\n",
    "ipython_clear(b_plot_close=True)\n",
    "from oklib.init import load_func_frequently\n",
    "load_func_frequently(globals())\n",
    "\n",
    "```"
   ]
  },
  {
   "cell_type": "markdown",
   "metadata": {},
   "source": [
    "### 새로운 figure 명령\n",
    "Abbreviation : fig,  \n",
    "Template text :  \n",
    "``` python\n",
    "fig, ax = subplots()\n",
    "ax.plot($1$)\n",
    "ax.set_title('$2$')\n",
    "ax.set_xlabel('$3$')\n",
    "ax.set_ylabel('$4$')\n",
    "ax.grid(True)\n",
    "```"
   ]
  },
  {
   "cell_type": "markdown",
   "metadata": {},
   "source": [
    "### matlab 명령 import\n",
    "Abbreviation : matlab   \n",
    "Template text :  \n",
    "``` python\n",
    "import numpy as np\n",
    "import matplotlib.pyplot as plt\n",
    "from matplotlib.pyplot import plot, hist, figure, subplots\n",
    "from oklib.signal import (db2, nextpow2, sind, cosd, tand, arcsind, arccosd, arctand)\n",
    "from oklib.plot import imagesc\n",
    "from oklib.plot_pg import imagesc_pg\n",
    "from oklib.file import save_vars, load_vars\n",
    "from numpy import (\n",
    "    pi, deg2rad, rad2deg, unwrap, angle, zeros, array, ones, linspace, cumsum, diff, arange, interp,\n",
    "    conj, exp, sqrt, vstack, hstack, dot)\n",
    "from numpy import (cos, sin, tan, arcsin, arccos, arctan)\n",
    "from numpy import (amin, amax, argmin, argmax, sum, mean)\n",
    "from numpy.fft import (fft, ifft, fft2, ifft2, fftshift, ifftshift)\n",
    "from numpy.linalg import svd, norm\n",
    "from numpy.random_intel import randn, standard_normal, randint, choice, uniform\n",
    "\n",
    "```"
   ]
  },
  {
   "cell_type": "markdown",
   "metadata": {},
   "source": [
    "### 모든 figure 창 닫기\n",
    "Abbreviation : close all\n",
    "Template text :  \n",
    "``` python\n",
    "plt.close('all')\n",
    "```"
   ]
  },
  {
   "cell_type": "markdown",
   "metadata": {},
   "source": [
    "### save 명령\n",
    "Abbreviation : save  \n",
    "Template text :  \n",
    "``` python\n",
    "save_vars('$END$', globals())\n",
    "```"
   ]
  },
  {
   "cell_type": "markdown",
   "metadata": {},
   "source": [
    "### load 명령\n",
    "Abbreviation : load  \n",
    "Template text :  \n",
    "``` python\n",
    "load_vars('$END$', globals())\n",
    "```"
   ]
  },
  {
   "cell_type": "markdown",
   "metadata": {},
   "source": [
    "### sympy 명령\n",
    "Abbreviation : sympy  \n",
    "Template text :  \n",
    "``` python\n",
    "import sympy\n",
    "from IPython.display import display\n",
    "from sympy import (\n",
    "    symbols, init_printing, pi, exp, sqrt, cos, sin, tan, atan,\n",
    "    diff, integrate, solve, Abs, Eq, simplify)\n",
    "from sympy.integrals.transforms import fourier_transform\n",
    "init_printing()\n",
    "$END$\n",
    "x, y, th1 = symbols('x y theta_1')\n",
    "\n",
    "# simultaneous Equation\n",
    "eq1 = Eq(lhs=x + sqrt(y) + th1**2, rhs=1)\n",
    "eq2 = Eq(lhs=x + y, rhs=0.5)\n",
    "eq3 = Eq(lhs=th1, rhs=0.8)\n",
    "display(eq1)\n",
    "display(eq2)\n",
    "display(eq3)\n",
    "answer = solve([eq1, eq2, eq3], x, y, th1)\n",
    "display(answer)\n",
    "\n",
    "# derviation\n",
    "fx = x**2\n",
    "dfx = diff(fx, x)\n",
    "display(dfx)\n",
    "\n",
    "# integral\n",
    "Fx = integrate(fx, x)\n",
    "display(Fx)\n",
    "\n",
    "# substitute\n",
    "expr = x**3 + 4*x*y - th1\n",
    "display(expr.subs([(x, 3), (y, 7), (th1, 30)]))\n",
    "\n",
    "#fourier transform\n",
    "Fourier_y = fourier_transform(exp(1j * pi * x**2), x, y)\n",
    "display(Fourier_y)\n",
    "\n",
    "```"
   ]
  },
  {
   "cell_type": "markdown",
   "metadata": {},
   "source": [
    "## Auto import\n",
    "- File --> Settings --> Editor --> General --> Auto import --> Python의 Show import popup check\n",
    "\n",
    "<figure>\n",
    "    <img src='../assets/images/SettingPycharm/autoimport.gif' alt='missing' width=\"360\" />\n",
    "    <figcaption class=\"figure-caption\">Auto import</figcaption>\n",
    "</figure>"
   ]
  },
  {
   "cell_type": "markdown",
   "metadata": {},
   "source": [
    "## 현재 데이터를 유지한 상태에서 디버깅\n",
    "- 현재 python 콘솔의 attach debbuger 클릭\n",
    "- break point 생성 후 script Run 수행 (debug script 아님)"
   ]
  },
  {
   "cell_type": "markdown",
   "metadata": {},
   "source": [
    "## File 생성 시 주석 추가\n",
    "File --> Settings --> File and Code Templates --> Python script에 추가\n",
    "``` python\n",
    "# -*- coding: utf-8 -*-\n",
    "r\"\"\"[Title]\n",
    "\n",
    "[Description]\n",
    "\n",
    "Example\n",
    "-------\n",
    "[example]\n",
    "\n",
    "Notes\n",
    "-----\n",
    "[Notes]\n",
    "\n",
    "References\n",
    "----------\n",
    ".. [] 책: 저자명. (발행년). Title of chapter. In 편집자명 (역할), title of book (쪽). 발행지 : 발행사\n",
    ".. [] 학위 논문: 학위자명, \"논문제목\", 대학원 이름 석사 학위논문, 1990 \n",
    ".. [] 저널 논문: 저자. \"논문제목\". 저널명, . pp.\n",
    "\n",
    ":File name: ${NAME}.py\n",
    ":author: ok97465\n",
    ":Date created: ${DATE} ${TIME}\n",
    "\"\"\"\n",
    "\n",
    "\n",
    "```"
   ]
  },
  {
   "cell_type": "markdown",
   "metadata": {},
   "source": [
    "## Docstring format 변경\n",
    "File --> Settings --> Tools --> Python Integrated Tools --> Docstring format을 Numpy로 변경"
   ]
  },
  {
   "cell_type": "markdown",
   "metadata": {},
   "source": [
    "## Offline 환경에서 Quick Document 사용 시 버벅임 최소화\n",
    "File --> Settings --> Tools --> Python External Documentation의 항목 전체 삭제"
   ]
  },
  {
   "cell_type": "markdown",
   "metadata": {},
   "source": [
    "## 자주 쓰는 함수 추가\n",
    "생성한 Python Project 폴더에 아래 파일을 압축 해제하여 oklib 폴더를 생성한다.  \n",
    "[oklib Download](/assets/data/oklib.zip)"
   ]
  }
 ],
 "metadata": {
  "hide_input": false,
  "kernelspec": {
   "display_name": "Python 3",
   "language": "python",
   "name": "python3"
  },
  "language_info": {
   "codemirror_mode": {
    "name": "ipython",
    "version": 3
   },
   "file_extension": ".py",
   "mimetype": "text/x-python",
   "name": "python",
   "nbconvert_exporter": "python",
   "pygments_lexer": "ipython3",
   "version": "3.6.5"
  },
  "toc": {
   "nav_menu": {},
   "number_sections": true,
   "sideBar": true,
   "skip_h1_title": true,
   "title_cell": "Table of Contents",
   "title_sidebar": "Contents",
   "toc_cell": false,
   "toc_position": {},
   "toc_section_display": true,
   "toc_window_display": true
  },
  "varInspector": {
   "cols": {
    "lenName": 16,
    "lenType": 16,
    "lenVar": 40
   },
   "kernels_config": {
    "python": {
     "delete_cmd_postfix": "",
     "delete_cmd_prefix": "del ",
     "library": "var_list.py",
     "varRefreshCmd": "print(var_dic_list())"
    },
    "r": {
     "delete_cmd_postfix": ") ",
     "delete_cmd_prefix": "rm(",
     "library": "var_list.r",
     "varRefreshCmd": "cat(var_dic_list()) "
    }
   },
   "types_to_exclude": [
    "module",
    "function",
    "builtin_function_or_method",
    "instance",
    "_Feature"
   ],
   "window_display": true
  }
 },
 "nbformat": 4,
 "nbformat_minor": 2
}
