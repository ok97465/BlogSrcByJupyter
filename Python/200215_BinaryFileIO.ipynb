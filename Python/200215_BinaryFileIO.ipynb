{
 "cells": [
  {
   "cell_type": "markdown",
   "metadata": {},
   "source": [
    "///---\n",
    "layout: post\n",
    "title: \"Python에서 이진파일 (Binary file) 입출력\"\n",
    "comments: true\n",
    "share: true\n",
    "date: 2020-02-15 12:58:00\n",
    "description: Python에서 이진 파일을 다루는 법을 소개한다.\n",
    "tags: python\n",
    "toc: true\n",
    "sitemap :\n",
    "  changefreq : daily\n",
    "  priority : 1.0\n",
    "///---"
   ]
  },
  {
   "cell_type": "markdown",
   "metadata": {},
   "source": [
    "# Python에서 이진파일 (Binary file) 입출력"
   ]
  },
  {
   "cell_type": "markdown",
   "metadata": {},
   "source": [
    "Python에는 이진파일을 다루는 여러 방법이 존재한다. 여기서는 numpy, ctypes ,struct 모듈을 이용하는 방법을 소개한다."
   ]
  },
  {
   "cell_type": "markdown",
   "metadata": {},
   "source": [
    "  \n",
    "아래 예제코드에서 다룰 이진파일의 구조는 다음과 같다.\n",
    "```cpp\n",
    "// Litte endian\n",
    "struct header\n",
    "{\n",
    "    int8_t val1 = -34;\n",
    "    uint16_t val2 = 257;\n",
    "    double val3 = 36.3948;\n",
    "    float array[3][2] = \n",
    "    {\n",
    "        {1.1, 8.8},\n",
    "        {5.5, 9.9},\n",
    "        {6.6, 7.7}\n",
    "    };\n",
    "    std::complex<double> carray[5] = \n",
    "    {\n",
    "        {1, 2}, {3, 4}, {5, 6}, {7, 8}, {8, 9}\n",
    "    };\n",
    "};\n",
    "```"
   ]
  },
  {
   "cell_type": "markdown",
   "metadata": {},
   "source": [
    "## Numpy module을 이용한 이진파일 처리\n",
    "\n",
    "Numpy에서는 행렬 저장을 위한 Npy 파일 형태만이 아니라 C언어 형태의 이진파일을 읽고 쓸수 있다. Bitfield를 포함하는 이진파일이 아니라면 Numpy API로 이진 파일을 다룰수 있기 때문에 내가 가장 많이 쓰는 방법이다.  \n",
    "  \n",
    "이진파일을 처리하기 위해서는 우선 Byte order와 자료형명이 정해져야 한다. Byte order와 자료형명은 다음과 같다."
   ]
  },
  {
   "cell_type": "markdown",
   "metadata": {},
   "source": [
    "### Byte order[1]\n",
    "\n",
    "Numpy에서 Byte order는 <, >를 이용하여 지정할 수 있다. 자료형명과 붙여서 사용하게 된다."
   ]
  },
  {
   "cell_type": "markdown",
   "metadata": {},
   "source": [
    "| Character | Byte order             |\n",
    "|:---------:|------------------------|\n",
    "| =         | native                 |\n",
    "| <         | little-endian          |\n",
    "| >         | big-endian             |\n",
    "| \\|        | not applicable         |"
   ]
  },
  {
   "cell_type": "markdown",
   "metadata": {},
   "source": [
    "### 자료형명"
   ]
  },
  {
   "cell_type": "markdown",
   "metadata": {},
   "source": [
    "numpy.sctypeDict를 참조하면 다음과 같다.\n",
    "\n",
    "| Code   | C Type                  | Alias                                                        | Size |\n",
    "|:------:|:-----------------------:|--------------------------------------------------------------|:----:|\n",
    "| ?, b1  | _Bool                   | bool, Bool, bool8                                            | 1    |\n",
    "| b, i1  | signed char             | int8, Int8, byte                                             | 1    |\n",
    "| B, u1  | unsigned char           | uint8, UInt8, ubyte                                          | 1    |\n",
    "| h, i2  | short                   | int16, Int16, short                                          | 2    |\n",
    "| H, u2  | unsigned short          | uint16, UInt16, ushort                                       | 2    |\n",
    "| i, i4  | int                     | int32, Int32, intc                                           | 4    |\n",
    "| I, u4  | unsigned int            | uint32, UInt32, uintc                                        | 4    |\n",
    "| l, i8  | long                    | int, int0, int64, Int64, intp, long                          | 8    |\n",
    "| L, u8  | unsigned long           | uint, uint0, uint64, Uint64, UInt64, uintp                   | 8    |\n",
    "| q      | long long               | longlong                                                     | 8    |\n",
    "| Q      | unsigned long long      | ulonglong                                                    | 8    |\n",
    "| e, f2  | half precision          | float16, Float16, half                                       | 2    |\n",
    "| f, f4  | float                   | float32, Float32, single                                     | 4    |\n",
    "| d, f8  | double                  | float, float64, Float64, double                              | 8    |\n",
    "| g, f16 | \\_\\_float128            | float128, Float128, longdouble, longfloat                    | 16   |\n",
    "| F, c8  | complex\\<float\\>        | Complex32, complex64, csingle, singlecomplex                 | 8    |\n",
    "| D, c16 | complex\\<double\\>       | cdouble, cfloat, complex, complex128, Complex64              | 16   |\n",
    "| G, c32 | complex\\<\\_\\_float128\\> | clongdouble, clongfloat, Complex128, complex256, longcomplex | 32   |\n",
    "\n",
    "Numpy는 하나의 자료형에 너무 많은 이름을 지원하고 있다. signed char를 표현하는 방법은 'b', 'i1', 'int8', 'Int8', 'byte', numpy.byte, numpy.int8 등 7가지로 오히려 혼란스럽다. 특히 Complex자료형의 경우 Complex32와 complex32 전혀 다른 자료형이므로 numpy 자료형에서는 대소문자에 특별히 유의하여야 한다."
   ]
  },
  {
   "cell_type": "code",
   "execution_count": 1,
   "metadata": {},
   "outputs": [],
   "source": [
    "#!/usr/bin/env python3\n",
    "# -*- coding: utf-8 -*-\n",
    "\"\"\"\n",
    "Created on Sun Feb 16 14:42:38 2020\n",
    "\n",
    "@author: ok97465\n",
    "\"\"\"\n",
    "# %% Import\n",
    "# Standard library imports\n",
    "from collections import defaultdict\n",
    "\n",
    "# Third party imports\n",
    "import numpy as np\n",
    "\n",
    "# %% Ctype list\n",
    "ctype_list = {'x': 'pad byte',\n",
    "              'c': 'char',\n",
    "              'b': 'signed char',\n",
    "              'B': 'unsigned char',\n",
    "              '?': '_Bool',\n",
    "              'h': 'short',\n",
    "              'H': 'unsigned short',\n",
    "              'i': 'int',\n",
    "              'I': 'unsigned int',\n",
    "              'l': 'long',\n",
    "              'L': 'unsigned long',\n",
    "              'q': 'long long',\n",
    "              'Q': 'unsigned long long',\n",
    "              'n': 'ssize_t',\n",
    "              'N': 'size_t',\n",
    "              'e': 'half precision',\n",
    "              'f': 'float',\n",
    "              'd': 'double',\n",
    "              'g': '__float128',\n",
    "              'F': 'complex<float>',\n",
    "              'D': 'complex<double>',\n",
    "              'G': 'complex<__float128>'}\n",
    "\n",
    "\n",
    "class TypeInfo:\n",
    "    def __init__(self):\n",
    "        self.char = ''\n",
    "        self.names = list()\n",
    "        self.size = 0\n",
    "        self.ctype_name = ''\n",
    "\n",
    "\n",
    "types_arrange = defaultdict(TypeInfo)\n",
    "\n",
    "for name, type_class in np.sctypeDict.items():\n",
    "    try:\n",
    "        if type_class() is None:\n",
    "            #print(type_class, ' is None')\n",
    "            continue\n",
    "    except TypeError:\n",
    "        #print(type_class, ' is None')\n",
    "        continue\n",
    "\n",
    "    if isinstance(name, int):\n",
    "        continue\n",
    "    elif name[-1] == '_':\n",
    "        continue\n",
    "    elif len(name) == 1:\n",
    "        types_arrange[type_class].char = name\n",
    "        types_arrange[type_class].ctype_name = ctype_list.get(name, '')\n",
    "        types_arrange[type_class].size = type_class().nbytes\n",
    "    else:\n",
    "        types_arrange[type_class].names.append(name)\n",
    "\n",
    "if 0:\n",
    "    for type_class, typeinfo in types_arrange.items():\n",
    "        print(f'{typeinfo.char}\\t{typeinfo.ctype_name}\\t', end='')\n",
    "        for idx, alias in enumerate(\n",
    "                sorted(typeinfo.names, key=lambda v: (v.upper(), v[0].isupper()))):\n",
    "            if idx == 0:\n",
    "                print(f'{alias}', end='')\n",
    "            else:\n",
    "                print(f', {alias}', end='')\n",
    "        print(f'\\t{typeinfo.size}')"
   ]
  },
  {
   "cell_type": "markdown",
   "metadata": {},
   "source": [
    "### 이진 파일 읽기\n",
    "Numpy에서는 이진 파일 전체를 dict형태로 읽어오는 방법과 순차적으로 읽어오는 방법이 있다."
   ]
  },
  {
   "cell_type": "markdown",
   "metadata": {},
   "source": [
    "#### 파일을 dict에 저장\n",
    "파일 전체를 dict에 저장하기 위해서는 읽어올 변수와 변수들의 자료형을 np.dtype에 선언해야 한다. 자료형은 문자형과 numpy built-in type으로 선언할 수 있다. 자료형을 문자형으로 선언할 시에는 \"Byte-order\" + \"element 개수\" + \"자료형명\"순이다. Byte-order가 현재 장비와 동일할 경우 생략할 수 있고 element 개수도 1일 경우에 생략할 수 있다. ALIAS 자료형명을 사용할 경우에는 Byte-order를 명시 할 수 없다."
   ]
  },
  {
   "cell_type": "code",
   "execution_count": 2,
   "metadata": {},
   "outputs": [
    {
     "name": "stdout",
     "output_type": "stream",
     "text": [
      "[-34]\n",
      "[257]\n",
      "[36.3948]\n",
      "[[[1.1 8.8]\n",
      "  [5.5 9.9]\n",
      "  [6.6 7.7]]]\n",
      "[[1.+2.j 3.+4.j 5.+6.j 7.+8.j 8.+9.j]]\n"
     ]
    }
   ],
   "source": [
    "# Show in Markdown\n",
    "import numpy as np\n",
    "from numpy import fromfile\n",
    "\n",
    "types = np.dtype([('val1', '<b'),\n",
    "                  ('val2', '<u2'),\n",
    "                  ('valf', np.float64),\n",
    "                  ('array1', '<(3, 2)f'),\n",
    "                  ('array2', '5complex128')])\n",
    "\n",
    "data = fromfile('data_c.dat', types)\n",
    "print(data['val1'])\n",
    "print(data['val2'])\n",
    "print(data['valf'])\n",
    "print(data['array1'])\n",
    "print(data['array2'])"
   ]
  },
  {
   "cell_type": "markdown",
   "metadata": {},
   "source": [
    "#### 순차적으로 읽어오기\n",
    "fromfile에 count를 설정하지 않으면 지정된 자료형으로 파일 끝까지 읽어오기 때문에 꼭 Count를 지정하여야 한다."
   ]
  },
  {
   "cell_type": "code",
   "execution_count": 3,
   "metadata": {},
   "outputs": [
    {
     "name": "stdout",
     "output_type": "stream",
     "text": [
      "[-34]\n",
      "[257]\n",
      "[36.3948]\n",
      "[[[1.1 8.8]\n",
      "  [5.5 9.9]\n",
      "  [6.6 7.7]]]\n",
      "[1.+2.j 3.+4.j 5.+6.j 7.+8.j 8.+9.j]\n"
     ]
    }
   ],
   "source": [
    "# Show in Markdown\n",
    "\n",
    "with open('data_c.dat' ,'rb') as fp:\n",
    "    val1 = fromfile(fp, np.int8, count=1)\n",
    "    val2 = fromfile(fp, \"int16\", count=1)\n",
    "    valf = fromfile(fp, \"<d\", count=1)\n",
    "    array1 = fromfile(fp, \"<(3, 2)f\", count=1)\n",
    "    array2 = fromfile(fp, \"c16\", count=5)\n",
    "    \n",
    "print(val1)\n",
    "print(val2)\n",
    "print(valf)\n",
    "print(array1)\n",
    "print(array2)"
   ]
  },
  {
   "cell_type": "markdown",
   "metadata": {},
   "source": [
    "### 이진 파일 쓰기\n",
    "Numpy array는 tofile을 이용하여 자신의 값을 Binary로 저장할 수 있다. tofile 사용 시에는 ```자료형 선언을 위해서 format=을 명시하거나 자료형 선언 전에 \"\"을 추가해야만 한다.```"
   ]
  },
  {
   "cell_type": "code",
   "execution_count": 4,
   "metadata": {},
   "outputs": [
    {
     "name": "stdout",
     "output_type": "stream",
     "text": [
      "File is same : True\n"
     ]
    }
   ],
   "source": [
    "# Show in Markdown\n",
    "with open('data_c_by_numpy.dat', 'wb') as fp:\n",
    "    val1.tofile(fp, format='int8')\n",
    "    val2.tofile(fp, format='i2')\n",
    "    valf.tofile(fp, format='<f8')\n",
    "    array1.tofile(fp, format='f4')\n",
    "    array2.tofile(fp, \"\", 'c16')\n",
    "\n",
    "from filecmp import cmp\n",
    "print(f'File is same : {cmp(\"data_c.dat\", \"data_c_by_numpy.dat\")}')"
   ]
  },
  {
   "cell_type": "markdown",
   "metadata": {},
   "source": [
    "## Ctypes module을 이용한 이진파일 처리"
   ]
  },
  {
   "cell_type": "markdown",
   "metadata": {},
   "source": [
    "ctypes 모듈의 struct를 이용하면 Bitfiled 까지 쉽게 다룰수 있다. ctypes struct는 C언어의 구조체와 유사한 형태를 가지고 있어서 C언어에 익숙한 사람에게 유용하다.\n",
    "\n",
    "[ctypeslib2](https://github.com/trolldbois/ctypeslib) 를 이용하면 C언어 구조체를 ctypes struct로 쉽게 변환 할수도 있다. 현재 C 언어 프로그램과 병행하는 업무를 진행중이라면 추천할 만한 이진파일 처리 방법이다."
   ]
  },
  {
   "cell_type": "markdown",
   "metadata": {},
   "source": [
    "### Ctypes struct"
   ]
  },
  {
   "cell_type": "markdown",
   "metadata": {},
   "source": [
    "ctypes struct는 python의 class를 이용하고 class 선언시에 ctypes의 Structure를 상속받는다. Byte order는 LittelEndianStructure, BigEndianStructure를 이용하여 지정할 수 있다.  \n",
    "Structure의 attribute로 \\_pack\\_의 값을 설정하면 C 언어의 #pragma pack(1)과 동일한 역할을 하게 되고 변수명과 자료형은 \\_fields\\_를 이용한다. "
   ]
  },
  {
   "cell_type": "code",
   "execution_count": 5,
   "metadata": {},
   "outputs": [],
   "source": [
    "# Show in Markdown\n",
    "from ctypes import (LittleEndianStructure, c_float, c_double,\n",
    "                    c_int8, c_uint16)\n",
    "\n",
    "class Header(LittleEndianStructure):\n",
    "    _pack_ = 1\n",
    "    _fields_ = [('val1', c_int8),\n",
    "                ('val2', c_uint16),\n",
    "                ('valf', c_double),\n",
    "                ('array1', 6 * c_float),\n",
    "                ('array2', 10 * c_double)]"
   ]
  },
  {
   "cell_type": "markdown",
   "metadata": {},
   "source": [
    "### 이진 파일 읽기\n",
    "\n",
    "파일을 'rb'로 열고 readinto를 수행하면 이진 파일을 읽을 수 있다."
   ]
  },
  {
   "cell_type": "code",
   "execution_count": 6,
   "metadata": {},
   "outputs": [
    {
     "name": "stdout",
     "output_type": "stream",
     "text": [
      "-34\n",
      "257\n",
      "36.3948\n",
      "[1.1 8.8 5.5 9.9 6.6 7.7]\n",
      "[1.+2.j 3.+4.j 5.+6.j 7.+8.j 8.+9.j]\n"
     ]
    }
   ],
   "source": [
    "# Show in Markdown\n",
    "from numpy import array\n",
    "header = Header()\n",
    "with open('data_c.dat', 'rb') as fp:\n",
    "    fp.readinto(header)\n",
    "\n",
    "print(header.val1)\n",
    "print(header.val2)\n",
    "print(header.valf)\n",
    "\n",
    "array1 = array(header.array1)\n",
    "print(array1)\n",
    "\n",
    "array2 = array(header.array2[0::2]) + 1j * array(header.array2[1::2])\n",
    "print(array2)"
   ]
  },
  {
   "cell_type": "markdown",
   "metadata": {},
   "source": [
    "### 이진 파일 쓰기"
   ]
  },
  {
   "cell_type": "code",
   "execution_count": 7,
   "metadata": {},
   "outputs": [
    {
     "name": "stdout",
     "output_type": "stream",
     "text": [
      "File is same : True\n"
     ]
    }
   ],
   "source": [
    "# Show in Markdown\n",
    "with open('data_c_ctypes.dat', 'wb') as fp:\n",
    "    fp.write(header)\n",
    "    \n",
    "from filecmp import cmp\n",
    "print(f'File is same : {cmp(\"data_c.dat\", \"data_c_ctypes.dat\")}')"
   ]
  },
  {
   "cell_type": "markdown",
   "metadata": {},
   "source": [
    "## Struct module을 이용한 이진파일 처리\n",
    "\n",
    "Numpy가 없는 python에서 간단한 이진파일을 처리할때 사용한다."
   ]
  },
  {
   "cell_type": "markdown",
   "metadata": {},
   "source": [
    "### Byte order [2]"
   ]
  },
  {
   "cell_type": "markdown",
   "metadata": {},
   "source": [
    "| Character | Byte order             | Size     | Alignment |\n",
    "|-----------|------------------------|----------|-----------|\n",
    "| @         | native                 | native   | native    |\n",
    "| =         | native                 | standard | none      |\n",
    "| <         | little-endian          | standard | none      |\n",
    "| >         | big-endian             | standard | none      |\n",
    "| !         | network (= big-endian) | standard | none      |"
   ]
  },
  {
   "cell_type": "markdown",
   "metadata": {},
   "source": [
    "### Format Characters [2]"
   ]
  },
  {
   "cell_type": "markdown",
   "metadata": {},
   "source": [
    "| Format | C Type             | Python type       | Standard size |\n",
    "|--------|--------------------|-------------------|---------------|\n",
    "| x      | pad byte           | no value          |               |\n",
    "| c      | char               | bytes of length 1 | 1             |\n",
    "| b      | signed char        | integer           | 1             |\n",
    "| B      | unsigned char      | integer           | 1             |\n",
    "| ?      | _Bool              | bool              | 1             |\n",
    "| h      | short              | integer           | 2             |\n",
    "| H      | unsigned short     | integer           | 2             |\n",
    "| i      | int                | integer           | 4             |\n",
    "| I      | unsigned int       | integer           | 4             |\n",
    "| l      | long               | integer           | 4             |\n",
    "| L      | unsigned long      | integer           | 4             |\n",
    "| q      | long long          | integer           | 8             |\n",
    "| Q      | unsigned long long | integer           | 8             |\n",
    "| n      | ssize_t            | integer           |               |\n",
    "| N      | size_t             | integer           |               |\n",
    "| e      | half precision     | float             | 2             |\n",
    "| f      | float              | float             | 4             |\n",
    "| d      | double             | float             | 8             |\n",
    "| s      | char[]             | bytes             |               |\n",
    "| p      | char[]             | bytes             |               |\n",
    "| P      | void *             | integer           |               |"
   ]
  },
  {
   "cell_type": "markdown",
   "metadata": {},
   "source": [
    "### 이진 파일 읽기"
   ]
  },
  {
   "cell_type": "code",
   "execution_count": 8,
   "metadata": {},
   "outputs": [
    {
     "name": "stdout",
     "output_type": "stream",
     "text": [
      "(-34,)\n",
      "(257,)\n",
      "(36.3948,)\n",
      "(1.100000023841858, 8.800000190734863, 5.5, 9.899999618530273, 6.599999904632568, 7.699999809265137)\n",
      "(1.0, 2.0, 3.0, 4.0, 5.0, 6.0, 7.0, 8.0, 8.0, 9.0)\n"
     ]
    }
   ],
   "source": [
    "# Show in Markdown\n",
    "from struct import unpack\n",
    "\n",
    "with open('data_c.dat', 'rb') as fp:\n",
    "    val1 = unpack('<1b', fp.read(1))\n",
    "    val2 = unpack('H', fp.read(2))\n",
    "    valf = unpack('<d', fp.read(8))\n",
    "    array1 = unpack('<6f', fp.read(24))\n",
    "    array2 = unpack('<10d', fp.read(80))\n",
    "\n",
    "print(val1)\n",
    "print(val2)\n",
    "print(valf)\n",
    "print(array1)\n",
    "print(array2)"
   ]
  },
  {
   "cell_type": "markdown",
   "metadata": {},
   "source": [
    "### 이진 파일 쓰기"
   ]
  },
  {
   "cell_type": "code",
   "execution_count": 9,
   "metadata": {},
   "outputs": [
    {
     "name": "stdout",
     "output_type": "stream",
     "text": [
      "File is same : True\n"
     ]
    }
   ],
   "source": [
    "# Show in Markdown\n",
    "from struct import pack\n",
    "\n",
    "with open('data_c_struct.dat', 'wb') as fp:\n",
    "    fp.write(pack('<1b', *val1))\n",
    "    fp.write(pack('H', *val2))\n",
    "    fp.write(pack('<d', *valf))\n",
    "    fp.write(pack('<6f', *array1))\n",
    "    fp.write(pack('<10d', *array2))\n",
    "    \n",
    "from filecmp import cmp\n",
    "print(f'File is same : {cmp(\"data_c.dat\", \"data_c_struct.dat\")}')"
   ]
  },
  {
   "cell_type": "markdown",
   "metadata": {},
   "source": [
    "## 참고 문헌\n",
    "[1] https://docs.scipy.org/doc/numpy/reference/generated/numpy.dtype.byteorder.html\n",
    "[2] https://docs.python.org/3/library/struct.html"
   ]
  }
 ],
 "metadata": {
  "kernelspec": {
   "display_name": "Python 3",
   "language": "python",
   "name": "python3"
  },
  "language_info": {
   "codemirror_mode": {
    "name": "ipython",
    "version": 3
   },
   "file_extension": ".py",
   "mimetype": "text/x-python",
   "name": "python",
   "nbconvert_exporter": "python",
   "pygments_lexer": "ipython3",
   "version": "3.7.4"
  },
  "toc-autonumbering": true,
  "toc-showcode": false,
  "toc-showtags": false
 },
 "nbformat": 4,
 "nbformat_minor": 4
}
