{
 "cells": [
  {
   "cell_type": "markdown",
   "metadata": {},
   "source": [
    "///---\n",
    "layout: post\n",
    "title: \"Python에서 이진파일 (Binary file) 입출력\"\n",
    "comments: true\n",
    "share: true\n",
    "date: 2019-07-07 12:58:00\n",
    "description: Python에서 이진 파일을 다루는 법을 소개한다.\n",
    "tags: python\n",
    "toc: true\n",
    "sitemap :\n",
    "  changefreq : daily\n",
    "  priority : 1.0\n",
    "///---"
   ]
  },
  {
   "cell_type": "markdown",
   "metadata": {},
   "source": [
    "# Python에서 이진파일 (Binary file) 입출력"
   ]
  },
  {
   "cell_type": "markdown",
   "metadata": {},
   "source": [
    "Python에는 이진파일을 다루는 여러 방법이 존재한다. 여기서는 numpy, struct, ctypes를 이용하는 방법을 소개한다."
   ]
  },
  {
   "cell_type": "markdown",
   "metadata": {},
   "source": [
    "## Numpy"
   ]
  },
  {
   "cell_type": "markdown",
   "metadata": {},
   "source": [
    "### Byte order[1]"
   ]
  },
  {
   "cell_type": "markdown",
   "metadata": {},
   "source": [
    "| Character | Byte order             |\n",
    "|-----------|------------------------|\n",
    "| =         | native                 |\n",
    "| <         | little-endian          |\n",
    "| >         | big-endian             |\n",
    "| \\|        | not applicable         |"
   ]
  },
  {
   "cell_type": "markdown",
   "metadata": {},
   "source": [
    "### Format Characters"
   ]
  },
  {
   "cell_type": "markdown",
   "metadata": {},
   "source": [
    "numpy.sctypeDict를 참조하면 다음과 같다.\n",
    "\n",
    "| Format | C Type             | Alias                                                             | Size |\n",
    "|--------|--------------------|-------------------------------------------------------------------|------|\n",
    "| ?      | _Bool              | b1, bool, Bool, bool8                                             | 1    |\n",
    "| b      | signed char        | i1, int8, Int8, byte                                              | 1    |\n",
    "| B      | unsigned char      | u1, uint8, UInt8, ubyte                                           | 1    |\n",
    "| h      | short              | i2, int16, Int16, short                                           | 2    |\n",
    "| H      | unsigned short     | u2, uint16, UInt16, ushort                                        | 2    |\n",
    "| i      | int                | i4, int32, Int32, intc                                            | 4    |\n",
    "| I      | unsigned int       | u4, uint32, UInt32, uintc                                         | 4    |\n",
    "| l      | long               | i8, int, int0, int64, Int64, intp, long                           | 8    |\n",
    "| L      | unsigned long      | u8, uint, uint0, uint64, Uint64, UInt64, uintp                    | 8    |\n",
    "| q      | long long          | longlong                                                          | 8    |\n",
    "| Q      | unsigned long long | ulonglong                                                         | 8    |\n",
    "| e      | half precision     | f2, float16, Float16, half                                        | 2    |\n",
    "| f      | float              | f4, float32, Float32, single                                      | 4    |\n",
    "| d      | double             | f8, float, float64, Float64, double                               | 8    |\n",
    "| g      |                    | f16, float128, Float128, longdouble, longfloat                    | 16   |\n",
    "| F      |                    | c8, Complex32, complex64, csingle, singlecomplex                  | 8    |\n",
    "| D      |                    | c16, cdouble, cfloat, complex, complex128, Complex64              | 16   |\n",
    "| G      |                    | c32, clongdouble, clongfloat, Complex128, complex256, longcomplex | 32   |"
   ]
  },
  {
   "cell_type": "code",
   "execution_count": 2,
   "metadata": {},
   "outputs": [],
   "source": [
    "#!/usr/bin/env python3\n",
    "# -*- coding: utf-8 -*-\n",
    "\"\"\"\n",
    "Created on Sun Feb 16 14:42:38 2020\n",
    "\n",
    "@author: ok97465\n",
    "\"\"\"\n",
    "# %% Import\n",
    "# Standard library imports\n",
    "from collections import defaultdict\n",
    "\n",
    "# Third party imports\n",
    "import numpy as np\n",
    "\n",
    "# %% Ctype list\n",
    "ctype_list = {'x': 'pad byte',\n",
    "              'c': 'char',\n",
    "              'b': 'signed char',\n",
    "              'B': 'unsigned char',\n",
    "              '?': '_Bool',\n",
    "              'h': 'short',\n",
    "              'H': 'unsigned short',\n",
    "              'i': 'int',\n",
    "              'I': 'unsigned int',\n",
    "              'l': 'long',\n",
    "              'L': 'unsigned long',\n",
    "              'q': 'long long',\n",
    "              'Q': 'unsigned long long',\n",
    "              'n': 'ssize_t',\n",
    "              'N': 'size_t',\n",
    "              'e': 'half precision',\n",
    "              'f': 'float',\n",
    "              'd': 'double'}\n",
    "\n",
    "\n",
    "class TypeInfo:\n",
    "    def __init__(self):\n",
    "        self.char = ''\n",
    "        self.names = list()\n",
    "        self.size = 0\n",
    "        self.ctype_name = ''\n",
    "\n",
    "\n",
    "types_arrange = defaultdict(TypeInfo)\n",
    "\n",
    "for name, type_class in np.sctypeDict.items():\n",
    "    try:\n",
    "        if type_class() is None:\n",
    "            #print(type_class, ' is None')\n",
    "            continue\n",
    "    except TypeError:\n",
    "        #print(type_class, ' is None')\n",
    "        continue\n",
    "\n",
    "    if isinstance(name, int):\n",
    "        continue\n",
    "    elif name[-1] == '_':\n",
    "        continue\n",
    "    elif len(name) == 1:\n",
    "        types_arrange[type_class].char = name\n",
    "        types_arrange[type_class].ctype_name = ctype_list.get(name, '')\n",
    "        types_arrange[type_class].size = type_class().nbytes\n",
    "    else:\n",
    "        types_arrange[type_class].names.append(name)\n",
    "\n",
    "if 0:\n",
    "    for type_class, typeinfo in types_arrange.items():\n",
    "        print(f'{typeinfo.char}\\t{typeinfo.ctype_name}\\t', end='')\n",
    "        for idx, alias in enumerate(\n",
    "                sorted(typeinfo.names, key=lambda v: (v.upper(), v[0].isupper()))):\n",
    "            if idx == 0:\n",
    "                print(f'{alias}', end='')\n",
    "            else:\n",
    "                print(f', {alias}', end='')\n",
    "        print(f'\\t{typeinfo.size}')"
   ]
  },
  {
   "cell_type": "markdown",
   "metadata": {},
   "source": [
    "## Struct"
   ]
  },
  {
   "cell_type": "markdown",
   "metadata": {},
   "source": [
    "### Byte order [2]"
   ]
  },
  {
   "cell_type": "markdown",
   "metadata": {},
   "source": [
    "| Character | Byte order             | Size     | Alignment |\n",
    "|-----------|------------------------|----------|-----------|\n",
    "| @         | native                 | native   | native    |\n",
    "| =         | native                 | standard | none      |\n",
    "| <         | little-endian          | standard | none      |\n",
    "| >         | big-endian             | standard | none      |\n",
    "| !         | network (= big-endian) | standard | none      |"
   ]
  },
  {
   "cell_type": "markdown",
   "metadata": {},
   "source": [
    "### Format Characters [2]"
   ]
  },
  {
   "cell_type": "markdown",
   "metadata": {},
   "source": [
    "| Format | C Type             | Python type       | Standard size |\n",
    "|--------|--------------------|-------------------|---------------|\n",
    "| x      | pad byte           | no value          |               |\n",
    "| c      | char               | bytes of length 1 | 1             |\n",
    "| b      | signed char        | integer           | 1             |\n",
    "| B      | unsigned char      | integer           | 1             |\n",
    "| ?      | _Bool              | bool              | 1             |\n",
    "| h      | short              | integer           | 2             |\n",
    "| H      | unsigned short     | integer           | 2             |\n",
    "| i      | int                | integer           | 4             |\n",
    "| I      | unsigned int       | integer           | 4             |\n",
    "| l      | long               | integer           | 4             |\n",
    "| L      | unsigned long      | integer           | 4             |\n",
    "| q      | long long          | integer           | 8             |\n",
    "| Q      | unsigned long long | integer           | 8             |\n",
    "| n      | ssize_t            | integer           |               |\n",
    "| N      | size_t             | integer           |               |\n",
    "| e      | half precision     | float             | 2             |\n",
    "| f      | float              | float             | 4             |\n",
    "| d      | double             | float             | 8             |\n",
    "| s      | char[]             | bytes             |               |\n",
    "| p      | char[]             | bytes             |               |\n",
    "| P      | void *             | integer           |               |"
   ]
  },
  {
   "cell_type": "markdown",
   "metadata": {},
   "source": [
    "## 참고 문헌\n",
    "[1] https://docs.scipy.org/doc/numpy/reference/generated/numpy.dtype.byteorder.html\n",
    "[2] https://docs.python.org/3/library/struct.html"
   ]
  }
 ],
 "metadata": {
  "kernelspec": {
   "display_name": "Python 3",
   "language": "python",
   "name": "python3"
  },
  "language_info": {
   "codemirror_mode": {
    "name": "ipython",
    "version": 3
   },
   "file_extension": ".py",
   "mimetype": "text/x-python",
   "name": "python",
   "nbconvert_exporter": "python",
   "pygments_lexer": "ipython3",
   "version": "3.7.4"
  }
 },
 "nbformat": 4,
 "nbformat_minor": 4
}
