{
 "cells": [
  {
   "cell_type": "markdown",
   "metadata": {},
   "source": [
    "# Contents\n",
    "\n",
    "<br>\n",
    "\n",
    "- /Math\n",
    "  - [PrincipleOfStationaryPhase](Math/180511_PrincipleOfStationaryPhase.ipynb)\n",
    "  - [TaylorSeriesBySympy](Math/180528_TaylorSeriesBySympy.ipynb)\n",
    "  - [ConwayGame](Math/180909_ConwayGame.ipynb)\n",
    "  - [DistanceBetweenTwoPointsOfQuadrate](Math/180911_DistanceBetweenTwoPointsOfQuadrate.ipynb)\n",
    "  - [CentripetalForce](Math/180922_CentripetalForce.ipynb)\n",
    "  - [Reflection_Refraction](Math/181105_Reflection_Refraction.ipynb)\n",
    "\n",
    "<br>\n",
    "\n",
    "- /Python\n",
    "  - [SettingPycharm](Python/180904_SettingPycharm.ipynb)\n",
    "  - [SettingJupyterNotebook](Python/180909_SettingJupyterNotebook.ipynb)\n",
    "  - [MatlabApiInPython](Python/181030_MatlabApiInPython.ipynb)\n",
    "\n",
    "<br>\n",
    "\n",
    "- /\n",
    "  - [Snippets](Snippets.ipynb)\n"
   ]
  }
 ],
 "metadata": {
  "kernelspec": {
   "display_name": "Python 3",
   "language": "python",
   "name": "python3"
  },
  "language_info": {
   "codemirror_mode": {
    "name": "ipython",
    "version": 3
   },
   "file_extension": ".py",
   "mimetype": "text/x-python",
   "name": "python",
   "nbconvert_exporter": "python",
   "pygments_lexer": "ipython3",
   "version": "3.7.0"
  }
 },
 "nbformat": 4,
 "nbformat_minor": 2
}
