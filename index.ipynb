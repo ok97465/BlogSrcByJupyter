{
 "cells": [
  {
   "cell_type": "markdown",
   "metadata": {},
   "source": [
    "# Contents\n",
    "\n",
    "<br>\n",
    "\n",
    "- /Math\n",
    "  - [PrincipleOfStationaryPhase](Math/180511_PrincipleOfStationaryPhase.ipynb)\n",
    "  - [TaylorSeriesBySympy](Math/180528_TaylorSeriesBySympy.ipynb)\n",
    "  - [ConwayGame](Math/180909_ConwayGame.ipynb)\n",
    "  - [DistanceBetweenTwoPointsOfQuadrate](Math/180911_DistanceBetweenTwoPointsOfQuadrate.ipynb)\n",
    "  - [CentripetalForce](Math/180922_CentripetalForce.ipynb)\n",
    "  - [Reflection_Refraction](Math/181105_Reflection_Refraction.ipynb)\n",
    "  - [EulerLagrangeEquation](Math/181122_EulerLagrangeEquation.ipynb)\n",
    "  - [LightsOutPuzzle](Math/190421_LightsOutPuzzle.ipynb)\n",
    "  - [PrincipleOfCT](Math/191019_PrincipleOfCT.ipynb)\n",
    "  - [Equidistant_points_on_ellipse](Math/191204_Equidistant_points_on_ellipse.ipynb)\n",
    "\n",
    "<br>\n",
    "\n",
    "- /Python\n",
    "  - [SettingPycharm](Python/180904_SettingPycharm.ipynb)\n",
    "  - [SettingJupyterNotebook](Python/180909_SettingJupyterNotebook.ipynb)\n",
    "  - [MatlabApiInPython](Python/181030_MatlabApiInPython.ipynb)\n",
    "  - [GitHubPullRequest](Python/181220_GitHubPullRequest.ipynb)\n",
    "  - [SpyderIde](Python/190127_SpyderIde.ipynb)\n",
    "  - [Numba_Cuda](Python/190707_Numba_Cuda.ipynb)\n",
    "\n",
    "<br>\n",
    "\n",
    "- /QuickNotes\n",
    "  - [ManjaroCommand](QuickNotes/170918_ManjaroCommand.ipynb)\n",
    "  - [RipDvd](QuickNotes/170930_RipDvd.ipynb)\n",
    "  - [InverseMatrix](QuickNotes/180930_InverseMatrix.ipynb)\n",
    "  - [CalibreDarkCSS](QuickNotes/181130_CalibreDarkCSS.ipynb)\n",
    "\n",
    "<br>\n",
    "\n",
    "- /\n",
    "  - [Snippets](Snippets.ipynb)\n"
   ]
  }
 ],
 "metadata": {
  },
 "nbformat": 4,
 "nbformat_minor": 2
}
