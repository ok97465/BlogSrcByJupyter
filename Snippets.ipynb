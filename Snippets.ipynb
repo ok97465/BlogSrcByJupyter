{
 "cells": [
  {
   "cell_type": "markdown",
   "metadata": {},
   "source": [
    "# Jupyter Notebook Snippets"
   ]
  },
  {
   "cell_type": "markdown",
   "metadata": {},
   "source": [
    "## matlab command\n"
   ]
  },
  {
   "cell_type": "markdown",
   "metadata": {},
   "source": [
    "```python\n",
    "%load_ext autoreload\n",
    "%autoreload 2\n",
    "%matplotlib widget\n",
    "\n",
    "from oklib.init import ipython_clear\n",
    "ipython_clear(b_plot_close=True)\n",
    "\n",
    "import numpy as np\n",
    "import matplotlib.pyplot as plt\n",
    "from matplotlib.pyplot import plot, hist, figure, subplots\n",
    "from oklib.signal import (db2, nextpow2, sind, cosd, tand, arcsind, arccosd, arctand)\n",
    "from oklib.plot import imagesc\n",
    "from oklib.file import save_vars, load_vars\n",
    "from numpy import (pi, deg2rad, rad2deg, unwrap, angle, zeros, array, ones, linspace, cumsum, diff, arange, interp,\n",
    "                   conj, exp, sqrt, vstack, hstack)\n",
    "from numpy import (cos, sin, tan, arcsin, arccos, arctan)\n",
    "from numpy import (amin, amax, argmin, argmax, sum, mean)\n",
    "from numpy.fft import (fft, ifft, fft2, ifft2, fftshift, ifftshift)\n",
    "from numpy.linalg import svd, norm\n",
    "from numpy.random_intel import randn, standard_normal, randint, choice, uniform\n",
    "from oklib.var_list import wh\n",
    "```"
   ]
  },
  {
   "cell_type": "markdown",
   "metadata": {},
   "source": [
    "## Python : Show in Markdown"
   ]
  },
  {
   "cell_type": "markdown",
   "metadata": {},
   "source": [
    "```python\n",
    "# Show in Markdown\n",
    "```"
   ]
  },
  {
   "cell_type": "markdown",
   "metadata": {},
   "source": [
    "## Python : Numpy Docstring"
   ]
  },
  {
   "cell_type": "markdown",
   "metadata": {},
   "source": [
    "```python\n",
    "r\"\"\"This is an example of a module level function.\n",
    "\n",
    "The __init__ method may be documented in either the class level\n",
    "Reference example : if you cited the article below using the text [1]_\n",
    "The value of :math:`\\omega` is larger than 5.\n",
    ".. math::\n",
    "\n",
    "    x(n) * y(n) \\Leftrightarrow X(e^{j\\omega } )Y(e^{j\\omega } )\\\\\n",
    "    another equation\n",
    "\n",
    "Parameters\n",
    "----------\n",
    "param1 : type, optional\n",
    "    Description of `param1`\n",
    "\n",
    "Returns\n",
    "-------\n",
    "bool\n",
    "    True if successful, False otherwise.\n",
    "\n",
    "Note\n",
    "----\n",
    "Do not include the `self` parameter in the ``Parameters`` section.\n",
    "\n",
    "Examples\n",
    "--------\n",
    "Examples should be written in doctest format, and should illustrate how to use the function.\n",
    "\n",
    ">>> print([i for i in example_generator(4)])\n",
    "[0, 1, 2, 3]\n",
    "\n",
    "References\n",
    "----------\n",
    ".. [] 책: 저자명. (발행년). Title of chapter. In 편집자명 (역할), title of book (쪽). 발행지 : 발행사\n",
    ".. [] 학위 논문: 학위자명, \"논문제목\", 대학원 이름 석사 학윈논문, 1990\n",
    ".. [] 저널 논문: 저자. \"논문제목\". 저널명, . pp.\n",
    "\"\"\"\n",
    "```"
   ]
  },
  {
   "cell_type": "markdown",
   "metadata": {},
   "source": [
    "## Header of Blog Post"
   ]
  },
  {
   "cell_type": "markdown",
   "metadata": {},
   "source": [
    "///---\n",
    "layout: post\n",
    "title: \"<Title>\"\n",
    "comments: true\n",
    "share: true\n",
    "date: 2018-00-00 00:00:00\n",
    "description: <Description>\n",
    "tags: sympy python math signal_system\n",
    "sitemap :\n",
    "    changefreq : daily\n",
    "    priority : 1.0\n",
    "///---"
   ]
  },
  {
   "cell_type": "markdown",
   "metadata": {},
   "source": [
    "## Link Image"
   ]
  },
  {
   "cell_type": "markdown",
   "metadata": {},
   "source": [
    "```\n",
    "<p align=\"center\">\n",
    "  <img src=\"\" alt=\"description\" width=\"720\" height=\"\">\n",
    "</p>\n",
    "\n",
    "<figure>\n",
    "    <img src='../assets/images/' alt='missing' width=\"360\" />\n",
    "    <figcaption class=\"figure-caption\">Caption goes here</figcaption>\n",
    "</figure>\n",
    "```"
   ]
  },
  {
   "cell_type": "markdown",
   "metadata": {
    "toc-hr-collapsed": false
   },
   "source": [
    "## comment reference"
   ]
  },
  {
   "cell_type": "markdown",
   "metadata": {},
   "source": [
    "```\n",
    "[] 책: 저자명. (발행년). Title of chapter. In 편집자명 (역할), title of book (쪽). 발행지 : 발행사\n",
    "[] 학위 논문: 학위자명, \"논문제목\", 대학원 이름 석사 학위논문, 1990\n",
    "[] 저널 논문: 저자. \"논문제목\". 저널명, . pp.\n",
    "```"
   ]
  },
  {
   "cell_type": "code",
   "execution_count": null,
   "metadata": {},
   "outputs": [],
   "source": []
  }
 ],
 "metadata": {
  "hide_input": false,
  "kernelspec": {
   "display_name": "Python 3",
   "language": "python",
   "name": "python3"
  },
  "language_info": {
   "codemirror_mode": {
    "name": "ipython",
    "version": 3
   },
   "file_extension": ".py",
   "mimetype": "text/x-python",
   "name": "python",
   "nbconvert_exporter": "python",
   "pygments_lexer": "ipython3",
   "version": "3.7.0"
  },
  "toc": {
   "base_numbering": 1,
   "nav_menu": {},
   "number_sections": true,
   "sideBar": true,
   "skip_h1_title": false,
   "title_cell": "Table of Contents",
   "title_sidebar": "Contents",
   "toc_cell": false,
   "toc_position": {},
   "toc_section_display": true,
   "toc_window_display": false
  }
 },
 "nbformat": 4,
 "nbformat_minor": 2
}
