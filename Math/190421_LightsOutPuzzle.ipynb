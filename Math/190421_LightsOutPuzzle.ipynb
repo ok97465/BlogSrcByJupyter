{
 "cells": [
  {
   "cell_type": "markdown",
   "metadata": {},
   "source": [
    "///---\n",
    "layout: post\n",
    "title: \"Lights Out 퍼즐 풀기\"\n",
    "comments: true\n",
    "share: true\n",
    "date: 2019-04-21 14:13:00\n",
    "description: 주어진 초기 상태에서, 모든 버튼의 불을 꺼지도록 하기 위해 눌러야 하는 버튼의 시퀀스를 찾아본다.\n",
    "tags: python math\n",
    "sitemap :\n",
    "    changefreq : daily\n",
    "    priority : 1.0\n",
    "///---"
   ]
  },
  {
   "cell_type": "markdown",
   "metadata": {},
   "source": [
    "# Lights Out 퍼즐 풀기"
   ]
  },
  {
   "cell_type": "markdown",
   "metadata": {},
   "source": [
    "## Lights Out 퍼즐 설명\n",
    "아래 그림과 같이 일부 버튼은 불이 켜져 있고 다른 일부는 꺼져 있다. 버튼을 누르면 그 버튼의 현재 상태가 반대로 바뀌고 동시에 눌러진 버튼 주변 4개 버튼의 상태도 반대로 바뀐다. 이 퍼즐의 목적은 버튼을 눌러서 모든 버튼의 불을 꺼지게 하는 것이다."
   ]
  },
  {
   "cell_type": "code",
   "execution_count": 16,
   "metadata": {},
   "outputs": [],
   "source": [
    "# 설명 그림 Plot 용 코드\n",
    "# Third party imports\n",
    "from jupyterthemes import jtplot\n",
    "from matplotlib.pyplot import subplots\n",
    "from numpy import flipud\n",
    "from numpy.core.numeric import array\n",
    "from matplotlib.colors import ListedColormap\n",
    "\n",
    "jtplot.style('monokai', fscale=1.3)\n",
    "\n",
    "def draw_light_out_rule(light_before, light_after, push_pos):\n",
    "    # cmap = 'CMRmap'\n",
    "    cmap = ListedColormap(['k', 'g'])\n",
    "    fig, ax = subplots(1, 3,\n",
    "                       figsize=(10, 4),\n",
    "                       gridspec_kw = {'width_ratios':[5, 1, 5]})\n",
    "\n",
    "    ax[0].pcolor(flipud(light_before), cmap=cmap)\n",
    "    ax[2].pcolor(flipud(light_after), cmap=cmap)\n",
    "\n",
    "    ax[1].axis('off')\n",
    "    ax[1].text(0.20, 0.4, f'Push\\n{push_pos}\\nbutton',\n",
    "               color='w',\n",
    "               ha=\"center\",\n",
    "               size=0.25 * fig.dpi,\n",
    "               transform=ax[1].transAxes,\n",
    "               bbox=dict(boxstyle='rarrow', fc=\"grey\", ec=\"k\"))\n",
    "    \n",
    "    ax[0].grid(True, color='grey', linewidth=3)\n",
    "    ax[2].grid(True, color='grey', linewidth=3)\n",
    "    \n",
    "    ax[0].tick_params(labelleft=False,labelbottom= False)\n",
    "    ax[2].tick_params(labelleft=False,labelbottom= False)\n"
   ]
  },
  {
   "cell_type": "code",
   "execution_count": 17,
   "metadata": {},
   "outputs": [
    {
     "data": {
      "image/png": "[encoded data removed]",
      "text/plain": [
       "<Figure size 720x288 with 3 Axes>"
      ]
     },
     "metadata": {},
     "output_type": "display_data"
    }
   ],
   "source": [
    "lights_before = array([[1, 1, 1, 1, 0],\n",
    "                       [1, 1, 1, 0, 1],\n",
    "                       [1, 1, 1, 0, 1],\n",
    "                       [0, 0, 0, 1, 1],\n",
    "                       [1, 1, 0, 1, 1]])\n",
    "\n",
    "lights_after = array([[0, 0, 1, 1, 0],\n",
    "                      [0, 1, 1, 0, 1],\n",
    "                      [1, 1, 1, 0, 1],\n",
    "                      [0, 0, 0, 1, 1],\n",
    "                      [1, 1, 0, 1, 1]])\n",
    "\n",
    "draw_light_out_rule(lights_before, lights_after, '(0, 0)')"
   ]
  },
  {
   "cell_type": "code",
   "execution_count": 18,
   "metadata": {},
   "outputs": [
    {
     "data": {
      "image/png": "[encoded data removed]",
      "text/plain": [
       "<Figure size 720x288 with 3 Axes>"
      ]
     },
     "metadata": {},
     "output_type": "display_data"
    }
   ],
   "source": [
    "lights_before = array([[1, 1, 1, 1, 0],\n",
    "                       [1, 1, 1, 0, 1],\n",
    "                       [1, 1, 1, 0, 1],\n",
    "                       [0, 0, 0, 1, 1],\n",
    "                       [1, 1, 0, 1, 1]])\n",
    "\n",
    "lights_after = array([[1, 0, 1, 1, 0],\n",
    "                      [0, 0, 0, 0, 1],\n",
    "                      [1, 0, 1, 0, 1],\n",
    "                      [0, 0, 0, 1, 1],\n",
    "                      [1, 1, 0, 1, 1]])\n",
    "\n",
    "draw_light_out_rule(lights_before, lights_after, '(1, 1)')"
   ]
  },
  {
   "cell_type": "markdown",
   "metadata": {},
   "source": [
    "## 수학적 접근"
   ]
  },
  {
   "cell_type": "markdown",
   "metadata": {},
   "source": [
    "### Galois Filed 2\n",
    "GF(2)는 갈루아 필드(Galois Filed 2)를 간략하게 표현한 것이다.\n",
    "갈루아 필드의 +, x는 아래와 같이 정의 된다."
   ]
  },
  {
   "cell_type": "code",
   "execution_count": 19,
   "metadata": {},
   "outputs": [],
   "source": [
    "from IPython.display import HTML\n",
    "\n",
    "def multi_table(table_list):\n",
    "    ''' Acceps a list of IpyTable objects and returns a table which contains each IpyTable in a cell\n",
    "    '''\n",
    "    return HTML(\n",
    "        '<table>' + \n",
    "        ''.join(['<td>' + table.to_html(index=False) + '</td>' for table in table_list]) +\n",
    "        '</table>'\n",
    "    )"
   ]
  },
  {
   "cell_type": "code",
   "execution_count": 20,
   "metadata": {},
   "outputs": [
    {
     "data": {
      "text/html": [
       "<table><td><table border=\"1\" class=\"dataframe\">\n",
       "  <thead>\n",
       "    <tr style=\"text-align: right;\">\n",
       "      <th>x</th>\n",
       "      <th>0</th>\n",
       "      <th>1</th>\n",
       "    </tr>\n",
       "  </thead>\n",
       "  <tbody>\n",
       "    <tr>\n",
       "      <td>0</td>\n",
       "      <td>0</td>\n",
       "      <td>0</td>\n",
       "    </tr>\n",
       "    <tr>\n",
       "      <td>1</td>\n",
       "      <td>0</td>\n",
       "      <td>1</td>\n",
       "    </tr>\n",
       "  </tbody>\n",
       "</table></td><td><table border=\"1\" class=\"dataframe\">\n",
       "  <thead>\n",
       "    <tr style=\"text-align: right;\">\n",
       "      <th>+</th>\n",
       "      <th>0</th>\n",
       "      <th>1</th>\n",
       "    </tr>\n",
       "  </thead>\n",
       "  <tbody>\n",
       "    <tr>\n",
       "      <td>0</td>\n",
       "      <td>0</td>\n",
       "      <td>1</td>\n",
       "    </tr>\n",
       "    <tr>\n",
       "      <td>1</td>\n",
       "      <td>1</td>\n",
       "      <td>1</td>\n",
       "    </tr>\n",
       "  </tbody>\n",
       "</table></td></table>"
      ],
      "text/plain": [
       "<IPython.core.display.HTML object>"
      ]
     },
     "execution_count": 20,
     "metadata": {},
     "output_type": "execute_result"
    }
   ],
   "source": [
    "from numpy import zeros\n",
    "from pandas import DataFrame\n",
    "data_mul = zeros((2,), dtype=[('x', 'i4'), ('0', 'i4'), ('1', 'i4')])\n",
    "data_mul[:] = [(0, 0, 0), (1, 0, 1)]\n",
    "df_mul = DataFrame(data_mul)\n",
    "\n",
    "data_add = zeros((2,), dtype=[('+', 'i4'), ('0', 'i4'), ('1', 'i4')])\n",
    "data_add[:] = [(0, 0, 1), (1, 1, 1)]\n",
    "df_add = DataFrame(data_add)\n",
    "multi_table([df_mul, df_add])"
   ]
  },
  {
   "cell_type": "markdown",
   "metadata": {},
   "source": [
    "갈루아 필드의 특성은 다음과 같다.\n",
    "\n",
    "- 덧셈은 modulo 2 이며, 이것은 배타적 논리합과 같다.\n",
    "- 뺄셈은 덧셈과 동일하다. 1의 음수는 1이고, 0의 음수는 0이다.\n",
    "- 곱셈은 일반적인 0, 1의 곱셈과 같다."
   ]
  },
  {
   "cell_type": "markdown",
   "metadata": {},
   "source": [
    "### Lights Out 퍼즐을 갈루아 필드로 표현\n",
    "\n",
    "Lights Out 의 불이 켜진 상태를 1, 꺼진 상태를 0으로 놓는다. 그리고 버튼이 눌려서 상태가 변하는 것을 갈루아 필드의 +1로 생각해 보자.\n",
    "  \n",
    "```\n",
    "켜진 상태(1) + 1 = 꺼진 상태(0)\n",
    "꺼진 상태(0) + 1 = 켜진 상태(1)\n",
    "```\n",
    "위의 수식은 버튼이 눌렸을 때의 변화를 GF(2)의 덧셈으로 표현 가능함을 보여준다.\n",
    "\n",
    "Light Out 문제는 GF(2)에 포함된 벡터의 덧셈 문제로 변환 될 수 있다.\n",
    "문제를 간단하게 하기 위해 버튼을 2x2로 제한하면 상태 변화 벡터($v_i$)는 아래와 같이 정의 된다.\n",
    "\n",
    "<table><td><table border=\"1\" class=\"dataframe\">\n",
    "  <caption>v<sub>1</sub></caption>\n",
    "  <thead>\n",
    "    <tr style=\"text-align: right;\">\n",
    "      <th>1</th>\n",
    "      <th>1</th>\n",
    "    </tr>\n",
    "  </thead>\n",
    "  <tbody>\n",
    "    <tr>\n",
    "      <td>1</td>\n",
    "      <td>0</td>\n",
    "    </tr>\n",
    "  </tbody>\n",
    "</table></td><td><table border=\"1\" class=\"dataframe\">\n",
    " <caption>v<sub>2</sub></caption>\n",
    "  <thead>\n",
    "    <tr style=\"text-align: right;\">\n",
    "      <th>1</th>\n",
    "      <th>0</th>\n",
    "    </tr>\n",
    "  </thead>\n",
    "  <tbody>\n",
    "    <tr>\n",
    "      <td>1</td>\n",
    "      <td>1</td>\n",
    "    </tr>\n",
    "  </tbody>\n",
    "</table></td><td><table border=\"1\" class=\"dataframe\">\n",
    " <caption>v<sub>3</sub></caption>\n",
    "  <thead>\n",
    "    <tr style=\"text-align: right;\">\n",
    "      <th>1</th>\n",
    "      <th>1</th>\n",
    "    </tr>\n",
    "  </thead>\n",
    "  <tbody>\n",
    "    <tr>\n",
    "      <td>0</td>\n",
    "      <td>1</td>\n",
    "    </tr>\n",
    "  </tbody>\n",
    "</table></td><td><table border=\"1\" class=\"dataframe\">\n",
    " <caption>v<sub>4</sub></caption>\n",
    "  <thead>\n",
    "    <tr style=\"text-align: right;\">\n",
    "      <th>0</th>\n",
    "      <th>1</th>\n",
    "    </tr>\n",
    "  </thead>\n",
    "  <tbody>\n",
    "    <tr>\n",
    "      <td>1</td>\n",
    "      <td>1</td>\n",
    "    </tr>\n",
    "  </tbody>\n",
    "</table></td></table>\n",
    "\n"
   ]
  },
  {
   "cell_type": "markdown",
   "metadata": {},
   "source": [
    "<br>  \n",
    "초기 상태를 $s$로 놓고 $s$를 0으로 만드는 버튼은 다음과 같이 표현 할 수 있다.\n",
    "\n",
    "$$s + v_i + v_j + v_k \\cdots = 0,\\quad \\quad \\quad i\\neq j\\neq k\\quad(v_1 + v_1 = 0\\text{이므로})$$\n",
    "\n",
    "즉 Lights Out 문제는 GF(2)에서 $s$가 $v_i$의 벡터의 부분 집합으로 표현 할수 있는가의 문제가 된다."
   ]
  },
  {
   "cell_type": "markdown",
   "metadata": {},
   "source": [
    "## 해법을 찾는 효과적인 방안\n",
    "\n",
    "작성중"
   ]
  },
  {
   "cell_type": "markdown",
   "metadata": {},
   "source": [
    "## 참고자료\n",
    "[1] 필립 클라인. (2019). 3. 벡터. Coding The Matrix (90)  "
   ]
  }
 ],
 "metadata": {
  "hide_input": false,
  "kernelspec": {
   "display_name": "Python 3",
   "language": "python",
   "name": "python3"
  },
  "language_info": {
   "codemirror_mode": {
    "name": "ipython",
    "version": 3
   },
   "file_extension": ".py",
   "mimetype": "text/x-python",
   "name": "python",
   "nbconvert_exporter": "python",
   "pygments_lexer": "ipython3",
   "version": "3.6.8"
  },
  "toc": {
   "base_numbering": 1,
   "nav_menu": {},
   "number_sections": true,
   "sideBar": true,
   "skip_h1_title": false,
   "title_cell": "Table of Contents",
   "title_sidebar": "Contents",
   "toc_cell": false,
   "toc_position": {},
   "toc_section_display": true,
   "toc_window_display": false
  },
  "varInspector": {
   "cols": {
    "lenName": 16,
    "lenType": 16,
    "lenVar": 40
   },
   "kernels_config": {
    "python": {
     "delete_cmd_postfix": "",
     "delete_cmd_prefix": "del ",
     "library": "var_list.py",
     "varRefreshCmd": "print(var_dic_list())"
    },
    "r": {
     "delete_cmd_postfix": ") ",
     "delete_cmd_prefix": "rm(",
     "library": "var_list.r",
     "varRefreshCmd": "cat(var_dic_list()) "
    }
   },
   "types_to_exclude": [
    "module",
    "function",
    "builtin_function_or_method",
    "instance",
    "_Feature"
   ],
   "window_display": false
  }
 },
 "nbformat": 4,
 "nbformat_minor": 2
}
