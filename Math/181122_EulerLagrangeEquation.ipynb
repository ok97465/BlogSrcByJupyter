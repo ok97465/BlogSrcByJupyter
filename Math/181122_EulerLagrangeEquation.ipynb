{
 "cells": [
  {
   "cell_type": "markdown",
   "metadata": {},
   "source": [
    "///---\n",
    "layout: post\n",
    "title: \"Euler-Lagrange 방정식\"\n",
    "comments: true\n",
    "share: true\n",
    "date: 2018-11-21 19:33:00\n",
    "description: Euler-Lagrange 방정식을 유도하고 sympy로 계산한다.\n",
    "tags: sympy python math physics\n",
    "sitemap :\n",
    "    changefreq : daily\n",
    "    priority : 1.0\n",
    "///---"
   ]
  },
  {
   "cell_type": "markdown",
   "metadata": {
    "toc-hr-collapsed": false
   },
   "source": [
    "# Euler-Lagrange Equation"
   ]
  },
  {
   "cell_type": "markdown",
   "metadata": {},
   "source": [
    "## 개념 정리 [1]"
   ]
  },
  {
   "cell_type": "markdown",
   "metadata": {},
   "source": [
    "아래와 같은 적분식 $I$를 최소로 만드는 $y(x)$를 찾아야하는 문제가 있다.\n",
    "\n",
    "$$\\begin{equation} I = \\int _ { x _ { 1 } } ^ { x _ { 2 } } \\sqrt { 1 + y ^ { \\prime 2 } } d x \\end{equation}$$\n",
    "\n",
    "$y(x)$가 정해져 있는 경우에는 $\\frac{dI}{dx} = 0$을 찾으면 되지만 여기서는 $y(x)$가 정해져 있지 않으므로 $y(x)$도 독립변수가 되어 $x$에 대한 미분으로 값을 $I$의 최소값을 찾을 수가 없다.  \n",
    "\n",
    "이 문제를 해결하기 위해서 $y(x)$를 extremal(극값)으로 생각하고 임의의 $\\epsilon$, $\\eta$을 도입하여 새로운 $Y(x)$를 정의한다.\n",
    "\n",
    "$$Y(x) = y(x) + \\epsilon \\eta (x)$$\n",
    "\n",
    "<figure>\n",
    "    <img src='../assets/images/EulerLagrange/181122_EulerLagrangeEquation.dio_dark.png' alt='Y(x)' />\n",
    "    <figcaption class=\"figure-caption\">Y(x)</figcaption>\n",
    "</figure>\n",
    "\n",
    "<figure>\n",
    "    <img src='../assets/images/EulerLagrange/181122_EulerLagrangeEquation_eta.dio_dark.png' alt='$\\eta(x)$' />\n",
    "    <figcaption class=\"figure-caption\">$\\eta(x)$</figcaption>\n",
    "</figure>\n",
    "\n",
    "$\\eta$는 미분가능하고 $x_1$, $x_2$에서 0인 값을 갖으면서 random인 함수이다. $\\eta$와 $\\epsilon$의 함수인 $Y(x)$를 이용하면 모든 $I$를 표현 할 수 있으므로 $y(x)$를 해로 가정하고 $Y(x)$의 변화를 이용하여 문제를 풀어간다.\n",
    "\n",
    "$$I = \\int _ { x _ { 1 } } ^ { x _ { 2 } } \\sqrt { 1 + Y ^ { \\prime 2 } } d x$$\n",
    "\n"
   ]
  },
  {
   "cell_type": "markdown",
   "metadata": {},
   "source": [
    "$\\epsilon$이 0인 경우 $Y(x)=y(x)$이므로 $I$는 최소값을 가져야한다. 수식으로 표현하면 다음과 같다.\n",
    "\n",
    "$$\\frac { d I } { d \\epsilon } = 0 \\quad \\text { when } \\epsilon = 0$$\n",
    "\n",
    "이제 $x$와 $\\epsilon$을 이용하여 문제를 풀어나간다. prime($\\prime$)은 x에 대한 미분을 뜻한다.\n",
    "\n",
    "$$Y ^ { \\prime } ( x ) = y ^ { \\prime } ( x ) + \\epsilon \\eta ^ { \\prime } ( x ) \\Rightarrow \\frac { d Y ^ { \\prime } } { d \\epsilon } = \\eta ^ { \\prime } ( x )$$\n",
    "\n",
    "$$\\frac { d I } { d \\epsilon } = \\int _ { x _ { 1 } } ^ { x _ { 2 } } \\frac { 1 } { 2 } \\frac { 1 } { \\sqrt { 1 + Y ^ { \\prime 2 } } } 2 Y ^ { \\prime } \\left( \\frac { d Y ^ { \\prime } } { d \\epsilon } \\right) d x$$\n",
    "\n",
    "$\\epsilon$이 0인 경우 $Y(x)=y(x)$이므로 위의 수식은 다음과 같다.\n",
    "\n",
    "$$\\left( \\frac { d I } { d \\epsilon } \\right) _ { \\epsilon = 0 } = \\int _ { x _ { 1 } } ^ { x _ { 2 } } \\frac { y ^ { \\prime } ( x ) \\eta ^ { \\prime } ( x ) } { \\sqrt { 1 + y ^ { \\prime 2 } } } d x = 0$$\n",
    "\n",
    "변수를 치환하고 부분적분을 수행한다.\n",
    "\n",
    "$$u = y ^ { \\prime } / \\sqrt { 1 + y ^ { \\prime 2 } } , \\quad d v = \\eta ^ { \\prime } ( x ) d x$$\n",
    "\n",
    "$$\\left( \\frac { d I } { d \\epsilon }\\right) _ { \\epsilon = 0 } =\\left. \\frac { y^\\prime}  {\\sqrt {1 + {y^{\\prime}}^2}}  \\eta ( x ) \\right| _ { x _ { 1 } } ^ { x _ { 2 } } - \\int _ { x _ { 1 } } ^ { x _ { 2 } } \\eta ( x ) \\frac { d } { d x } \\left( \\frac { y^\\prime} {\\sqrt { 1 + {y^{ \\prime }}^2}} \\right) d x = 0$$\n",
    "\n",
    "$\\eta$는 $x1$, $x2$에서 0이므로 첫째항은 사라진다. $\\frac { d I } { d \\epsilon } = 0 \\quad \\text { when } \\epsilon = 0$이므로 $\\eta$에 관계 없이 두번재 항도 0이여야 한다. 여기서 $\\eta$가 0이 될수도 있지만 $\\eta$의 정의를 무작위 함수로 가정하였으므로 모든 상황에서 0이 되려면 아래의 수식이 만족되어야 한다.\n",
    "\n",
    "$$\\frac { d } { d x } \\left( \\frac { y ^ { \\prime } } { \\sqrt { 1 + y ^ { \\prime 2 } } } \\right) = 0$$\n",
    "\n",
    "즉 $I$가 최소가 되려면 $y^{\\prime} = \\text{const}$이여야 하고 $y$는 직선이여야 한다."
   ]
  },
  {
   "cell_type": "markdown",
   "metadata": {},
   "source": [
    "## 일반식 유도 [1]\n",
    "\n",
    "$$I = \\int _ { x _ { 1 } } ^ { x _ { 2 } } F ( x , y , y ^ { \\prime } ) d x$$\n",
    "\n",
    "functional $F$가 주어지고 $I$를 최소 혹은 최대로 만드는 $y(x)$를 찾아야 한다.\n",
    "\n",
    "$$Y ( x ) = y ( x ) + \\epsilon \\eta ( x )$$\n",
    "\n",
    "$$I ( \\epsilon ) = \\int _ { x _ { 1 } } ^ { x _ { 2 } } F ( x , Y , Y ^ { \\prime } ) d x$$\n",
    "\n",
    "$$ \\frac { d I } { d \\epsilon } = \\int _ { x _ { 1 } } ^ { x _ { 2 } } \\left( \\frac { \\partial F } { \\partial Y } \\frac { d Y } { d \\epsilon } + \\frac { \\partial F } { \\partial Y ^ { \\prime } } \\frac { d Y ^ { \\prime } } { d \\epsilon } \\right) d x $$\n",
    "\n",
    "${dY}/{d\\epsilon}=\\eta(x)$이므로\n",
    "\n",
    "$$\\frac { d I } { d \\epsilon } = \\int _ { x _ { 1 } } ^ { x _ { 2 } } \\left[ \\frac { \\partial F } { \\partial Y } \\eta ( x ) + \\frac { \\partial F } { \\partial Y ^ { \\prime } } \\eta ^ { \\prime } ( x ) \\right] d x$$\n",
    "\n",
    "$I$가 최대 혹은 최소가 되려면 $dI/d\\epsilon = 0$ at $\\epsilon = 0$이고 $\\epsilon=0$은 $Y=y$를 의미하므로\n",
    "\n",
    "$$\\left( \\frac { d I } { d \\epsilon } \\right) _ { \\epsilon = 0 } = \\int _ { x _ { 1 } } ^ { x _ { 2 } } \\left[ \\frac { \\partial F } { \\partial y } \\eta ( x ) + \\frac { \\partial F } { \\partial y ^ { \\prime } } \\eta ^ { \\prime } ( x ) \\right] d x = 0$$\n",
    "\n",
    "부분 적분을 적용하고 위의 예제와 동일한 조건을 적용하면 다음과 같다\n",
    "\n",
    "$$\\int _ { x _ { 1 } } ^ { x _ { 2 } } \\frac { \\partial F } { \\partial y ^ { \\prime } } \\eta ^ { \\prime } ( x ) d x = \\left. \\frac { \\partial F } { \\partial y ^ { \\prime } } \\eta ( x ) \\right| _ { x _ { 1 } } ^ { x _ { 2 } } - \\int _ { x _ { 1 } } ^ { x _ { 2 } } \\frac { d } { d x } \\left( \\frac { \\partial F } { \\partial y ^ { \\prime } } \\right) \\eta ( x ) d x$$\n",
    "\n",
    "$$\\Downarrow$$\n",
    "\n",
    "$$\\left( \\frac { d I } { d \\epsilon } \\right) _ { \\epsilon = 0 } = \\int _ { x _ { 1 } } ^ { x _ { 2 } } \\left[ \\frac { \\partial F } { \\partial y } - \\frac { d } { d x } \\frac { \\partial F } { \\partial y ^ { \\prime } } \\right] \\eta ( x ) d x = 0$$"
   ]
  },
  {
   "cell_type": "markdown",
   "metadata": {},
   "source": [
    "---\n",
    "**Euler-Lagrange Equation**\n",
    "\n",
    "$$\\frac { d } { d x } \\frac { \\partial F } { \\partial y ^ { \\prime } } - \\frac { \\partial F } { \\partial y }= 0$$\n",
    "\n",
    "---"
   ]
  },
  {
   "cell_type": "markdown",
   "metadata": {},
   "source": [
    "## Sympy를 이용한 예제 풀이"
   ]
  },
  {
   "cell_type": "markdown",
   "metadata": {},
   "source": [
    "### 평면에서 최단 거리\n",
    "평면에서 $x_1$, $x_2$를 지나는 거리를 구하는 공식은 다음과 같다.\n",
    "\n",
    "$$I = \\int _ { x _ { 1 } } ^ { x _ { 2 } }\\sqrt{dx^{2}+dy^{2}} = \\int _ { x _ { 1 } } ^ { x _ { 2 } }\\sqrt{1+{y^{\\prime}}^2}dx$$\n",
    "\n",
    "$F=\\sqrt{1+{y^{\\prime}}^2}$로 놓고 sympy를 이용하여 풀어본다."
   ]
  },
  {
   "cell_type": "code",
   "execution_count": 4,
   "metadata": {},
   "outputs": [],
   "source": [
    "# Show in Markdown\n",
    "from sympy import init_printing, symbols, sqrt, Function, sympify\n",
    "from sympy.printing import latex\n",
    "from sympy.calculus import euler_equations\n",
    "from IPython.display import Latex as print_latex\n",
    "from IPython.display import display\n",
    "\n",
    "init_printing()"
   ]
  },
  {
   "cell_type": "code",
   "execution_count": 5,
   "metadata": {},
   "outputs": [
    {
     "data": {
      "text/latex": [
       "$$F=\\sqrt{\\left(\\frac{d}{d x} y{\\left (x \\right )}\\right)^{2} + 1}$$"
      ],
      "text/plain": [
       "<IPython.core.display.Latex object>"
      ]
     },
     "metadata": {},
     "output_type": "display_data"
    },
    {
     "data": {
      "text/latex": [
       "$$\\frac { d } { d x } \\frac { \\partial F } { \\partial y ^ { \\prime } } - \\frac { \\partial F } { \\partial y }=- \\frac{\\frac{d^{2}}{d x^{2}}  y{\\left (x \\right )}}{\\sqrt{\\left(\\frac{d}{d x} y{\\left (x \\right )}\\right)^{2} + 1}} \\left(1 - \\frac{\\left(\\frac{d}{d x} y{\\left (x \\right )}\\right)^{2}}{\\left(\\frac{d}{d x} y{\\left (x \\right )}\\right)^{2} + 1}\\right) = 0$$"
      ],
      "text/plain": [
       "<IPython.core.display.Latex object>"
      ]
     },
     "metadata": {},
     "output_type": "display_data"
    }
   ],
   "source": [
    "# Show in Markdown\n",
    "x = symbols('x')\n",
    "y = Function('y')(x)\n",
    "dy = y.diff(x)\n",
    "F = sqrt(1 + dy**2)\n",
    "\n",
    "display(print_latex(r'$$F='+latex(F) + r'$$'))\n",
    "\n",
    "answer_euler = euler_equations(F, y, x)\n",
    "\n",
    "display(print_latex(\n",
    "    r'$$\\frac { d } { d x } \\frac { \\partial F } { \\partial y ^ { \\prime } } - \\frac { \\partial F } { \\partial y }='\n",
    "    + latex(sympify(answer_euler[0]))\n",
    "    + r'$$'))"
   ]
  },
  {
   "cell_type": "markdown",
   "metadata": {},
   "source": [
    "sympy에서 euler_euqations 함수 호출 시 내부에서 $d/dx$를 수행하여 직관적이지 않은 해가 도출되었다. 편미분만 수행해 본다."
   ]
  },
  {
   "cell_type": "code",
   "execution_count": 6,
   "metadata": {},
   "outputs": [
    {
     "data": {
      "text/latex": [
       "$$\\frac{d}{dx}\\left(\\frac{\\frac{d}{d x} y{\\left (x \\right )}}{\\sqrt{\\left(\\frac{d}{d x} y{\\left (x \\right )}\\right)^{2} + 1}}\\right)=0$$"
      ],
      "text/plain": [
       "<IPython.core.display.Latex object>"
      ]
     },
     "metadata": {},
     "output_type": "display_data"
    }
   ],
   "source": [
    "# Show in Markdown\n",
    "partial_df = F.diff(dy)\n",
    "display(print_latex(r'$$\\frac{d}{dx}\\left(' + latex(partial_df) + r'\\right)=0$$'))"
   ]
  },
  {
   "cell_type": "markdown",
   "metadata": {},
   "source": [
    "$y(x)$가 직선이여야 $I$가 최소가 되는 것을 확인 할 수 있다."
   ]
  },
  {
   "cell_type": "markdown",
   "metadata": {},
   "source": [
    "### Brachistochrone Problem[2]\n",
    "중력만 작용하는 경우 두 점 사이를 가장 빠르게 이동하는 경로를 계산한다.\n",
    "\n",
    "$$\\frac{1}{2}mv^2 - mgy = 0 \\Rightarrow v=\\sqrt{2gy}$$\n",
    "\n",
    "$$I = \\int{dt} = \\int{\\frac{ds}{v}}=\\frac{1}{\\sqrt{2g}}\\int_{x_2}^{x_2}{\\frac{\\sqrt{1+{y^{\\prime}}^2}}{\\sqrt{y}}dx}$$"
   ]
  },
  {
   "cell_type": "code",
   "execution_count": 7,
   "metadata": {},
   "outputs": [],
   "source": [
    "# Show in Markdown\n",
    "from sympy import symbols, sqrt, diff, simplify\n",
    "from sympy.printing import latex\n",
    "from sympy.calculus import euler_equations\n",
    "from IPython.display import Latex as print_latex\n",
    "from IPython.display import display\n",
    "from sympy.physics.mechanics import mechanics_printing, dynamicsymbols\n",
    "mechanics_printing()\n",
    "\n",
    "x = symbols('x',real=True)\n",
    "g = symbols('g',constant=True)  #accleration due to gravity\n",
    "y = dynamicsymbols('y')"
   ]
  },
  {
   "cell_type": "markdown",
   "metadata": {},
   "source": [
    "y 미분을 $\\frac{dy}{dx}$가 아닌 $\\dot{y}$로 표현하기 위해서 dynamicsymbols을 사용한다. dynamicsymbols은 y(t)로 기본 설정되어 있어서 코드에서 y 미분을 t에 대해서 수행하지만 수식상에서는 x에 대한 미분으로 생각하면 된다."
   ]
  },
  {
   "cell_type": "code",
   "execution_count": 8,
   "metadata": {},
   "outputs": [
    {
     "data": {
      "image/png": "[encoded data removed]",
      "text/latex": [
       "$$\\frac{\\sqrt{2} \\sqrt{\\dot{y}^{2} + 1}}{2 \\sqrt{g y}}$$"
      ],
      "text/plain": [
       "      _________\n",
       "     ╱   2     \n",
       "√2⋅╲╱  ẏ  + 1 \n",
       "───────────────\n",
       "       _____   \n",
       "   2⋅╲╱ g⋅y    "
      ]
     },
     "metadata": {},
     "output_type": "display_data"
    }
   ],
   "source": [
    "# Show in Markdown\n",
    "dy = diff(y)\n",
    "\n",
    "F = sqrt(1 + dy**2)/sqrt(2 * g * y)\n",
    "display(F)"
   ]
  },
  {
   "cell_type": "code",
   "execution_count": 9,
   "metadata": {},
   "outputs": [
    {
     "data": {
      "image/png": "[encoded data removed]",
      "text/latex": [
       "$$\\frac{\\sqrt{2} \\sqrt{g y} \\left(2 y \\ddot{y} + \\dot{y}^{2} + 1\\right)}{4 g \\dot{y}^{2} + 1^{\\frac{3}{2}} y^{2}} = 0$$"
      ],
      "text/plain": [
       "     _____ ⎛           2    ⎞    \n",
       "√2⋅╲╱ g⋅y ⋅⎝2⋅y⋅ÿ + ẏ  + 1⎠    \n",
       "───────────────────────────── = 0\n",
       "                  3/2            \n",
       "         ⎛  2    ⎞     2         \n",
       "     4⋅g⋅⎝ẏ  + 1⎠   ⋅y          "
      ]
     },
     "metadata": {},
     "output_type": "display_data"
    }
   ],
   "source": [
    "# Show in Markdown\n",
    "euler_answer = euler_equations(F, y, symbols('t'))[0]\n",
    "display(simplify(euler_answer))"
   ]
  },
  {
   "cell_type": "markdown",
   "metadata": {},
   "source": [
    "euler_equations의 출력은 직관적으로 이해하기 힘든 결과이다. sympy로 euler-lagrange를 푸는 것은 큰 도움이 되지 않는 것 같다. 이후 풀이는 Link된 웹페이지에 참고하면 된다."
   ]
  },
  {
   "cell_type": "markdown",
   "metadata": {},
   "source": [
    "## 참고자료\n",
    "[1] Mary L. Boas. (2005). 9. Calculus of Variations. Mathematical Methods in the physical sciences (474)  \n",
    "[2] http://pgautam.com.np/blog/2017/12/23/brachistochrone-problem/"
   ]
  }
 ],
 "metadata": {
  "kernelspec": {
   "display_name": "Python 3",
   "language": "python",
   "name": "python3"
  },
  "language_info": {
   "codemirror_mode": {
    "name": "ipython",
    "version": 3
   },
   "file_extension": ".py",
   "mimetype": "text/x-python",
   "name": "python",
   "nbconvert_exporter": "python",
   "pygments_lexer": "ipython3",
   "version": "3.6.8"
  }
 },
 "nbformat": 4,
 "nbformat_minor": 2
}
