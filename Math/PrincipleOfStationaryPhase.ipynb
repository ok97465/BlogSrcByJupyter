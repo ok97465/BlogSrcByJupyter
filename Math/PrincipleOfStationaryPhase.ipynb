{
 "cells": [
  {
   "cell_type": "markdown",
   "metadata": {},
   "source": [
    "///---\n",
    "layout: post\n",
    "title: \"Principle of Stationary Phase\"\n",
    "comments: true\n",
    "share: true\n",
    "date: 2018-05-11 08:27:00\n",
    "description: Principle of Stationary Phase에 대해 기술하고 sympy를 이용하여 확인한다.\n",
    "tags: sympy python math signal_system\n",
    "sitemap :\n",
    "  changefreq : daily\n",
    "  priority : 1.0\n",
    "///---"
   ]
  },
  {
   "cell_type": "markdown",
   "metadata": {},
   "source": [
    "# Principle of Stationary Phase(POSP)\n",
    "---\n",
    "넓은 주파수 대역을 가지는 1-D 함수의 Fourier Transform 근사 방법이다. Super Chirp($e^{\\pm i \\pi t^n}$) 형태의 Close form이 없는 함수의 주파수 특성을 유도하기에 매우 유용하다.\n",
    "\n",
    "\n",
    "\n",
    "$$I ( f ) = \\int _ { - \\infty } ^ { + \\infty } r ( t ) e ^ { i f \\cdot \\mu ( t ) } d t$$\n",
    "\n",
    "\n",
    "\n",
    "$$ r ( t ), \\mu ( t ) \\text{= real-valued function} $$\n",
    "\n",
    "\n",
    "<br><br>\n",
    "위의 적분식에서 지수 함수 $e ^ { i f \\cdot \\mu ( t ) }$의 진동의 속도는 $f$와 $\\mu ( t )$에 비례할 것이다. 만약 f가 크다면, ${\\mu} ^{\\prime} ( t ) = 0$을 제외한 영역에서  $e ^ { i f \\cdot \\mu ( t ) }$는 -1과 1 매우 빠르게 진동할 것이고 $r ( t )$보다 빠르게 진동한다면 지수 함수의 큰 진동 때문에 값들이 상쇄되어 적분 결과는 매우 작을 것이다.  \n",
    "${\\mu}^{\\prime} ( t_0 ) = 0$인 영역의 $t_0$을 Stationary point라고 부르고 $t_0$의 영역을 적분 값으로 근사화하는 것을 Principle of Stationary Phase라고 한다.\n",
    "<br><br>\n",
    "<br><br>"
   ]
  },
  {
   "cell_type": "markdown",
   "metadata": {},
   "source": [
    "## Principle of Stationary Phase를 이용한 Fourier Transform 근사\n",
    "---------------------------------------------------------------------------------------------------------------------\n",
    "함수 $x(t)$의 Fourier Transform은 아래와 같다.\n",
    "\n",
    "\n",
    "\n",
    "$$\\left.\\begin{array}{l}{  X ( f ) = F  _ { 1} \\{ x ( t ) \\}  = \\int _ { - \\infty } ^ { + \\infty } x ( t ) e ^ { - 2\\pi i f t } d t }\\\\{  = \\int _ { - \\infty } ^ { + \\infty } ( | x ( t ) | e ^ { i \\Phi \\{ x ( t ) \\} } ) e ^ { - 2\\pi i f t } d t }\\\\{  = \\int _ { - \\infty } ^ { + \\infty } | x ( t ) | e ^ { i ( \\Phi \\{ x ( t ) \\} - 2\\pi f t ) } d t }\\end{array} \\right.$$\n",
    "\n",
    "\n",
    "\n",
    "<br><br>\n",
    "$\\mu ( t )$를 아래와 같이 정의한다.\n",
    "\n",
    "\n",
    "\n",
    "$$\\mu ( t ) = \\frac { 1} { f } \\Phi \\{ x ( t ) \\} - 2\\pi t$$\n",
    "\n",
    "\n",
    "\n",
    "<br><br>\n",
    "$\\mu ( t )$로 치환한다. 여기서 $f$는 매개변수이고 피적분함수와 독립이므로 $\\mu ( t )$에 포함되어 있어도 관계 없다.\n",
    "\n",
    "\n",
    "\n",
    "$$X ( f ) = \\int _ { - \\infty } ^ { + \\infty } | x ( t ) | e ^ { i f \\cdot \\mu ( t ) } d t$$\n",
    "\n",
    "\n",
    "\n",
    "<br><br>\n",
    "$\\mu ( t )$를 Taylor series 전개한다.\n",
    "\n",
    "\n",
    "\n",
    "$$\\left.\\begin{array} { c } { \\mu(t) = \\mu ( t _ { 0} ) + ( t - t _ { 0} ) \\mu ^ { \\prime } ( t _ { 0} ) + \\frac { ( t - t _ { 0} ) ^ { 2} } { 2} \\mu ^ { \\prime \\prime } ( t _ { 0} ) } \\\\ { + \\cdots + \\frac { ( t - t _ { 0} ) ^ { n } } { n ! } \\mu ^ { ( n ) } ( t _ { 0} ) + \\cdots } \\end{array} \\right.$$\n",
    "\n",
    "\n",
    "\n",
    "<br><br>\n",
    "$\\mu ^{\\prime} { ( t_0 ) } = 0$이 되는 stationary point $t_0$를 잡아서 위의 Fourier Transform 수식에 대입한다.\n",
    "\n",
    "\n",
    "\n",
    "$$\\left.\\begin{array} { q }{ X ( f ) = \\int _ { - \\infty } ^ { + \\infty } | x ( t ) | \\operatorname{exp} [ + i f ( \\mu ( t _ { 0} ) + \\mu ^ { \\prime \\prime } ( t _ { 0} ) \\frac { ( t - t _ { 0} ) ^ { 2} } { 2} + \\cdots ) ]  d t}\\end{array} \\right.$$\n",
    "\n",
    "\n",
    "\n",
    "$$= \\int _ { - \\infty } ^ { + \\infty } | x ( t ) | ( \\operatorname{exp} [ + i f \\cdot \\mu ( t _ { 0} ) ] \\cdot \\operatorname{exp} [ + i f (\\mu ^ { \\prime \\prime } ( t _ { 0} ) \\frac { ( t - t _ { 0} ) ^ { 2} } { 2} )]\\dots ) d t$$\n",
    "\n",
    "\n",
    "\n",
    "$$= \\operatorname{exp} [ + i f \\cdot \\mu ( t _ { 0} ) ] \\int _ { - \\infty } ^ { + \\infty } | x [ t ] | \\prod _ { n = 2} ^ { + \\infty } ( \\operatorname{exp} [ + i f ( \\mu ^ { ( n ) } ( t _ { 0} ) \\frac { ( t - t _ { 0} ) ^ { n} } { n!} ) ] ) d t$$\n",
    "\n",
    "\n",
    "<br><br>\n",
    "f가 크다면 지수함수의 진동이 $| x ( t ) |$의 변화량 보다 매우 크다고 가정할 수 있고 이 경우 적분 전체에 미치는 영향을 미미할 것으로 간주한다.  \n",
    "이런 가정하에 적분값을 stationary point 주변값으로 근사화 시킬 수 있다. 또한 n > 2일 경우 $t_0$ 부근에서 $(t - t_0)^n << (t - t_0)^2$이므로 위의 수식은 아래와 같이 근사화 된다.\n",
    "이 근사화로 $|x ( t )|$ 를 $|x ( t _ { 0} )|$ 로 치환 할 수 있다.\n",
    "\n",
    "\n",
    "\n",
    "$$\\hat { X } [ | f | > > 0] \\cong | x ( t _ { 0} ) | \\operatorname{exp} [ + i f \\cdot \\mu ( t _ { 0} ) ] \\int _ { t _ { 0} - \\epsilon } ^ { t _ { 0} + \\epsilon } \\operatorname{exp} [ + i f \\cdot \\mu ^ { \\prime \\prime } ( t _ { 0} ) \\frac { ( t - t _ { 0} ) ^ { 2} } { 2} ] d t$$\n",
    "  \n",
    "  \n",
    "\n",
    "<br><br>  \n",
    "적분 Term을 계산하기 위해 한번 더 근사화가 필요하다. Quadratic-phase를 적분할 경우에도 stationary point에 대부분의 값이 집중되어 있으므로 아래와 같이 근사화 시킨다.\n",
    "\n",
    "\n",
    "\n",
    "$$\\int _ { t _ { 0} - \\epsilon } ^ { t _ { 0} + \\epsilon } \\operatorname{exp} [ + i f \\cdot \\mu ^ { \\prime \\prime } ( t _ { 0} ) \\frac { ( t - t _ { 0} ) ^ { 2} } { 2} ] d t \\cong \\int _ { - \\infty } ^ { + \\infty } \\operatorname{exp} [ + i f ( \\mu ^ { \\prime \\prime } ( t _ { 0} ) \\frac { ( t - t _ { 0} ) ^ { 2} } { 2} ) ] dt$$\n",
    "\n",
    "\n",
    "<br><br>\n",
    "$\\pi u^2 \\equiv \\frac { 1} { 2} f \\mu ^ { \\prime \\prime } ( t _ { 0} ) ( t - t _ { 0} ) ^ { 2}$을 이용해 위의 근사식을 변수 치환한다.\n",
    "\n",
    "\n",
    "\n",
    "$$\\int _ { t = - \\infty } ^ { t = + \\infty } \\operatorname{exp} [ + i f ( \\mu ^ { \\prime \\prime } ( t _ { 0} ) \\frac { ( t - t _ { 0} ) ^ { 2} } { 2} ) ] d t = ( \\sqrt { \\frac { 2\\pi } { f \\mu ^ { \\prime \\prime } ( t_ { 0} ) } } ) \\int _ { u = - \\infty } ^ { u = + \\infty } \\operatorname{exp} [ + i \\pi u ^ { 2} ] d u$$\n",
    "\n",
    "\n",
    "<br><br>\n",
    "치환된 수식은 central ordinate theorem을 적용하여 계산할 수 있다.\n",
    "\n",
    "\n",
    "\n",
    "$$( \\sqrt { \\frac { 2\\pi } { f \\mu ^ { \\prime \\prime } ( t _ { 0} ) } } ) \\int _ { u = - \\infty } ^ { u = + \\infty } \\operatorname{exp} [ + i \\pi u ^ { 2} ] d u = ( \\sqrt { \\frac { 2\\pi } { f \\cdot \\mu ^ { \\prime \\prime } ( t _ { 0} ) } } ) \\quad \\operatorname{exp} [ + i \\frac { \\pi } { 4} ]$$\n",
    "\n",
    "\n",
    "<br><br>\n",
    "위의 수식을 정리하면 stationary point $t_0$를 가지는 함수에 대한 Fourier Transform 근사식은 다음과 같다.\n",
    "\n",
    "\n",
    "\n",
    "$$\\hat { X } ( | f | > > 0) \\cong | x ( t _ { 0} ) | ( \\sqrt { \\frac { 2\\pi } { f \\cdot \\mu ^ { \\prime \\prime } ( t _ { 0} ) } } ) \\quad \\operatorname{exp} [ + i \\frac { \\pi } { 4} ] \\quad \\operatorname{exp} [ + i f \\cdot \\mu ( t _ { 0} )]$$\n",
    "\n",
    "만약 stationary point가 여러개일 경우 staionary point별로 계산 후 합한다.\n",
    "<br><br>\n",
    "<br><br>"
   ]
  },
  {
   "cell_type": "markdown",
   "metadata": {},
   "source": [
    "## Linear Frequency Modulation 신호에 POSP 적용\n",
    "-----------------\n",
    "시간에 따라 주파수가 선형적으로 변화하는 Linear Frequency Modulation 신호를 Chirp이라고 부른다.\n",
    "\n",
    "\n",
    "\n",
    "$$\\text{chirp}=e^{i \\pi k_r t^2}$$\n",
    "\n",
    "\n",
    "\n",
    "$$k_r \\text{: Chirp rate}$$\n",
    "\n",
    "\n",
    "Chirp의 경우 2차항만 존재하므로 Taylor Series에 의한 오차가 없어서 POSP를 이용한 근사가 매우 정확하다.\n",
    "\n",
    "\n",
    "Chirp의 경우 $\\mu$는 아래와 같이 정의 되고\n",
    "\n",
    "\n",
    "\n",
    "$$\\mu(t)  = \\frac{\\pi k_r t^2}{f} - 2 \\pi t$$\n",
    "\n",
    "\n",
    "위의 POSP 최종 공식에 넣으면 아래와 같다.\n",
    "\n",
    "\n",
    "\n",
    "$$X(f) = \\frac{1}{\\sqrt{k_r}} e ^{-i \\pi (\\frac{f^2}{k_r} + \\frac{1}{4})}$$\n",
    "\n",
    "\n",
    "<br><br>\n",
    "<br><br>"
   ]
  },
  {
   "cell_type": "markdown",
   "metadata": {},
   "source": [
    "## Sympy를 이용한 Chirp의 Fourier Transform\n",
    "-----------\n",
    "Sympy를 이용하여 Chirp의 적분 결과를 확인한다. Sympy를 사용하면 계산 결과 검토 및 복잡한 연산의 힌트를 찾는데 도움이 된다.\n"
   ]
  },
  {
   "cell_type": "code",
   "execution_count": 1,
   "metadata": {
    "hide_input": false
   },
   "outputs": [],
   "source": [
    "%matplotlib ipympl\n",
    "import matplotlib.pyplot as plt\n",
    "from sympy import init_printing\n",
    "from sympy.printing import latex\n",
    "from IPython.display import Latex\n",
    "from jupyterthemes import jtplot\n",
    "\n",
    "init_printing()\n",
    "jtplot.style(theme='onedork')"
   ]
  },
  {
   "cell_type": "code",
   "execution_count": 2,
   "metadata": {
    "hide_input": false
   },
   "outputs": [],
   "source": [
    "# Show in Markdown\n",
    "from sympy import Symbol, pi, exp\n",
    "from sympy.integrals.transforms import fourier_transform\n",
    "\n",
    "sym_t = Symbol('t')\n",
    "sym_f = Symbol('f')\n",
    "sym_k_r = Symbol('k_r')\n",
    "\n",
    "chirp = exp(-1j * pi * sym_k_r * sym_t**2)\n",
    "chirp_fourier_sympy = fourier_transform(chirp, sym_t, sym_f)"
   ]
  },
  {
   "cell_type": "code",
   "execution_count": 3,
   "metadata": {
    "hide_input": false
   },
   "outputs": [
    {
     "data": {
      "text/latex": [
       "$\\text{chirp:   }e^{- 1.0 i \\pi k_{r} t^{2}}$"
      ],
      "text/plain": [
       "<IPython.core.display.Latex object>"
      ]
     },
     "execution_count": 3,
     "metadata": {},
     "output_type": "execute_result"
    }
   ],
   "source": [
    "Latex('$' + r'\\text{chirp:   }'+latex(chirp) + '$')"
   ]
  },
  {
   "cell_type": "code",
   "execution_count": 4,
   "metadata": {
    "hide_input": false
   },
   "outputs": [
    {
     "data": {
      "text/latex": [
       "$\\text{chirp fourier by sympy:   }\\frac{1.0 i}{\\sqrt{k_{r}}} e^{i \\pi \\left(\\frac{f^{2}}{k_{r}} - \\frac{3}{4}\\right)}$"
      ],
      "text/plain": [
       "<IPython.core.display.Latex object>"
      ]
     },
     "execution_count": 4,
     "metadata": {},
     "output_type": "execute_result"
    }
   ],
   "source": [
    "Latex('$' + r'\\text{chirp fourier by sympy:   }'+latex(chirp_fourier_sympy) + '$')"
   ]
  },
  {
   "cell_type": "markdown",
   "metadata": {},
   "source": [
    "위의 POSP 수식과 Sympy의 Fourier Transform 결과가 동일한 것을 알 수 있다\n",
    "<br><br>\n",
    "<br><br>"
   ]
  },
  {
   "cell_type": "markdown",
   "metadata": {},
   "source": [
    "## Discrete Time Fourier Series(DTFS)와 POSP 결과 비교\n",
    "-----------"
   ]
  },
  {
   "cell_type": "code",
   "execution_count": 5,
   "metadata": {},
   "outputs": [],
   "source": [
    "# Show in Markdown\n",
    "import numpy as np\n",
    "from numpy import arange, exp, pi\n",
    "Tp = 40e-6  # [sec]\n",
    "fs = 50e6  # [Hz]\n",
    "bw = 20e6  # [Hz]\n",
    "kr = bw/Tp  # chirp rate\n",
    "dt = 1/fs\n",
    "\n",
    "num_sample = int(Tp*fs)\n",
    "\n",
    "t = (arange(num_sample) - num_sample/2) * dt\n",
    "\n",
    "chirp_discrete_time = exp(1j * pi * kr * t**2)"
   ]
  },
  {
   "cell_type": "code",
   "execution_count": 6,
   "metadata": {},
   "outputs": [
    {
     "data": {
      "application/vnd.jupyter.widget-view+json": {
       "model_id": "091d6d7483fe4dcb8a8669138e0e0ff7",
       "version_major": 2,
       "version_minor": 0
      },
      "text/plain": [
       "FigureCanvasNbAgg()"
      ]
     },
     "metadata": {},
     "output_type": "display_data"
    }
   ],
   "source": [
    "fig, ax = plt.subplots()\n",
    "ax.plot(t * 1e6, chirp_discrete_time.real)\n",
    "ax.set_title('Real Part of Discrete Time Chirp')\n",
    "ax.set_xlabel('[usec]')\n",
    "ax.grid(True)"
   ]
  },
  {
   "cell_type": "code",
   "execution_count": 7,
   "metadata": {},
   "outputs": [],
   "source": [
    "# Show in Markdown\n",
    "from sympy import lambdify\n",
    "from numpy.fft import fftshift, fft\n",
    "\n",
    "frequency = (arange(num_sample) - num_sample/2) / num_sample * fs\n",
    "chirp_fourier_series = fftshift(fft(chirp_discrete_time))\n",
    "\n",
    "chirp_fourier_sympy_subs = lambdify( sym_f, chirp_fourier_sympy.subs(sym_k_r, kr), \"numpy\" )\n",
    "chirp_fourier_posp = chirp_fourier_sympy_subs(frequency)"
   ]
  },
  {
   "cell_type": "code",
   "execution_count": 8,
   "metadata": {},
   "outputs": [
    {
     "data": {
      "application/vnd.jupyter.widget-view+json": {
       "model_id": "a92b417533aa49bb87ac81fb8d6b85f8",
       "version_major": 2,
       "version_minor": 0
      },
      "text/plain": [
       "FigureCanvasNbAgg()"
      ]
     },
     "metadata": {},
     "output_type": "display_data"
    }
   ],
   "source": [
    "fig, ax = plt.subplots()\n",
    "ax.plot(frequency / 1e6, np.abs(chirp_fourier_series), label='DTFS')\n",
    "ax.plot(frequency / 1e6, np.abs(chirp_fourier_posp), label='sympy')\n",
    "ax.set_title('Magnitude of Spectrum')\n",
    "ax.set_xlabel('[Mhz]')\n",
    "ax.legend()\n",
    "ax.grid(True)"
   ]
  },
  {
   "cell_type": "markdown",
   "metadata": {},
   "source": [
    "sympy 결과와 DTFS의 결과가 전혀 다르게 나타난다. 그 이유는 FFT의 특성과 Fourier transform의 scaling property 때문이다.  \n",
    "\n",
    "Python에서 생성한 discrete chirp이 $x[n]$이고 POSP 유도에서 쓰인 continuous time domain의 chirp이 $x(t)$이면 다음과 같은 관계를 갖는다.\n",
    "\n",
    "\n",
    "\n",
    "$$x[n]=x(n \\cdot dt)$$\n",
    "\n",
    "\n",
    "하지만 fft의 경우 입력된 신호의 Sampling 간격 dt를 1로 가정하고 주파수 Spectrum을 계산하기 때문에 POSP와 FFT의 결과가 달라지게 되고 그 차이는 Fourier transform의 scaling property를 이용하여 아래와 같이 구할 수 있다.\n",
    "\n",
    "\n",
    "$$|F(x[n \\cdot 1])| = \\frac{|F(x[n \\cdot dt])|}{dt}$$"
   ]
  },
  {
   "cell_type": "code",
   "execution_count": 9,
   "metadata": {},
   "outputs": [],
   "source": [
    "# Show in Markdown\n",
    "chirp_fourier_posp = chirp_fourier_sympy_subs(frequency)/dt"
   ]
  },
  {
   "cell_type": "code",
   "execution_count": 10,
   "metadata": {},
   "outputs": [
    {
     "data": {
      "application/vnd.jupyter.widget-view+json": {
       "model_id": "547cf83a23f2446d9cd009b649e8db21",
       "version_major": 2,
       "version_minor": 0
      },
      "text/plain": [
       "FigureCanvasNbAgg()"
      ]
     },
     "metadata": {},
     "output_type": "display_data"
    }
   ],
   "source": [
    "fig, ax = plt.subplots()\n",
    "ax.plot(frequency / 1e6, np.abs(chirp_fourier_series), label='DTFS')\n",
    "ax.plot(frequency / 1e6, np.abs(chirp_fourier_posp), label='sympy')\n",
    "ax.set_title('Magnitude of Spectrum')\n",
    "ax.set_xlabel('[Mhz]')\n",
    "ax.legend()\n",
    "ax.grid(True)"
   ]
  },
  {
   "cell_type": "markdown",
   "metadata": {},
   "source": [
    "# 참고자료\n",
    "- https://www.cis.rit.edu/class/simg738/Handouts/stationary_phase.pdf"
   ]
  },
  {
   "cell_type": "code",
   "execution_count": null,
   "metadata": {},
   "outputs": [],
   "source": []
  }
 ],
 "metadata": {
  "hide_input": false,
  "kernelspec": {
   "display_name": "Python 3",
   "language": "python",
   "name": "python3"
  },
  "language_info": {
   "codemirror_mode": {
    "name": "ipython",
    "version": 3
   },
   "file_extension": ".py",
   "mimetype": "text/x-python",
   "name": "python",
   "nbconvert_exporter": "python",
   "pygments_lexer": "ipython3",
   "version": "3.6.5"
  },
  "toc": {
   "nav_menu": {
    "height": "10px",
    "width": "160px"
   },
   "number_sections": true,
   "sideBar": true,
   "skip_h1_title": false,
   "title_cell": "Table of Contents",
   "title_sidebar": "Contents",
   "toc_cell": false,
   "toc_position": {
    "height": "calc(100% - 180px)",
    "left": "10px",
    "top": "150px",
    "width": "321px"
   },
   "toc_section_display": true,
   "toc_window_display": true
  },
  "varInspector": {
   "cols": {
    "lenName": 16,
    "lenType": 16,
    "lenVar": 40
   },
   "kernels_config": {
    "python": {
     "delete_cmd_postfix": "",
     "delete_cmd_prefix": "del ",
     "library": "var_list.py",
     "varRefreshCmd": "print(var_dic_list())"
    },
    "r": {
     "delete_cmd_postfix": ") ",
     "delete_cmd_prefix": "rm(",
     "library": "var_list.r",
     "varRefreshCmd": "cat(var_dic_list()) "
    }
   },
   "oldHeight": 589.333334,
   "position": {
    "height": "611px",
    "left": "1191.33px",
    "right": "32px",
    "top": "100px",
    "width": "350px"
   },
   "types_to_exclude": [
    "module",
    "function",
    "builtin_function_or_method",
    "instance",
    "_Feature"
   ],
   "varInspector_section_display": "block",
   "window_display": true
  },
  "widgets": {
   "application/vnd.jupyter.widget-state+json": {
    "state": {},
    "version_major": 2,
    "version_minor": 0
   }
  }
 },
 "nbformat": 4,
 "nbformat_minor": 2
}
