{
 "cells": [
  {
   "cell_type": "markdown",
   "metadata": {},
   "source": [
    "///---\n",
    "layout: post\n",
    "title: \"빛의 반사 및 굴절의 특성 유도\"\n",
    "comments: true\n",
    "share: true\n",
    "date: 2018-11-05 11:00:00\n",
    "description: 빛이 반사(reflection) 또는 굴절(Snells's law of refraction) 될 때 특성을 sympy를 이용하여 유도한다.\n",
    "tags: physics python sympy\n",
    "toc: true\n",
    "sitemap :\n",
    "    changefreq : daily\n",
    "    priority : 1.0\n",
    "///---"
   ]
  },
  {
   "cell_type": "markdown",
   "metadata": {},
   "source": [
    "# 빛의 반사 및 굴절의 특성 유도\n",
    "Fermat의 원리[1]는 '빛은 최단 시간으로 이동할 수 있는 경로를 택한다'는 것으로 이 원리를 이용하여 반사 및 굴절의 특성을 유도한다."
   ]
  },
  {
   "cell_type": "markdown",
   "metadata": {},
   "source": [
    "## 빛의 반사 유도"
   ]
  },
  {
   "cell_type": "markdown",
   "metadata": {},
   "source": [
    "빛의 반사 법칙은 그림 1에서 ${\\theta}$(입사각)과 ${\\phi}$(반사각)이 항상 같다는 것을 말한다.\n",
    "\n",
    "<figure>\n",
    "    <img src='../assets/images/reflection_refraction/reflection_dark.png' alt='빛의 반사' width=\"280\" />\n",
    "    <figcaption class=\"figure-caption\">그림 1. 빛의 반사</figcaption>\n",
    "</figure>\n",
    "\n",
    "$$A=\\left(x_1, y_1\\right)$$\n",
    "\n",
    "$$B=\\left(x_2, y_2\\right)$$\n",
    "\n",
    "$$P=\\left(x, 0\\right)$$\n",
    "\n",
    "빛은 최단 시간으로 이동할 수 있는 경로를 택한다는 특성[1]을 이용하면 ${\\theta}$와 ${\\phi}$가 같음을 보일 수 있다.  \n",
    "  \n",
    "A, B는 고정위치이고 P를 변하는 위치라고 가정하면 반사되는 빛의 이동경로는 APB가 된다.  \n",
    "빛의 이동거리를 D=$|APB|$로 놓으면 빛의 이동 시간 $T=\\left((n/c)D\\right)$로 정리 할 수 있다.  \n",
    "  \n",
    "최단 시간을 가지는 P를 계산하기 위해서 T의 미분을 이용하여 T가 최소가 되는 x를 계산한다.\n",
    "\n",
    "$$\\frac{dt}{dx} = \\left(\\frac{n}{c}\\frac{dD}{dx}\\right)=0$$\n",
    "\n",
    "이렇게 구한 x로 입사각과 반사각이 동일함을 보인다."
   ]
  },
  {
   "cell_type": "markdown",
   "metadata": {},
   "source": [
    "### 빛의 이동 거리(D)"
   ]
  },
  {
   "cell_type": "code",
   "execution_count": 1,
   "metadata": {},
   "outputs": [
    {
     "data": {
      "text/latex": [
       "$$D=\\sqrt{y_{1}^{2} + \\left(- x + x_{1}\\right)^{2}} + \\sqrt{y_{2}^{2} + \\left(- x + x_{2}\\right)^{2}}$$"
      ],
      "text/plain": [
       "<IPython.core.display.Latex object>"
      ]
     },
     "execution_count": 1,
     "metadata": {},
     "output_type": "execute_result"
    }
   ],
   "source": [
    "# Show in Markdown\n",
    "from IPython.display import display\n",
    "from sympy.printing import latex\n",
    "from IPython.display import Latex\n",
    "from sympy import init_printing, symbols, sqrt, diff, solve, Abs, simplify\n",
    "init_printing()\n",
    "\n",
    "x = symbols('x', real=True)\n",
    "x1, x2 = symbols('x_1 x_2', real=True, constant = True)\n",
    "y1, y2 = symbols('y_1 y_2', positive=True, constant = True)\n",
    "\n",
    "D = sqrt((x1 - x)**2 + y1**2) + sqrt((x2 - x)**2 + y2**2)\n",
    "Latex('$$D=' + latex(D) + '$$')"
   ]
  },
  {
   "cell_type": "markdown",
   "metadata": {},
   "source": [
    "### D의 미분"
   ]
  },
  {
   "cell_type": "code",
   "execution_count": 2,
   "metadata": {},
   "outputs": [],
   "source": [
    "# Show in Markdown\n",
    "dD = diff(D, x)"
   ]
  },
  {
   "cell_type": "code",
   "execution_count": 3,
   "metadata": {},
   "outputs": [
    {
     "data": {
      "text/latex": [
       "$$\\frac{dD}{dx}=\\frac{x - x_{1}}{\\sqrt{y_{1}^{2} + \\left(- x + x_{1}\\right)^{2}}} + \\frac{x - x_{2}}{\\sqrt{y_{2}^{2} + \\left(- x + x_{2}\\right)^{2}}}$$"
      ],
      "text/plain": [
       "<IPython.core.display.Latex object>"
      ]
     },
     "execution_count": 3,
     "metadata": {},
     "output_type": "execute_result"
    }
   ],
   "source": [
    "Latex('$$\\\\frac{dD}{dx}=' + latex(dD) + '$$')"
   ]
  },
  {
   "cell_type": "markdown",
   "metadata": {},
   "source": [
    "### $\\frac{dD}{dx}=0$ 으로 하는 x"
   ]
  },
  {
   "cell_type": "code",
   "execution_count": 4,
   "metadata": {},
   "outputs": [],
   "source": [
    "# Show in Markdown\n",
    "x_ans= solve(dD, x)"
   ]
  },
  {
   "cell_type": "code",
   "execution_count": 5,
   "metadata": {},
   "outputs": [
    {
     "data": {
      "text/latex": [
       "$$x=\\left [ \\frac{- x_{1} y_{2} + x_{2} y_{1}}{y_{1} - y_{2}}, \\quad \\frac{x_{1} y_{2} + x_{2} y_{1}}{y_{1} + y_{2}}\\right ]$$"
      ],
      "text/plain": [
       "<IPython.core.display.Latex object>"
      ]
     },
     "execution_count": 5,
     "metadata": {},
     "output_type": "execute_result"
    }
   ],
   "source": [
    "Latex('$$x=' + latex(x_ans) + '$$')"
   ]
  },
  {
   "cell_type": "markdown",
   "metadata": {},
   "source": [
    "첫번째 근은 $y_1$과 $y_2$가 같은 경우 발산하므로 제거한다."
   ]
  },
  {
   "cell_type": "code",
   "execution_count": 6,
   "metadata": {},
   "outputs": [],
   "source": [
    "# Show in Markdown\n",
    "x_ans = x_ans[1]"
   ]
  },
  {
   "cell_type": "markdown",
   "metadata": {},
   "source": [
    "### $\\sin(\\theta)$, $\\sin(\\phi)$"
   ]
  },
  {
   "cell_type": "code",
   "execution_count": 7,
   "metadata": {},
   "outputs": [],
   "source": [
    "# Show in Markdown\n",
    "sin_theta = sqrt((x1 - x_ans)**2 + y1**2) / Abs(x1 - x_ans)\n",
    "sin_phi = sqrt((x2 - x_ans)**2 + y2**2) / Abs(x2 - x_ans)"
   ]
  },
  {
   "cell_type": "code",
   "execution_count": 8,
   "metadata": {},
   "outputs": [
    {
     "data": {
      "text/latex": [
       "$$\\sin({\\theta})=\\frac{\\sqrt{y_{1}^{2} + \\left(x_{1} - \\frac{x_{1} y_{2} + x_{2} y_{1}}{y_{1} + y_{2}}\\right)^{2}}}{\\left|{x_{1} - \\frac{x_{1} y_{2} + x_{2} y_{1}}{y_{1} + y_{2}}}\\right|}$$"
      ],
      "text/plain": [
       "<IPython.core.display.Latex object>"
      ]
     },
     "execution_count": 8,
     "metadata": {},
     "output_type": "execute_result"
    }
   ],
   "source": [
    "Latex('$$\\\\sin({\\\\theta})=' + latex(sin_theta) + '$$')"
   ]
  },
  {
   "cell_type": "code",
   "execution_count": 9,
   "metadata": {},
   "outputs": [
    {
     "data": {
      "text/latex": [
       "$$\\sin({\\phi})=\\frac{\\sqrt{y_{2}^{2} + \\left(x_{2} - \\frac{x_{1} y_{2} + x_{2} y_{1}}{y_{1} + y_{2}}\\right)^{2}}}{\\left|{x_{2} - \\frac{x_{1} y_{2} + x_{2} y_{1}}{y_{1} + y_{2}}}\\right|}$$"
      ],
      "text/plain": [
       "<IPython.core.display.Latex object>"
      ]
     },
     "execution_count": 9,
     "metadata": {},
     "output_type": "execute_result"
    }
   ],
   "source": [
    "Latex('$$\\\\sin({\\\\phi})=' + latex(sin_phi) + '$$')"
   ]
  },
  {
   "cell_type": "markdown",
   "metadata": {},
   "source": [
    "### $\\sin(\\theta)$ / $\\sin(\\phi)$"
   ]
  },
  {
   "cell_type": "code",
   "execution_count": 10,
   "metadata": {},
   "outputs": [
    {
     "data": {
      "image/png": "[encoded data removed]",
      "text/latex": [
       "$$\\frac{\\sqrt{y_{1}^{2} + \\left(x_{1} - \\frac{x_{1} y_{2} + x_{2} y_{1}}{y_{1} + y_{2}}\\right)^{2}} \\left|{x_{2} - \\frac{x_{1} y_{2} + x_{2} y_{1}}{y_{1} + y_{2}}}\\right|}{\\sqrt{y_{2}^{2} + \\left(x_{2} - \\frac{x_{1} y_{2} + x_{2} y_{1}}{y_{1} + y_{2}}\\right)^{2}} \\left|{x_{1} - \\frac{x_{1} y_{2} + x_{2} y_{1}}{y_{1} + y_{2}}}\\right|}$$"
      ],
      "text/plain": [
       "     _____________________________                     \n",
       "    ╱                           2                      \n",
       "   ╱    2   ⎛     x₁⋅y₂ + x₂⋅y₁⎞   │     x₁⋅y₂ + x₂⋅y₁│\n",
       "  ╱   y₁  + ⎜x₁ - ─────────────⎟  ⋅│x₂ - ─────────────│\n",
       "╲╱          ⎝        y₁ + y₂   ⎠   │        y₁ + y₂   │\n",
       "───────────────────────────────────────────────────────\n",
       "     _____________________________                     \n",
       "    ╱                           2                      \n",
       "   ╱    2   ⎛     x₁⋅y₂ + x₂⋅y₁⎞   │     x₁⋅y₂ + x₂⋅y₁│\n",
       "  ╱   y₂  + ⎜x₂ - ─────────────⎟  ⋅│x₁ - ─────────────│\n",
       "╲╱          ⎝        y₁ + y₂   ⎠   │        y₁ + y₂   │"
      ]
     },
     "metadata": {},
     "output_type": "display_data"
    }
   ],
   "source": [
    "# Show in Markdown\n",
    "display(sin_theta/sin_phi)"
   ]
  },
  {
   "cell_type": "markdown",
   "metadata": {},
   "source": [
    "반사각과 입사각이 동일하다면 위의 결과가 1이 나와야 하는데 복잡한 결과가 도출되었다.  \n",
    "이유는 sympy에서 simplify 명령 추가하지 않으면 수식을 정리하지 않기 때문이다.\n",
    "simplify 이용하여 다시 결과를 뽑아보면 다음과 같다."
   ]
  },
  {
   "cell_type": "code",
   "execution_count": 11,
   "metadata": {},
   "outputs": [
    {
     "data": {
      "image/png": "[encoded data removed]",
      "text/latex": [
       "$$1$$"
      ],
      "text/plain": [
       "1"
      ]
     },
     "metadata": {},
     "output_type": "display_data"
    }
   ],
   "source": [
    "# Show in Markdown\n",
    "display(simplify(sin_theta/sin_phi))"
   ]
  },
  {
   "cell_type": "markdown",
   "metadata": {},
   "source": [
    "$\\frac{\\sin(\\theta)}{\\sin(\\phi)} = 1$이므로 반사각과 입사각은 동일하다."
   ]
  },
  {
   "cell_type": "markdown",
   "metadata": {},
   "source": [
    "## 빛의 굴절 유도"
   ]
  },
  {
   "cell_type": "markdown",
   "metadata": {},
   "source": [
    "<figure>\n",
    "    <img src='../assets/images/reflection_refraction/refraction_dark.png' alt='빛의 굴절' width=\"280\" />\n",
    "    <figcaption class=\"figure-caption\">그림 2. 빛의 굴절</figcaption>\n",
    "</figure>\n",
    "\n",
    "빛의 굴절은 다음과 같은 특성을 가진다.\n",
    "\n",
    "$$n_1\\sin\\left(\\theta\\right) = n_2\\sin\\left(\\phi\\right)$$\n",
    "\n",
    "빛의 굴절도 페르마의 정리를 이용하여 빛의 반사와 유사하게 유도한다.  \n",
    "빛이 A에서 B까지 이동하는데 걸리는 시간 T는 아래와 같이 정리 된다.\n",
    "\n",
    "$$T = \\frac{n_1}{c}|AP| + \\frac{n_2}{c}|PB|$$\n",
    "\n",
    "$\\frac{dT}{dx} = 0$에서 위의 수식을 확인한다."
   ]
  },
  {
   "cell_type": "markdown",
   "metadata": {},
   "source": [
    "# 빛의 이동 시간"
   ]
  },
  {
   "cell_type": "code",
   "execution_count": 12,
   "metadata": {},
   "outputs": [
    {
     "data": {
      "text/latex": [
       "$$T=\\frac{n_{1} \\sqrt{y_{1}^{2} + \\left(- x + x_{1}\\right)^{2}}}{c} + \\frac{n_{2} \\sqrt{y_{2}^{2} + \\left(- x + x_{2}\\right)^{2}}}{c}$$"
      ],
      "text/plain": [
       "<IPython.core.display.Latex object>"
      ]
     },
     "execution_count": 12,
     "metadata": {},
     "output_type": "execute_result"
    }
   ],
   "source": [
    "# Show in Markdown\n",
    "x = symbols('x', real=True)\n",
    "x1, x2, y1, y2 = symbols('x_1 x_2 y_1 y_2', real=True, constant = True)\n",
    "n1, n2, c = symbols('n_1 n_2 c', positive=True, constant = True)\n",
    "\n",
    "T = (n1/c) * sqrt((x1 - x)**2 + y1**2) + (n2/c) * sqrt((x2 - x)**2 + y2**2)\n",
    "Latex('$$T=' + latex(T) + '$$')"
   ]
  },
  {
   "cell_type": "markdown",
   "metadata": {},
   "source": [
    "### T의 미분"
   ]
  },
  {
   "cell_type": "code",
   "execution_count": 13,
   "metadata": {},
   "outputs": [],
   "source": [
    "# Show in Markdown\n",
    "dT = diff(T, x)"
   ]
  },
  {
   "cell_type": "code",
   "execution_count": 14,
   "metadata": {},
   "outputs": [
    {
     "data": {
      "text/latex": [
       "$$\\frac{dT}{dx}=\\frac{n_{1} \\left(x - x_{1}\\right)}{c \\sqrt{y_{1}^{2} + \\left(- x + x_{1}\\right)^{2}}} + \\frac{n_{2} \\left(x - x_{2}\\right)}{c \\sqrt{y_{2}^{2} + \\left(- x + x_{2}\\right)^{2}}}=0$$"
      ],
      "text/plain": [
       "<IPython.core.display.Latex object>"
      ]
     },
     "execution_count": 14,
     "metadata": {},
     "output_type": "execute_result"
    }
   ],
   "source": [
    "Latex('$$\\\\frac{dT}{dx}=' + latex(dT) + '=0$$')"
   ]
  },
  {
   "cell_type": "markdown",
   "metadata": {},
   "source": [
    "위의 수식은 빛의 굴절 공식과 동일하다."
   ]
  },
  {
   "cell_type": "markdown",
   "metadata": {},
   "source": [
    "## 참고자료\n",
    "[1] https://ko.wikipedia.org/wiki/%ED%8E%98%EB%A5%B4%EB%A7%88%EC%9D%98_%EC%9B%90%EB%A6%AC"
   ]
  }
 ],
 "metadata": {
  "kernelspec": {
   "display_name": "Python 3",
   "language": "python",
   "name": "python3"
  },
  "language_info": {
   "codemirror_mode": {
    "name": "ipython",
    "version": 3
   },
   "file_extension": ".py",
   "mimetype": "text/x-python",
   "name": "python",
   "nbconvert_exporter": "python",
   "pygments_lexer": "ipython3",
   "version": "3.7.3"
  }
 },
 "nbformat": 4,
 "nbformat_minor": 4
}
