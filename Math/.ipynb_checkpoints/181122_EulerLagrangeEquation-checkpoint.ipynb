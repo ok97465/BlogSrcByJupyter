{
 "cells": [
  {
   "cell_type": "markdown",
   "metadata": {},
   "source": [
    "///---\n",
    "layout: post\n",
    "title: \"Euler-Lagrange 방정식\"\n",
    "comments: true\n",
    "share: true\n",
    "date: 2018-11-21 19:33:00\n",
    "description: Euler_Lagrange 방정식을 유도하고 sympy로 계산한다.\n",
    "tags: sympy python math physics\n",
    "sitemap :\n",
    "    changefreq : daily\n",
    "    priority : 1.0\n",
    "///---"
   ]
  },
  {
   "cell_type": "markdown",
   "metadata": {
    "toc-hr-collapsed": false
   },
   "source": [
    "# Euler-Lagrange Equation"
   ]
  },
  {
   "cell_type": "markdown",
   "metadata": {},
   "source": [
    "## 개념 정리 [1]"
   ]
  },
  {
   "cell_type": "markdown",
   "metadata": {},
   "source": [
    "아래와 같은 적분식 $I$를 최소로 만드는 $y(x)$를 찾아야하는 문제가 있다.\n",
    "\n",
    "$$I = \\int _ { x _ { 1 } } ^ { x _ { 2 } } \\sqrt { 1 + y ^ { \\prime 2 } } d x$$\n",
    "\n",
    "$y(x)$가 정해져 있는 경우에는 $\\frac{dI}{dx} = 0$을 찾으면 되지만 여기서는 $y(x)$가 정해져 있지 않으므로 $y(x)$도 독립변수가 되어 $x$에 대한 미분으로 값을 $I$의 최소값을 찾을 수가 없다.  \n",
    "\n",
    "이 문제를 해결하기 위해서 $y(x)$를 extremal(극값)으로 생각하고 임의의 $\\epsilon$, $\\eta$을 도입하여 새로운 $Y(x)$를 정의한다.\n",
    "\n",
    "$$Y(x) = y(x) + \\epsilon \\eta (x)$$\n",
    "\n",
    "<figure>\n",
    "    <img src='../assets/images/EulerLagrange/181122_EulerLagrangeEquation.dio_dark.png' alt='Y(x)' />\n",
    "    <figcaption class=\"figure-caption\">Y(x)</figcaption>\n",
    "</figure>\n",
    "\n",
    "<figure>\n",
    "    <img src='../assets/images/EulerLagrange/181122_EulerLagrangeEquation_eta.dio_dark.png' alt='$\\eta(x)$' />\n",
    "    <figcaption class=\"figure-caption\">$\\eta(x)$</figcaption>\n",
    "</figure>\n",
    "\n",
    "$\\eta$는 미분가능하고 $x_1$, $x_2$에서 0인 값을 갖으면서 random인 함수이다. $\\eta$와 $\\epsilon$의 함수인 $Y(x)$를 이용하면 모든 $I$를 표현 할 수 있으므로 $y(x)$를 해로 가정하고 $Y(x)$의 변화를 이용하여 문제를 풀어간다.\n",
    "\n",
    "$$I = \\int _ { x _ { 1 } } ^ { x _ { 2 } } \\sqrt { 1 + Y ^ { \\prime 2 } } d x$$\n",
    "\n"
   ]
  },
  {
   "cell_type": "markdown",
   "metadata": {},
   "source": [
    "$\\epsilon$이 0인 경우 $Y(x)=y(x)$이므로 I는 최소값을 가져야한다. 수식으로 표현하면 다음과 같다.\n",
    "\n",
    "$$\\frac { d I } { d \\epsilon } = 0 \\quad \\text { when } \\epsilon = 0$$\n",
    "\n"
   ]
  },
  {
   "cell_type": "markdown",
   "metadata": {},
   "source": [
    "## 참고자료\n",
    "[1] Mary L. Boas. (2005). 9. Calculus of Variations. Mathematical Methods in the physical sciences (474)"
   ]
  },
  {
   "cell_type": "code",
   "execution_count": null,
   "metadata": {},
   "outputs": [],
   "source": []
  }
 ],
 "metadata": {
  "kernelspec": {
   "display_name": "Python 3",
   "language": "python",
   "name": "python3"
  },
  "language_info": {
   "codemirror_mode": {
    "name": "ipython",
    "version": 3
   },
   "file_extension": ".py",
   "mimetype": "text/x-python",
   "name": "python",
   "nbconvert_exporter": "python",
   "pygments_lexer": "ipython3",
   "version": "3.6.5"
  }
 },
 "nbformat": 4,
 "nbformat_minor": 2
}
