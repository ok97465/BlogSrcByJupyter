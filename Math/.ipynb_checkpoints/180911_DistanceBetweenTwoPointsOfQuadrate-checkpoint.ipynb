{
 "cells": [
  {
   "cell_type": "markdown",
   "metadata": {},
   "source": [
    "///---\n",
    "layout: post\n",
    "title: \"정사각형 내의 임의의 두점의 거리\"\n",
    "comments: true\n",
    "share: true\n",
    "date: 2018-09-11 14:50:00\n",
    "description: 정사각형 내에 임의의 두점을 선정 했을 때의 두점 사이의 거리의 기대 값을 수식과 Simulation으로 계산한다.\n",
    "tags: math\n",
    "sitemap :\n",
    "    changefreq : daily\n",
    "    priority : 1.0\n",
    "///---"
   ]
  },
  {
   "cell_type": "markdown",
   "metadata": {},
   "source": [
    "# 정사각형 내의 임의의 두점의 거리\n",
    "---\n",
    "정사각형 내의 임의의 두 점 P1, P2 사이의 거리의 기댓값을 계산한다.  \n",
    "P1 = ($x_1$, $y_1$)  \n",
    "P2 = ($x_2$, $y_2$)  \n",
    "$x_1, y_1, x_2, y_2$는 0~1 사이의 uniform random variable로 가정한다.  \n",
    "  \n",
    " <p align=\"center\"> \n",
    "    <img src=\"../assets/images/DistanceBetweenTwoPointsOfQuadrate/DistanceOfpoints_onedork.png\" alt=\"distance img\" width=\"447\" height=\"386\">\n",
    " </p>\n",
    " \n",
    " 간단해 보이는 문제 이지만 쉽게 풀 수 없고 답 또한 직관적이지 않다.\n",
    " "
   ]
  },
  {
   "cell_type": "markdown",
   "metadata": {},
   "source": [
    "## Simulation"
   ]
  },
  {
   "cell_type": "code",
   "execution_count": 23,
   "metadata": {},
   "outputs": [],
   "source": [
    "# Show in Markdown\n",
    "from numpy import sqrt, mean\n",
    "from numpy.random_intel import uniform\n",
    "\n",
    "n = 2 ** 26\n",
    "x1 = uniform(0, 1, n)\n",
    "x2 = uniform(0, 1, n)\n",
    "y1 = uniform(0, 1, n)\n",
    "y2 = uniform(0, 1, n)\n",
    "\n",
    "distances = sqrt((x1 - x2)**2 + (y1 - y2)**2)\n",
    "distances_mean = mean(distances)"
   ]
  },
  {
   "cell_type": "code",
   "execution_count": 24,
   "metadata": {},
   "outputs": [
    {
     "name": "stdout",
     "output_type": "stream",
     "text": [
      "정사각형 내 두 점 사이의 거리 평균 = 0.5214080336052315\n"
     ]
    }
   ],
   "source": [
    "print(f'정사각형 내 두 점 사이의 거리 평균 = {distances_mean}')"
   ]
  },
  {
   "cell_type": "markdown",
   "metadata": {},
   "source": [
    "## 수치해석"
   ]
  },
  {
   "cell_type": "code",
   "execution_count": null,
   "metadata": {},
   "outputs": [],
   "source": [
    "# Show in Markdown\n",
    "from numpy import sqrt\n",
    "from scipy.integrate import nquad\n",
    "\n",
    "integrand = lambda x1, x2, y1, y2: sqrt((x1-x2)**2 + (y1-y2)**2)\n",
    "(distances_mean, abserr, out_dict) = nquad(integrand, [[0, 1], [0, 1], [0, 1], [0, 1]], full_output=True)"
   ]
  },
  {
   "cell_type": "code",
   "execution_count": null,
   "metadata": {},
   "outputs": [],
   "source": [
    "print(f'정사각형 내 두 점 사이의 거리 평균 = {distances_mean}')"
   ]
  },
  {
   "cell_type": "markdown",
   "metadata": {},
   "source": [
    "## 함수 적분[1]\n",
    "* 단순 무식하게 적분 수식  \n",
    "  이 적분의 해가 있는지는 모르겠고 참고자료에서는 다른 적분식을 이용한다.\n",
    "$$\\int _{ 0 }^{ 1 }{ \\int _{ 0 }^{ 1 }{ \\int _{ 0 }^{ 1 }{ \\int _{ 0 }^{ 1 }{ \\sqrt { \\left( { x }_{ 1 }-{ x }_{ 2 } \\right) +\\left( { y }_{ 1 }-y_{ 2 } \\right)  } d{ x }_{ 1 } } d{ x }_{ 2 } } dy_{ 1 } } d{ y }_{ 2 } } $$  \n",
    "<br>  \n",
    "* 두 점의 x축, y축의 차이를 변수로 하는 수식  \n",
    "$|x_1-x_2|=u,\\text{    }|y_1-y_2|=v$로 치환한다.  \n",
    "$|a-b|=c$이고 a, b가 uniform random variable이면 c의 pdf는 2(1-c)임을 이용하여 적분식을 정리하면 아래와 같다.\n",
    "$$4\\int _{ 0 }^{ 1 }{ \\int _{ 0 }^{ 1 }{ \\sqrt { { u }^{ 2 }+{ v }^{ 2 } } \\left( 1-u \\right) \\left( 1-v \\right) du } dv } $$"
   ]
  },
  {
   "cell_type": "markdown",
   "metadata": {},
   "source": [
    "### pdf\n",
    "<p align=\"center\"> \n",
    "  <img src=\"../assets/images/DistanceBetweenTwoPointsOfQuadrate/ab_convolution_onedork.png\" alt=\"a plus b pdf\" width=\"1200\" height=\"240\">\n",
    "</p>\n",
    "<p align=\"center\"> \n",
    "  <img src=\"../assets/images/DistanceBetweenTwoPointsOfQuadrate/ad_convolution_onedork.png\" alt=\"a plus b pdf\" width=\"1200\" height=\"240\">\n",
    "</p>\n",
    "<p align=\"center\"> \n",
    "  <img src=\"../assets/images/DistanceBetweenTwoPointsOfQuadrate/a_b_minus_abs_pdf.resized_onedork.png\" alt=\"a plus b pdf\" width=\"360\" height=\"240\">\n",
    "</p>"
   ]
  },
  {
   "cell_type": "markdown",
   "metadata": {},
   "source": [
    "## 참고자료\n",
    "[1] https://www.youtube.com/watch?v=i4VqXRRXi68&t=275s"
   ]
  },
  {
   "cell_type": "code",
   "execution_count": null,
   "metadata": {},
   "outputs": [],
   "source": []
  }
 ],
 "metadata": {
  "hide_input": false,
  "kernelspec": {
   "display_name": "Python 3",
   "language": "python",
   "name": "python3"
  },
  "language_info": {
   "codemirror_mode": {
    "name": "ipython",
    "version": 3
   },
   "file_extension": ".py",
   "mimetype": "text/x-python",
   "name": "python",
   "nbconvert_exporter": "python",
   "pygments_lexer": "ipython3",
   "version": "3.6.5"
  },
  "toc": {
   "nav_menu": {},
   "number_sections": true,
   "sideBar": true,
   "skip_h1_title": true,
   "title_cell": "Table of Contents",
   "title_sidebar": "Contents",
   "toc_cell": false,
   "toc_position": {},
   "toc_section_display": true,
   "toc_window_display": true
  }
 },
 "nbformat": 4,
 "nbformat_minor": 2
}
