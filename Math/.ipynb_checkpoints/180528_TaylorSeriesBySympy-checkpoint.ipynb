{
 "cells": [
  {
   "cell_type": "markdown",
   "metadata": {},
   "source": [
    "///---\n",
    "layout: post\n",
    "title: \"Taylor Series Using Sympy\"\n",
    "comments: true\n",
    "share: true\n",
    "date: 2018-05-28 08:49:00\n",
    "description: Sympy를 이용하여 Taylor Series를 전개한다\n",
    "tags: sympy python math\n",
    "toc: true\n",
    "sitemap :\n",
    "  changefreq : daily\n",
    "  priority : 1.0\n",
    "///---"
   ]
  },
  {
   "cell_type": "markdown",
   "metadata": {},
   "source": [
    "# Sympy를 이용한 Taylor Series 전개\n",
    "---\n",
    "직관적으로 이해하기 힘든 함수들을 분석하거나 오래 걸리는 연산을 빠르게 하기 위해서 Taylor Series를 종종 사용한다. 대상 함수가 $f(x)$인 경우 Taylor series는 다음과 같다.\n",
    "\n",
    "\n",
    "\n",
    "$$T _ { f } ( x ) = \\sum _ { n = 0} ^ { \\infty } \\frac { f ^ { ( n ) } ( x_0 ) } { n ! } ( x - x_0 ) ^ { n } = f ( x_0 ) + f ^ { \\prime } ( x_0 ) ( x - x_0 ) + \\frac { 1} { 2} f ^ { \\prime \\prime } ( x_0 ) ( x - x_0 ) ^ { 2} + \\frac { 1} { 6} f ^ { \\prime \\prime \\prime } ( x_0 ) ( x - x_0 ) ^ { 3}$$\n",
    "\n",
    "\n",
    "대부분의 경우 $f(x)$의 미분을 구하기가 쉽지 않거나 매우 번거롭기 때문에 이런 업무는 컴퓨터에게 시키는 게 편하다. 다른 사람은 몰라도 최소한 나보다는 컴퓨터가 이런 일을 훨씬 잘한다."
   ]
  },
  {
   "cell_type": "markdown",
   "metadata": {},
   "source": [
    "## sympy를 이용한 1변수 함수(univariate function)의 Taylor Series"
   ]
  },
  {
   "cell_type": "code",
   "execution_count": 1,
   "metadata": {},
   "outputs": [],
   "source": [
    "from ok_sympy import remove_high_order_of_sympy_equation, print_source"
   ]
  },
  {
   "cell_type": "code",
   "execution_count": 2,
   "metadata": {},
   "outputs": [],
   "source": [
    "# Show in Markdown\n",
    "from IPython.display import display\n",
    "from sympy import Symbol, init_printing, atan, sqrt\n",
    "init_printing()"
   ]
  },
  {
   "cell_type": "code",
   "execution_count": 3,
   "metadata": {},
   "outputs": [
    {
     "data": {
      "image/png": "[encoded data removed]",
      "text/latex": [
       "$$\\sqrt{2} + \\frac{\\sqrt{2}}{4} \\left(x - 1\\right) - \\frac{\\sqrt{2}}{32} \\left(x - 1\\right)^{2} + \\frac{\\sqrt{2}}{128} \\left(x - 1\\right)^{3} + \\mathcal{O}\\left(\\left(x - 1\\right)^{4}; x\\rightarrow 1\\right)$$"
      ],
      "text/plain": [
       "                            2             3                     \n",
       "     √2⋅(x - 1)   √2⋅(x - 1)    √2⋅(x - 1)     ⎛       4       ⎞\n",
       "√2 + ────────── - ─────────── + ─────────── + O⎝(x - 1) ; x → 1⎠\n",
       "         4             32           128                         "
      ]
     },
     "metadata": {},
     "output_type": "display_data"
    }
   ],
   "source": [
    "# Show in Markdown\n",
    "x = Symbol('x')\n",
    "f = sqrt(1+x)\n",
    "f_taylor = f.series(x, x0=1, n=4)\n",
    "display(f_taylor)"
   ]
  },
  {
   "cell_type": "markdown",
   "metadata": {},
   "source": [
    "series의 x0 변수를 이용하여 Taylor series의 미분 지점을 설정할 수 있고 n을 조절하면 Taylor series의 차수를 정할 수 있다.\n",
    "series를 이용하면 설정한 n 이상의 차수는 O로 표현되는데 O를 포함한 방정식을 다른 연산에 사용하면 오류가 발생한다. 이 O는 removeO 함수를 이용하여 제거할 수 있다."
   ]
  },
  {
   "cell_type": "code",
   "execution_count": 4,
   "metadata": {},
   "outputs": [
    {
     "data": {
      "image/png": "[encoded data removed]",
      "text/latex": [
       "$$\\frac{\\sqrt{2}}{128} \\left(x - 1\\right)^{3} - \\frac{\\sqrt{2}}{32} \\left(x - 1\\right)^{2} + \\frac{\\sqrt{2}}{4} \\left(x - 1\\right) + \\sqrt{2}$$"
      ],
      "text/plain": [
       "          3             2                  \n",
       "√2⋅(x - 1)    √2⋅(x - 1)    √2⋅(x - 1)     \n",
       "─────────── - ─────────── + ────────── + √2\n",
       "    128            32           4          "
      ]
     },
     "metadata": {},
     "output_type": "display_data"
    }
   ],
   "source": [
    "# Show in Markdown\n",
    "f_taylor_valid = f_taylor.removeO()\n",
    "display(f_taylor_valid)"
   ]
  },
  {
   "cell_type": "markdown",
   "metadata": {},
   "source": [
    "## sympy를 이용한 다변수 함수(multivariate function)의 Taylor Series"
   ]
  },
  {
   "cell_type": "code",
   "execution_count": 5,
   "metadata": {},
   "outputs": [
    {
     "data": {
      "image/png": "[encoded data removed]",
      "text/latex": [
       "$$\\operatorname{atan}{\\left (\\frac{y}{x + 1} \\right )}$$"
      ],
      "text/plain": [
       "    ⎛  y  ⎞\n",
       "atan⎜─────⎟\n",
       "    ⎝x + 1⎠"
      ]
     },
     "metadata": {},
     "output_type": "display_data"
    }
   ],
   "source": [
    "# Show in Markdown\n",
    "x = Symbol('x')\n",
    "y = Symbol('y')\n",
    "f = atan(y/(1+x))\n",
    "display(f)"
   ]
  },
  {
   "cell_type": "code",
   "execution_count": 6,
   "metadata": {},
   "outputs": [
    {
     "data": {
      "image/png": "[encoded data removed]",
      "text/latex": [
       "$$y^{3} \\left(\\frac{10 x^{3}}{3} - 2 x^{2} + x - \\frac{1}{3}\\right) + y \\left(- x^{3} + x^{2} - x + 1\\right)$$"
      ],
      "text/plain": [
       "   ⎛    3               ⎞                        \n",
       " 3 ⎜10⋅x       2       1⎟     ⎛   3    2        ⎞\n",
       "y ⋅⎜───── - 2⋅x  + x - ─⎟ + y⋅⎝- x  + x  - x + 1⎠\n",
       "   ⎝  3                3⎠                        "
      ]
     },
     "metadata": {},
     "output_type": "display_data"
    }
   ],
   "source": [
    "# Show in Markdown\n",
    "num_order = 4\n",
    "f_taylor = f.series(x, 0, num_order).removeO().series(y, 0, num_order).removeO()\n",
    "display(f_taylor)"
   ]
  },
  {
   "cell_type": "markdown",
   "metadata": {},
   "source": [
    "series 함수의 n 값은 변수에 대한 차수이기 때문에 다변수 함수의 전체 차수는 설정한 n보다 커지게 된다.\n",
    "다변수 함수의 전체 차수를 제한하기 위해서 짧은 코딩이 필요하다.\n"
   ]
  },
  {
   "cell_type": "code",
   "execution_count": 7,
   "metadata": {},
   "outputs": [
    {
     "name": "stdout",
     "output_type": "stream",
     "text": [
      "```python\n",
      "# Show in Markdown\n",
      "def remove_high_order_of_sympy_equation(eq, order_required, *variable_names):\n",
      "    from itertools import permutations\n",
      "    from sympy import O\n",
      "\n",
      "    eq_simple = eq.expand()\n",
      "\n",
      "    num_variable = len(variable_names)\n",
      "    list_permutation_all = list(permutations(range(order_required+1), num_variable))\n",
      "    list_permutation = [\n",
      "        order for order in list_permutation_all if sum(order) >= order_required\n",
      "    ]\n",
      "\n",
      "    for orders in list_permutation:\n",
      "        term = None\n",
      "        for idx, order in enumerate(orders):\n",
      "            if term is None:\n",
      "                term = variable_names[idx] ** order\n",
      "            else:\n",
      "                term *= variable_names[idx] ** order\n",
      "\n",
      "        if term:\n",
      "            eq_simple += O(term)\n",
      "\n",
      "    return eq_simple.expand().removeO()\n",
      "\n",
      "```\n"
     ]
    }
   ],
   "source": [
    "print_source(remove_high_order_of_sympy_equation)"
   ]
  },
  {
   "cell_type": "code",
   "execution_count": 8,
   "metadata": {},
   "outputs": [
    {
     "data": {
      "image/png": "[encoded data removed]",
      "text/latex": [
       "$$x^{2} y - x y - \\frac{y^{3}}{3} + y$$"
      ],
      "text/plain": [
       "              3    \n",
       " 2           y     \n",
       "x ⋅y - x⋅y - ── + y\n",
       "             3     "
      ]
     },
     "metadata": {},
     "output_type": "display_data"
    }
   ],
   "source": [
    "# Show in Markdown\n",
    "f_taylor_limited = remove_high_order_of_sympy_equation(f_taylor, num_order, x, y)\n",
    "display(f_taylor_limited)"
   ]
  }
 ],
 "metadata": {
  "hide_input": false,
  "kernelspec": {
   "display_name": "Python 3",
   "language": "python",
   "name": "python3"
  },
  "language_info": {
   "codemirror_mode": {
    "name": "ipython",
    "version": 3
   },
   "file_extension": ".py",
   "mimetype": "text/x-python",
   "name": "python",
   "nbconvert_exporter": "python",
   "pygments_lexer": "ipython3",
   "version": "3.7.3"
  },
  "toc": {
   "nav_menu": {},
   "number_sections": true,
   "sideBar": true,
   "skip_h1_title": true,
   "title_cell": "Table of Contents",
   "title_sidebar": "Contents",
   "toc_cell": false,
   "toc_position": {},
   "toc_section_display": true,
   "toc_window_display": true
  },
  "varInspector": {
   "cols": {
    "lenName": 16,
    "lenType": 16,
    "lenVar": 40
   },
   "kernels_config": {
    "python": {
     "delete_cmd_postfix": "",
     "delete_cmd_prefix": "del ",
     "library": "var_list.py",
     "varRefreshCmd": "print(var_dic_list())"
    },
    "r": {
     "delete_cmd_postfix": ") ",
     "delete_cmd_prefix": "rm(",
     "library": "var_list.r",
     "varRefreshCmd": "cat(var_dic_list()) "
    }
   },
   "types_to_exclude": [
    "module",
    "function",
    "builtin_function_or_method",
    "instance",
    "_Feature"
   ],
   "window_display": false
  }
 },
 "nbformat": 4,
 "nbformat_minor": 4
}
