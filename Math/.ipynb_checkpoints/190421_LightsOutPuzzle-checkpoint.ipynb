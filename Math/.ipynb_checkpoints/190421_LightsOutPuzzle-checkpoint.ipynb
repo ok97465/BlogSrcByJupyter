{
 "cells": [
  {
   "cell_type": "markdown",
   "metadata": {},
   "source": [
    "///---\n",
    "layout: post\n",
    "title: \"Lights Out 퍼즐 풀기\"\n",
    "comments: true\n",
    "share: true\n",
    "date: 2019-04-21 14:13:00\n",
    "description: 주어진 초기 상태에서, 모든 버튼의 불을 끄는 버튼 순서를 찾아본다.\n",
    "tags: python math\n",
    "sitemap :\n",
    "    changefreq : daily\n",
    "    priority : 1.0\n",
    "///---"
   ]
  },
  {
   "cell_type": "markdown",
   "metadata": {},
   "source": [
    "# Lights Out 퍼즐 풀기"
   ]
  },
  {
   "cell_type": "markdown",
   "metadata": {},
   "source": [
    "## Lights Out 퍼즐이란\n",
    "아래 그림과 같이 일부만 켜져 있는 전구 판이 있을 때, 일정한 규칙에 따라 전구 판을 모두 끄는 퍼즐이다.  \n",
    "퍼즐의 규칙은 간단하다. 한 버튼을 누르면 그 버튼과 버튼을 둘러싼 4개의 버튼 상태가 반대로 바뀐다."
   ]
  },
  {
   "cell_type": "code",
   "execution_count": 1,
   "metadata": {},
   "outputs": [],
   "source": [
    "# 설명 그림 Plot 용 코드\n",
    "# Third party imports\n",
    "from jupyterthemes import jtplot\n",
    "from matplotlib.pyplot import subplots\n",
    "from numpy import flipud, ndarray, vectorize\n",
    "from numpy.core.numeric import array\n",
    "from matplotlib.colors import ListedColormap\n",
    "\n",
    "jtplot.style('monokai', fscale=1.3)\n",
    "\n",
    "def draw_light_out_rule(light_before, light_after, push_pos):\n",
    "    # cmap = 'CMRmap'\n",
    "    cmap = ListedColormap(['k', 'g'])\n",
    "    fig, ax = subplots(1, 3,\n",
    "                       figsize=(10, 4),\n",
    "                       gridspec_kw = {'width_ratios':[5, 1, 5]})\n",
    "\n",
    "    ax[0].pcolor(flipud(light_before), cmap=cmap)\n",
    "    ax[2].pcolor(flipud(light_after), cmap=cmap)\n",
    "\n",
    "    ax[1].axis('off')\n",
    "    ax[1].text(0.20, 0.4, f'Push\\n{push_pos}\\nbutton',\n",
    "               color='w',\n",
    "               ha=\"center\",\n",
    "               size=0.25 * fig.dpi,\n",
    "               transform=ax[1].transAxes,\n",
    "               bbox=dict(boxstyle='rarrow', fc=\"grey\", ec=\"k\"))\n",
    "    \n",
    "    ax[0].grid(True, color='grey', linewidth=3)\n",
    "    ax[2].grid(True, color='grey', linewidth=3)\n",
    "    \n",
    "    ax[0].tick_params(labelleft=False,labelbottom= False)\n",
    "    ax[2].tick_params(labelleft=False,labelbottom= False)\n"
   ]
  },
  {
   "cell_type": "code",
   "execution_count": 2,
   "metadata": {},
   "outputs": [
    {
     "data": {
      "image/png": "[encoded data removed]",
      "text/plain": [
       "<Figure size 720x288 with 3 Axes>"
      ]
     },
     "metadata": {
      "needs_background": "dark"
     },
     "output_type": "display_data"
    }
   ],
   "source": [
    "lights_before = array([[1, 1, 1, 1, 0],\n",
    "                       [1, 1, 1, 0, 1],\n",
    "                       [1, 1, 1, 0, 1],\n",
    "                       [0, 0, 0, 1, 1],\n",
    "                       [1, 1, 0, 1, 1]])\n",
    "\n",
    "lights_after = array([[0, 0, 1, 1, 0],\n",
    "                      [0, 1, 1, 0, 1],\n",
    "                      [1, 1, 1, 0, 1],\n",
    "                      [0, 0, 0, 1, 1],\n",
    "                      [1, 1, 0, 1, 1]])\n",
    "\n",
    "draw_light_out_rule(lights_before, lights_after, '(0, 0)')"
   ]
  },
  {
   "cell_type": "code",
   "execution_count": 3,
   "metadata": {},
   "outputs": [
    {
     "data": {
      "image/png": "[encoded data removed]",
      "text/plain": [
       "<Figure size 720x288 with 3 Axes>"
      ]
     },
     "metadata": {
      "needs_background": "dark"
     },
     "output_type": "display_data"
    }
   ],
   "source": [
    "lights_before = array([[1, 1, 1, 1, 0],\n",
    "                       [1, 1, 1, 0, 1],\n",
    "                       [1, 1, 1, 0, 1],\n",
    "                       [0, 0, 0, 1, 1],\n",
    "                       [1, 1, 0, 1, 1]])\n",
    "\n",
    "lights_after = array([[1, 0, 1, 1, 0],\n",
    "                      [0, 0, 0, 0, 1],\n",
    "                      [1, 0, 1, 0, 1],\n",
    "                      [0, 0, 0, 1, 1],\n",
    "                      [1, 1, 0, 1, 1]])\n",
    "\n",
    "draw_light_out_rule(lights_before, lights_after, '(1, 1)')"
   ]
  },
  {
   "cell_type": "markdown",
   "metadata": {},
   "source": [
    "## 수학적 접근\n",
    "\n",
    "퍼즐을 대해 아래와 같은 질문을 할 수 있다.\n",
    "\n",
    "- 풀 수 있는 퍼즐인가?\n",
    "- 풀 수 있는 방법은 한가지 인가?\n",
    "- 풀 수 있는 방법이 여러가지 일 경우 최소한의 노력으로 풀 수 있는 방법은 무엇인가?\n",
    "\n",
    "위의 질문에 답을 하려면 수학적 접근이 필요하다.   \n",
    "\n",
    "우선 퍼즐 문제를 수학 문제로 변환하기 위해서 버튼의 상태변화를 사칙연산으로 정의하고 퍼즐의 상태 변화를 행렬로 정의한다.\n",
    "\n",
    "퍼즐의 상태 변화가 행렬로 정의 되면 Lights out 퍼즐은 간단한 선형대수학 문제로 바뀌게 되어 질문의 답을 쉽게 얻을 수 있다."
   ]
  },
  {
   "cell_type": "markdown",
   "metadata": {},
   "source": [
    "### Galois Field 2\n",
    "GF(2)는 갈루아 필드(Galois Filed 2)를 간략하게 표현한 것이다.\n",
    "갈루아 필드의 +, x는 아래와 같이 정의 된다."
   ]
  },
  {
   "cell_type": "code",
   "execution_count": 4,
   "metadata": {},
   "outputs": [],
   "source": [
    "from IPython.display import HTML\n",
    "\n",
    "def multi_table(table_list):\n",
    "    ''' Acceps a list of IpyTable objects and returns a table which contains each IpyTable in a cell\n",
    "    '''\n",
    "    return HTML(\n",
    "        '<table>' + \n",
    "        ''.join(['<td>' + table.to_html(index=False) + '</td>' for table in table_list]) +\n",
    "        '</table>'\n",
    "    )"
   ]
  },
  {
   "cell_type": "code",
   "execution_count": 5,
   "metadata": {},
   "outputs": [
    {
     "data": {
      "text/html": [
       "<table><td><table border=\"1\" class=\"dataframe\">\n",
       "  <thead>\n",
       "    <tr style=\"text-align: right;\">\n",
       "      <th>x</th>\n",
       "      <th>0</th>\n",
       "      <th>1</th>\n",
       "    </tr>\n",
       "  </thead>\n",
       "  <tbody>\n",
       "    <tr>\n",
       "      <td>0</td>\n",
       "      <td>0</td>\n",
       "      <td>0</td>\n",
       "    </tr>\n",
       "    <tr>\n",
       "      <td>1</td>\n",
       "      <td>0</td>\n",
       "      <td>1</td>\n",
       "    </tr>\n",
       "  </tbody>\n",
       "</table></td><td><table border=\"1\" class=\"dataframe\">\n",
       "  <thead>\n",
       "    <tr style=\"text-align: right;\">\n",
       "      <th>+</th>\n",
       "      <th>0</th>\n",
       "      <th>1</th>\n",
       "    </tr>\n",
       "  </thead>\n",
       "  <tbody>\n",
       "    <tr>\n",
       "      <td>0</td>\n",
       "      <td>0</td>\n",
       "      <td>1</td>\n",
       "    </tr>\n",
       "    <tr>\n",
       "      <td>1</td>\n",
       "      <td>1</td>\n",
       "      <td>1</td>\n",
       "    </tr>\n",
       "  </tbody>\n",
       "</table></td></table>"
      ],
      "text/plain": [
       "<IPython.core.display.HTML object>"
      ]
     },
     "execution_count": 5,
     "metadata": {},
     "output_type": "execute_result"
    }
   ],
   "source": [
    "from numpy import zeros\n",
    "from pandas import DataFrame\n",
    "data_mul = zeros((2,), dtype=[('x', 'i4'), ('0', 'i4'), ('1', 'i4')])\n",
    "data_mul[:] = [(0, 0, 0), (1, 0, 1)]\n",
    "df_mul = DataFrame(data_mul)\n",
    "\n",
    "data_add = zeros((2,), dtype=[('+', 'i4'), ('0', 'i4'), ('1', 'i4')])\n",
    "data_add[:] = [(0, 0, 1), (1, 1, 1)]\n",
    "df_add = DataFrame(data_add)\n",
    "multi_table([df_mul, df_add])"
   ]
  },
  {
   "cell_type": "markdown",
   "metadata": {},
   "source": [
    "갈루아 필드의 특성은 다음과 같다.\n",
    "\n",
    "- 덧셈은 modulo 2 이며, 이것은 배타적 논리합과 같다.\n",
    "- 뺄셈은 덧셈과 동일하다. 1의 음수는 1이고, 0의 음수는 0이다.\n",
    "- 곱셈은 일반적인 0, 1의 곱셈과 같다."
   ]
  },
  {
   "cell_type": "markdown",
   "metadata": {},
   "source": [
    "### Lights Out 퍼즐을 갈루아 필드로 표현\n",
    "\n",
    "Lights Out 의 불이 켜진 상태를 1, 꺼진 상태를 0으로 놓는다. 그리고 버튼이 눌려서 상태가 변하는 것을 갈루아 필드의 +1로 생각해 보자.\n",
    "  \n",
    "```\n",
    "켜진 상태(1) + 1 = 꺼진 상태(0)\n",
    "꺼진 상태(0) + 1 = 켜진 상태(1)\n",
    "```\n",
    "위의 수식은 버튼이 눌렸을 때의 변화를 GF(2)의 덧셈으로 표현 가능함을 보여준다.\n",
    "\n",
    "Light Out 문제는 GF(2)에 포함된 벡터의 덧셈 문제로 변환 될 수 있다.\n",
    "문제를 간단하게 하기 위해 버튼을 2x2로 제한하면 상태 천이 벡터($v_i$)는 아래와 같이 정의 된다.\n",
    "\n",
    "<table><td><table border=\"1\" class=\"dataframe\">\n",
    "  <caption>v<sub>1</sub></caption>\n",
    "  <thead>\n",
    "    <tr style=\"text-align: right;\">\n",
    "      <th>1</th>\n",
    "      <th>1</th>\n",
    "    </tr>\n",
    "  </thead>\n",
    "  <tbody>\n",
    "    <tr>\n",
    "      <td>1</td>\n",
    "      <td>0</td>\n",
    "    </tr>\n",
    "  </tbody>\n",
    "</table></td><td><table border=\"1\" class=\"dataframe\">\n",
    " <caption>v<sub>2</sub></caption>\n",
    "  <thead>\n",
    "    <tr style=\"text-align: right;\">\n",
    "      <th>1</th>\n",
    "      <th>0</th>\n",
    "    </tr>\n",
    "  </thead>\n",
    "  <tbody>\n",
    "    <tr>\n",
    "      <td>1</td>\n",
    "      <td>1</td>\n",
    "    </tr>\n",
    "  </tbody>\n",
    "</table></td><td><table border=\"1\" class=\"dataframe\">\n",
    " <caption>v<sub>3</sub></caption>\n",
    "  <thead>\n",
    "    <tr style=\"text-align: right;\">\n",
    "      <th>1</th>\n",
    "      <th>1</th>\n",
    "    </tr>\n",
    "  </thead>\n",
    "  <tbody>\n",
    "    <tr>\n",
    "      <td>0</td>\n",
    "      <td>1</td>\n",
    "    </tr>\n",
    "  </tbody>\n",
    "</table></td><td><table border=\"1\" class=\"dataframe\">\n",
    " <caption>v<sub>4</sub></caption>\n",
    "  <thead>\n",
    "    <tr style=\"text-align: right;\">\n",
    "      <th>0</th>\n",
    "      <th>1</th>\n",
    "    </tr>\n",
    "  </thead>\n",
    "  <tbody>\n",
    "    <tr>\n",
    "      <td>1</td>\n",
    "      <td>1</td>\n",
    "    </tr>\n",
    "  </tbody>\n",
    "</table></td></table>\n",
    "\n"
   ]
  },
  {
   "cell_type": "markdown",
   "metadata": {},
   "source": [
    "<br>  \n",
    "초기 상태를 $s$로 놓고 $s$를 0으로 만드는 버튼은 다음과 같이 표현 할 수 있다.\n",
    "\n",
    "$$s + v_i + v_j + v_k \\cdots = 0,\\quad \\quad \\quad i\\neq j\\neq k\\quad(v_1 + v_1 = 0\\text{이므로})$$\n",
    "\n",
    "즉 Lights Out 문제는 GF(2)에서 $s$가 $v_i$의 벡터의 합으로 표현 할수 있는가의 문제가 된다."
   ]
  },
  {
   "cell_type": "markdown",
   "metadata": {},
   "source": [
    "### 해법을 찾는 방안\n",
    "\n",
    "상태 천이 벡터($v_i$)로 이루어진 상태 천이 행렬($M$)을 정의한다.\n",
    "\n",
    "$$M=\\left[ \\begin{matrix} { v }_{ 1 } & { v }_{ 2 } & \\cdots  & { v }_{ n-1 } & { v }_{ n } \\end{matrix} \\right]$$\n",
    "\n",
    "Lights Out 문제는 GF2에서 아래의 수식의 $x$를 찾는 방정식 문제로 정리된다.\n",
    "\n",
    "$$Mx=s$$\n",
    "\n",
    "벡터들이 실수에서 정의 되어 있다면 이미 구현된 라이브러리들을 이용하여 ${M}^{-1}$를 쉽게 구할 수 있지만 GF2의 경우 ${M}^{-1}$를 직접 계산하여야 한다. GF2의 ${M}^{-1}$는 Gauss Elimination을 이용하여 구할 수 있다.\n",
    "\n",
    "$M$은 퍼즐의 크기에 따라서 Full Rank일 경우도 있고 그렇지 않은 경우도 있다.\n",
    "\n",
    "만약 Full Rank일 경우에는 퍼즐의 모든 초기 상태에 대해서 유일한 해답을 가진다.\n",
    "\n",
    "만약 Full Rank가 아닐 경우에는 퍼즐의 초기 상태에 따라서 풀이법이 없거나 여러가지 풀이법을 가질 수 있다. 초기 상태가 M의 Null Space와 내적하여 값을 가질 경우에는 퍼즐의 답을 찾을 수 없다. 퍼즐이 Null space를 포함하지 않을 경우 해법은 $x$와 null space의 조합으로 여러개가 존재한다."
   ]
  },
  {
   "cell_type": "markdown",
   "metadata": {},
   "source": [
    "## Python 코드"
   ]
  },
  {
   "cell_type": "markdown",
   "metadata": {},
   "source": [
    "### Galois Field [2]\n",
    "Python에서 Galois Field를 표현하기 위해서 Class를 선언한다."
   ]
  },
  {
   "cell_type": "code",
   "execution_count": 6,
   "metadata": {},
   "outputs": [],
   "source": [
    "# Show in Markdown\n",
    "class GF2(object):\n",
    "    \"\"\"Galois field GF(2).\"\"\"\n",
    "\n",
    "    def __init__(self, a=0):\n",
    "        self.value = int(a) % 2\n",
    "\n",
    "    def __add__(self, rhs):\n",
    "        \"\"\".\"\"\"\n",
    "        return GF2(self.value + GF2(rhs).value)\n",
    "\n",
    "    def __mul__(self, rhs):\n",
    "        \"\"\".\"\"\"\n",
    "        return GF2(self.value * GF2(rhs).value)\n",
    "\n",
    "    def __sub__(self, rhs):\n",
    "        \"\"\".\"\"\"\n",
    "        return GF2(self.value - GF2(rhs).value)\n",
    "\n",
    "    def __truediv__(self, rhs):\n",
    "        \"\"\".\"\"\"\n",
    "        return GF2(self.value / GF2(rhs).value)\n",
    "\n",
    "    def __repr__(self):\n",
    "        \"\"\".\"\"\"\n",
    "        return str(self.value)\n",
    "\n",
    "    def __eq__(self, rhs):\n",
    "        \"\"\".\"\"\"\n",
    "        if isinstance(rhs, GF2):\n",
    "            return self.value == rhs.value\n",
    "        return self.value == rhs\n",
    "\n",
    "    def __le__(self, rhs):\n",
    "        \"\"\".\"\"\"\n",
    "        if isinstance(rhs, GF2):\n",
    "            return self.value <= rhs.value\n",
    "        return self.value <= rhs\n",
    "\n",
    "    def __lt__(self, rhs):\n",
    "        \"\"\".\"\"\"\n",
    "        if isinstance(rhs, GF2):\n",
    "            return self.value < rhs.value\n",
    "        return self.value < rhs\n",
    "\n",
    "    def __int__(self):\n",
    "        \"\"\".\"\"\"\n",
    "        return self.value\n",
    "\n",
    "    def __long__(self):\n",
    "        \"\"\".\"\"\"\n",
    "        return self.value\n",
    "    \n",
    "GF2array = vectorize(GF2)"
   ]
  },
  {
   "cell_type": "markdown",
   "metadata": {},
   "source": [
    "### 상태 천이 행렬 생성\n",
    "상태 천이 벡터($v_i$)가 하나의 열로 구성된 상태 천이 행렬을 생성한다."
   ]
  },
  {
   "cell_type": "code",
   "execution_count": 7,
   "metadata": {},
   "outputs": [],
   "source": [
    "# Show in Markdown\n",
    "def draw_state_trasition(state, ax, grid_width=3):\n",
    "    \"\"\"Plot State-Transition Matrix\"\"\"\n",
    "    from numpy import arange\n",
    "    cmap = ListedColormap(['k', 'g'])\n",
    "    ax.pcolor(flipud(state), cmap=cmap)\n",
    "    ax.set_xticks(arange(state.shape[1]))\n",
    "    ax.set_yticks(arange(state.shape[0]))\n",
    "    ax.grid(True, color='grey', linewidth=grid_width)\n",
    "    ax.tick_params(labelleft=False,labelbottom= False)"
   ]
  },
  {
   "cell_type": "code",
   "execution_count": 8,
   "metadata": {},
   "outputs": [
    {
     "data": {
      "image/png": "[encoded data removed]",
      "text/plain": [
       "<Figure size 576x324 with 17 Axes>"
      ]
     },
     "metadata": {},
     "output_type": "display_data"
    }
   ],
   "source": [
    "# Show in Markdown\n",
    "from numpy import zeros\n",
    "from matplotlib.pyplot import figure, subplot\n",
    "from matplotlib.gridspec import GridSpec\n",
    "\n",
    "def state_transition_matrix_lightsout(n, grid_spec):\n",
    "    \"\"\"Calculate state trasition matrix of light out.\"\"\"\n",
    "    matrix = zeros((n * n, n * n))\n",
    "\n",
    "    for idx_row in range(1, n + 1):\n",
    "        for idx_col in range(1, n + 1):\n",
    "            vector = zeros((n + 2, n + 2))\n",
    "            vector[idx_row - 1, idx_col + 0] = 1\n",
    "            vector[idx_row + 1, idx_col + 0] = 1\n",
    "            vector[idx_row + 0, idx_col + 0] = 1\n",
    "            vector[idx_row + 0, idx_col + 1] = 1\n",
    "            vector[idx_row + 0, idx_col - 1] = 1\n",
    "            vector = vector[1:n + 1, 1:n + 1]\n",
    "\n",
    "            ax = subplot(grid_spec[idx_row - 1, idx_col - 1])\n",
    "            draw_state_trasition(vector, ax)\n",
    "\n",
    "            matrix[(idx_row - 1) * n + (idx_col - 1) , :] = vector.ravel()\n",
    "\n",
    "    return matrix\n",
    "\n",
    "\n",
    "n_lightsout = 4\n",
    "\n",
    "fig = figure(figsize=(8, 4.5))\n",
    "\n",
    "fig.suptitle(\"   Trasition Vectors                                           Trasition Matrix\",\n",
    "             fontsize=15)\n",
    "gs1 = GridSpec(n_lightsout, n_lightsout, figure=fig)\n",
    "gs1.update(left=0.05, right=0.48, wspace=0.05)\n",
    "\n",
    "gs2 = GridSpec(n_lightsout, n_lightsout, figure=fig)\n",
    "gs2.update(left=0.55, right=0.98)\n",
    "\n",
    "state_mat = state_transition_matrix_lightsout(n_lightsout, gs1)\n",
    "\n",
    "ax = subplot(gs2[:, :])\n",
    "draw_state_trasition(state_mat, ax)"
   ]
  },
  {
   "cell_type": "markdown",
   "metadata": {},
   "source": [
    "### 역행렬 및 Null Space 계산\n",
    "Gauss Elimination을 이용하여 역행렬과 Null Space를 계산한다."
   ]
  },
  {
   "cell_type": "code",
   "execution_count": 9,
   "metadata": {},
   "outputs": [],
   "source": [
    "# Show in Markdown\n",
    "import numpy as np\n",
    "from numpy import hstack, eye, where, vstack, int32\n",
    "\n",
    "def inv_by_gauss_elimination(mat):\n",
    "    \"\"\"Caculate inverse matrix by gauss elimination.\n",
    "\n",
    "    Parameters\n",
    "    ----------\n",
    "    mat : ndarray\n",
    "        matrix.\n",
    "\n",
    "    Returns\n",
    "    -------\n",
    "    mat_inv : ndarray\n",
    "        inverse matrix.\n",
    "    mat_null : ndarray\n",
    "        null space matrix.\n",
    "\n",
    "    \"\"\"\n",
    "    n_row, n_col = mat.shape\n",
    "\n",
    "    if n_row != n_col:\n",
    "        raise ValueError(\"n_row and n_col are diffrents.\")\n",
    "\n",
    "    data = GF2array(hstack([mat, eye(n_row)]))\n",
    "\n",
    "    n_null_dim = 0\n",
    "    mat_null = array([])\n",
    "\n",
    "    # Row echelon form\n",
    "    for idx_row_src in range(n_row - 1):\n",
    "        idx_pivot_candidate = where(data[idx_row_src:, idx_row_src] == 1)[0]\n",
    "\n",
    "        if len(idx_pivot_candidate) > 0:\n",
    "            idx_pivot = idx_pivot_candidate[0] + idx_row_src\n",
    "        else:\n",
    "            n_null_dim += 1\n",
    "            continue\n",
    "\n",
    "        if idx_pivot != idx_row_src:\n",
    "            tmp = data[idx_row_src, :].copy()\n",
    "            data[idx_row_src, :] = data[idx_pivot, :]\n",
    "            data[idx_pivot, :] = tmp\n",
    "\n",
    "        for idx_row_dst in range(idx_row_src + 1, n_row):\n",
    "            data[idx_row_dst, :] += (data[idx_row_src, :]\n",
    "                                     * data[idx_row_dst, idx_row_src])\n",
    "\n",
    "    if np.sum(data[-1, :n_col]) == 0:\n",
    "        n_null_dim += 1\n",
    "\n",
    "    # inverse matrix\n",
    "    for idx_row_src in range(n_row - 1, 0, -1):\n",
    "        for idx_row_dst in range(idx_row_src - 1, -1, -1):\n",
    "            data[idx_row_dst, :] += (data[idx_row_src, :]\n",
    "                                     * data[idx_row_dst, idx_row_src])\n",
    "\n",
    "    # Find Null space\n",
    "    if n_null_dim > 0:\n",
    "        mat_diag = data[:, :n_col]\n",
    "        mat_null = vstack(\n",
    "            [mat_diag[:n_row - n_null_dim, -n_null_dim:],\n",
    "             GF2array(eye(n_null_dim))])\n",
    "\n",
    "    mat_inv = data[-n_row:, -n_col:]\n",
    "\n",
    "    return mat_inv, mat_null"
   ]
  },
  {
   "cell_type": "markdown",
   "metadata": {},
   "source": [
    "### 풀 수 있는 문제인지 확인\n",
    "켜져 있는 Light와 Null Space를 내적하여 0이면 풀수 있는 문제"
   ]
  },
  {
   "cell_type": "code",
   "execution_count": 10,
   "metadata": {},
   "outputs": [],
   "source": [
    "# Show in Markdown\n",
    "def check_solvable(lights_mat, mat_null):\n",
    "    \"\"\"Check if the problem is solved.\n",
    "\n",
    "    Parameters\n",
    "    ----------\n",
    "    lights_mat : ndarray\n",
    "        matrix of lightout problem.\n",
    "    mat_null : ndarray\n",
    "        null space matrix.\n",
    "\n",
    "    Returns\n",
    "    -------\n",
    "    is_solvable: bool\n",
    "        return True if lights_mat is solvable.\n",
    "\n",
    "    \"\"\"\n",
    "    is_solvable = True\n",
    "\n",
    "    if len(mat_null) > 0:\n",
    "        ret = np.sum((int32(lights_mat.ravel()) @ int32(mat_null)) % 2)\n",
    "        if ret != 0:\n",
    "            is_solvable = False\n",
    "\n",
    "    return is_solvable"
   ]
  },
  {
   "cell_type": "markdown",
   "metadata": {},
   "source": [
    "### 결과 확인"
   ]
  },
  {
   "cell_type": "markdown",
   "metadata": {},
   "source": [
    "#### 역행렬 계산"
   ]
  },
  {
   "cell_type": "code",
   "execution_count": 11,
   "metadata": {},
   "outputs": [],
   "source": [
    "# Show in Markdown\n",
    "state_mat_inv, state_mat_null = inv_by_gauss_elimination(state_mat)"
   ]
  },
  {
   "cell_type": "markdown",
   "metadata": {},
   "source": [
    "#### Null Space가 잘 계산되어 있는지 확인"
   ]
  },
  {
   "cell_type": "code",
   "execution_count": 12,
   "metadata": {},
   "outputs": [
    {
     "name": "stdout",
     "output_type": "stream",
     "text": [
      "No. vectors of null space is 4.\n",
      "Null Space is correct.\n"
     ]
    }
   ],
   "source": [
    "# Show in Markdown\n",
    "if len(state_mat_null) > 0:\n",
    "    print(f\"No. vectors of null space is {state_mat_null.shape[1]}.\")\n",
    "    ret = (int32(state_mat) @ int32(state_mat_null)) % 2\n",
    "    has_value = np.any(ret)\n",
    "    if has_value:\n",
    "        print(\"====> Null Space is wrong. <====\")\n",
    "    else:\n",
    "        print(\"Null Space is correct.\")\n",
    "else:\n",
    "    print(\"No. vectors of null space is 0.\")"
   ]
  },
  {
   "cell_type": "markdown",
   "metadata": {},
   "source": [
    "#### 문제 풀이"
   ]
  },
  {
   "cell_type": "code",
   "execution_count": 13,
   "metadata": {},
   "outputs": [
    {
     "name": "stdout",
     "output_type": "stream",
     "text": [
      "Solvable True\n"
     ]
    }
   ],
   "source": [
    "# Show in Markdown\n",
    "lights_mat = array([[1, 0, 0, 1],\n",
    "                    [1, 1, 1, 1],\n",
    "                    [1, 0, 0, 1],\n",
    "                    [0, 0, 0, 0]])\n",
    "\n",
    "is_solvable = check_solvable(lights_mat, state_mat_null)\n",
    "print(f'Solvable {is_solvable}')\n",
    "\n",
    "solution = (int32(state_mat_inv) @ int32(lights_mat.ravel())) % 2\n",
    "solution = solution.reshape(n_lightsout, n_lightsout)"
   ]
  },
  {
   "cell_type": "code",
   "execution_count": 14,
   "metadata": {},
   "outputs": [
    {
     "data": {
      "image/png": "[encoded data removed]",
      "text/plain": [
       "<Figure size 648x324 with 2 Axes>"
      ]
     },
     "metadata": {},
     "output_type": "display_data"
    }
   ],
   "source": [
    "fig, ax = subplots(1, 2, figsize=(9, 4.5))\n",
    "draw_state_trasition(lights_mat, ax[0])\n",
    "draw_state_trasition(solution, ax[1])\n",
    "\n",
    "ax[0].set_title(\"Problem\")\n",
    "_ = ax[1].set_title(\"Solution\")"
   ]
  },
  {
   "cell_type": "markdown",
   "metadata": {},
   "source": [
    "## 게임\n",
    "\n",
    "위에서 설명된 수식을 이용하여 간단한 게임을 만들 수 있다.[3]\n",
    "\n",
    "<figure>\n",
    "    <img src='../assets/images/LightsOut/DemoLightsOut.gif' alt='Game Demo' width=\"240\" />\n",
    "    <figcaption class=\"figure-caption\">Game Demo</figcaption>\n",
    "</figure>"
   ]
  },
  {
   "cell_type": "markdown",
   "metadata": {},
   "source": [
    "## 참고자료\n",
    "[1] 필립 클라인. (2019). 3. 벡터. Coding The Matrix (90)  \n",
    "[2] https://github.com/pmneila/Lights-Out\n",
    "[3] https://github.com/ok97465/GameLightsOut"
   ]
  }
 ],
 "metadata": {
  "hide_input": false,
  "kernelspec": {
   "display_name": "Python 3",
   "language": "python",
   "name": "python3"
  },
  "language_info": {
   "codemirror_mode": {
    "name": "ipython",
    "version": 3
   },
   "file_extension": ".py",
   "mimetype": "text/x-python",
   "name": "python",
   "nbconvert_exporter": "python",
   "pygments_lexer": "ipython3",
   "version": "3.7.3"
  },
  "toc": {
   "base_numbering": 1,
   "nav_menu": {},
   "number_sections": true,
   "sideBar": true,
   "skip_h1_title": false,
   "title_cell": "Table of Contents",
   "title_sidebar": "Contents",
   "toc_cell": false,
   "toc_position": {},
   "toc_section_display": true,
   "toc_window_display": false
  },
  "varInspector": {
   "cols": {
    "lenName": 16,
    "lenType": 16,
    "lenVar": 40
   },
   "kernels_config": {
    "python": {
     "delete_cmd_postfix": "",
     "delete_cmd_prefix": "del ",
     "library": "var_list.py",
     "varRefreshCmd": "print(var_dic_list())"
    },
    "r": {
     "delete_cmd_postfix": ") ",
     "delete_cmd_prefix": "rm(",
     "library": "var_list.r",
     "varRefreshCmd": "cat(var_dic_list()) "
    }
   },
   "types_to_exclude": [
    "module",
    "function",
    "builtin_function_or_method",
    "instance",
    "_Feature"
   ],
   "window_display": false
  }
 },
 "nbformat": 4,
 "nbformat_minor": 4
}
