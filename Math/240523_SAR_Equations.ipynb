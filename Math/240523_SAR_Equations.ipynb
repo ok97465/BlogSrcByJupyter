{
 "cells": [
  {
   "cell_type": "markdown",
   "metadata": {},
   "source": [
    "///---\n",
    "layout: post\n",
    "title: \"SAR 공식들\"\n",
    "comments: true\n",
    "share: true\n",
    "date: 2024-05-23 23:12:00\n",
    "description: SAR(Synthetic Aperture Radar) 공식을 정리한다.\n",
    "tags: python sar\n",
    "toc: true\n",
    "sitemap :\n",
    "    changefreq : daily\n",
    "    priority : 1.0\n",
    "///---"
   ]
  },
  {
   "cell_type": "markdown",
   "metadata": {},
   "source": [
    "# SAR(Synthetic Aperture Radar) 공식들"
   ]
  },
  {
   "cell_type": "markdown",
   "metadata": {},
   "source": [
    "## 해상도\n"
   ]
  },
  {
   "cell_type": "markdown",
   "metadata": {},
   "source": [
    "\n",
    "### 거리 해상도\n",
    "\n",
    "$${\\delta}R_s=\\dfrac{c}{2B}\\text{,}\\quad\\quad\\quad{\\delta}R_g=\\dfrac{c}{2B\\sin\\left({\\eta}\\right)}$$"
   ]
  },
  {
   "cell_type": "markdown",
   "metadata": {},
   "source": [
    "### 방위 해상도\n",
    "\n",
    "$$\\delta R_a = \\dfrac{2\\pi}{|\\Omega_n|} = \\dfrac{2\\pi}{2k\\sin\\theta_n\\left(L/2\\right)-2k\\sin\\theta_n\\left(-L/2\\right)} \\approx \\dfrac{x_n \\lambda}{2L \\cos^2\\theta_n\\left(0\\right)} \\approx \\dfrac{K_a \\lambda_c}{2 \\Delta \\theta}$$\n",
    "\n",
    "$$\\delta R_a = \\frac{\\text{vel}}{\\text{PRF}}$$"
   ]
  },
  {
   "cell_type": "markdown",
   "metadata": {},
   "source": [
    "## 이득\n",
    "\n",
    "### 거리 이득\n",
    "\n",
    "$$G_r = 10 \\text{log}_{10}\\left(B \\times T_p\\right) \\text{ [dB]}$$\n",
    "\n",
    "### 방위 이득\n",
    "\n",
    "$$G_{az} = \\dfrac{\\text{prf} \\times Rs \\times \\lambda}{2 \\left(\\delta {R_a}^2\\right) v \\cos({\\theta}_n)}$$\n"
   ]
  },
  {
   "cell_type": "markdown",
   "metadata": {},
   "source": [
    "## Doppler Equations\n",
    "\n",
    "- 방위 해상도 Limitation $\\dfrac{2\\pi}{4k}=\\dfrac{\\lambda}{4}$\n",
    "\n",
    "- Instantaneous Frequency( $K_{un}\\left(u\\right)$ )\n",
    "\n",
    "$$K_{un}\\left(u\\right)=2k\\sin\\theta_n\\left(u\\right)$$\n",
    "\n",
    "- Doppler Range\n",
    "\n",
    "$$\\left[2k\\sin\\theta_n\\left(-L/2\\right), 2k\\sin\\theta_n\\left(L/2\\right)\\right]$$\n",
    "\n",
    "- Doppler Bandwidth Approximation\n",
    "\n",
    "$$B_{a} = \\dfrac{vel \\times \\cos\\left(\\theta _ n\\right)}{\\delta R_a}$$\n",
    "\n",
    "- Doppler Center( ${\\Omega}_{nc}$ )\n",
    "\n",
    "$${\\Omega}_{nc}\\approx 2k\\sin\\theta_n\\left(0\\right)$$\n",
    "\n",
    "- Doppler Bandwidth( $ | {\\Omega}_{n} | $ )\n",
    "\n",
    "$$|{\\Omega}_n|=2k\\sin\\theta_n\\left(L/2\\right)-2k\\sin\\theta_n\\left(-L/2\\right)\\approx \\dfrac{2kL}{x_n}\\cos^2\\theta_n\\left(0\\right)\\approx \\dfrac{2{V}_{a}^{2}\\cos^2(\\theta_n(0))}{R_a \\lambda_c}T_a$$"
   ]
  },
  {
   "cell_type": "markdown",
   "metadata": {},
   "source": [
    "| Symbol     | 단위  | 설명             | Symbol  | 단위  | 설명             |\n",
    "|------------|------|------------------|---------|------|-----------------|\n",
    "| B          | hz   | Bandwidth        | c       | m/s  | Speed of light  |\n",
    "| $\\eta$     | rad  | Incidence Angle  | u       | m    | Platform Azimuth Position                |\n",
    "| $\\theta_n$ | rad  | n번째 Pulse의 Aspect Angle, Squint Angle  | L  | m  | Synthetic Aperture Length  |\n",
    "| $Y_0$      | m    | Azimuth Swath    | $T_a$   | sec  | Aperture Time  |\n",
    "| $T_p$  | sec  | Pulsewidth  | Rs  | m  | Slant Range   |\n",
    "| $\\lambda$ | m  | wavelength | $\\delta R_a$ | m | 방위 해상도 |\n",
    "|   |   |   |   |   |   |"
   ]
  },
  {
   "cell_type": "markdown",
   "metadata": {},
   "source": []
  }
 ],
 "metadata": {
  "language_info": {
   "name": "python"
  }
 },
 "nbformat": 4,
 "nbformat_minor": 2
}
