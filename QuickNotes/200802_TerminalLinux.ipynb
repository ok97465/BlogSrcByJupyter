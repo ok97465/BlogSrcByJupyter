{
 "cells": [
  {
   "cell_type": "markdown",
   "metadata": {},
   "source": [
    "///---\n",
    "layout: post\n",
    "title: \"Linux Terminal\"\n",
    "comments: true\n",
    "share: true\n",
    "date: 2020-08-02 13:44:00\n",
    "description: Linux Terminal 설정 정리\n",
    "tags: note\n",
    "toc: false\n",
    "sitemap :\n",
    "    changefreq : daily\n",
    "    priority : 1.0\n",
    "///---"
   ]
  },
  {
   "cell_type": "markdown",
   "metadata": {},
   "source": [
    "# Linux Terminal 설정"
   ]
  },
  {
   "cell_type": "markdown",
   "metadata": {},
   "source": [
    "## Zsh\n",
    "\n",
    "### Zsh 설치\n",
    "```sh\n",
    "sudo apt install zsh\n",
    "sudo chsh -s /bin/zsh\n",
    "sudo chsh -s /bin/zsh 아이디\n",
    "```\n",
    "\n",
    "재부팅"
   ]
  },
  {
   "cell_type": "markdown",
   "metadata": {},
   "source": [
    "## Oh-my-zsh\n",
    "\n",
    "### 설치\n",
    "\n",
    "```sh\n",
    "curl -L https://raw.github.com/robbyrussell/oh-my-zsh/master/tools/install.sh | sh\n",
    "```"
   ]
  },
  {
   "cell_type": "markdown",
   "metadata": {},
   "source": [
    "### Theme 설정\n",
    "\n",
    "~/.zshrc에서 테마를 변경한다.\n",
    "\n",
    "```sh\n",
    "ZSH_THEME=\"agnoster\"\n",
    "```\n",
    "\n",
    "~/.oh-my-zsh/themes/agnoster.zsh-theme에서 prompt의 사용자 명을 지운다.\n",
    "\n",
    "```sh\n",
    "prompt_context(){}\n",
    "```\n",
    "\n",
    "~/.oh-my-zsh/themes/agnoster.zsh-theme의 ## Main prompt에 다음을 추가하여 multi-line command를 설정한다.\n",
    "(prompt_newline는 parser문제로 여기에 붙여넣기 불가.)\n",
    "\n",
    "\n",
    "```sh\n",
    "# 멀티라인 적용, 커버모양 변경\n",
    "\n",
    "## Main prompt\n",
    "build_prompt() {\n",
    "  RETVAL=$?\n",
    "  prompt_status\n",
    "  prompt_virtualenv\n",
    "  prompt_context\n",
    "  prompt_dir\n",
    "  prompt_git\n",
    "  prompt_bzr\n",
    "  prompt_hg\n",
    "  prompt_newline # 멀티라인 적용\n",
    "  prompt_end\n",
    "}\n",
    "```"
   ]
  },
  {
   "cell_type": "markdown",
   "metadata": {},
   "source": [
    "### FZF\n",
    "\n",
    "```bash\n",
    "sudo apt install fd-find\n",
    "git clone --depth 1 https://github.com/junegunn/fzf.git ~/.fzf\n",
    "~/.fzf/install\n",
    "```\n",
    "\n",
    ".zshrc에 아래 내용을 추가한다.\n",
    "```bash\n",
    "alias fd=fdfind\n",
    "export FZF_DEFAULT_COMMAND=\"fdfind\"\n",
    "export FZF_CTRL_T_COMMAND=\"$FZF_DEFAULT_COMMAND\"\n",
    "export FZF_ALT_C_COMMAND=\"fdfind -t d . $HOME\"\n",
    "```\n",
    "\n",
    "~/.fzf/shell/key-bindings.zsh에서 find를 fd로 변경한다."
   ]
  },
  {
   "cell_type": "markdown",
   "metadata": {},
   "source": [
    "### Plugin 설치\n",
    "```sh\n",
    "# zsh-syntax-highlighting\n",
    "git clone https://github.com/zsh-users/zsh-syntax-highlighting.git $ZSH_CUSTOM/plugins/zsh-syntax-highlighting\n",
    "\n",
    "# zsh-autosuggestions\n",
    "git clone git://github.com/zsh-users/zsh-autosuggestions $ZSH_CUSTOM/plugins/zsh-autosuggestions\n",
    "\n",
    "# zsh-vim\n",
    "git clone https://github.com/softmoth/zsh-vim-mode.git $ZSH_CUSTOM/plugins/zsh-vim-mode\n",
    "\n",
    "# autojump\n",
    "sudo apt install autojump\n",
    "```\n",
    "\n",
    "```sh\n",
    "plugins=(\n",
    "  git\n",
    "  zsh-syntax-highlighting\n",
    "  zsh-autosuggestions\n",
    "  zsh-vim-mode\n",
    "  autojump\n",
    ")\n",
    "```"
   ]
  },
  {
   "cell_type": "markdown",
   "metadata": {},
   "source": [
    "## Tmux\n",
    "\n",
    "### 설치\n",
    "\n",
    "```sh\n",
    "sudo apt install tmux\n",
    "```\n",
    "\n",
    "### vim 모드 설정\n",
    "\n",
    "~/[.tmux.conf](/assets/data/terminal/.tmux.conf)에 저장한다. ([ref](https://gist.github.com/tsl0922/d79fc1f8097dde660b34#file-tmux-conf))\n"
   ]
  },
  {
   "cell_type": "markdown",
   "metadata": {},
   "source": [
    "### zsh 실행 시 tmux 자동 연결\n",
    "\n",
    "~/.zshrc plugins 밑에 다음을 추가한다.\n",
    "\n",
    "```sh\n",
    "if command -v tmux &> /dev/null && [ -n \"$PS1\" ] && [[ ! \"$TERM\" =~ screen ]] && [[ ! \"$TERM\" =~ tmux ]] && [ -z \"$TMUX\" ]; then\n",
    "  exec tmux\n",
    "fi\n",
    "```"
   ]
  },
  {
   "cell_type": "markdown",
   "metadata": {},
   "source": [
    "## 폴더 변경 시 venv 자동 activate"
   ]
  },
  {
   "cell_type": "markdown",
   "metadata": {},
   "source": [
    "cd 명령 시 폴더 내에 venv 폴더가 있을 경우 Conda env와 다른 venv를 deactivate하고 현재 폴더의 venv를 활성화 한다.([ref](https://bhupesh-v.github.io/the-unholy-way-of-using-virtual-environments))"
   ]
  },
  {
   "cell_type": "markdown",
   "metadata": {},
   "source": [
    "```bash\n",
    "# >>> CD for virtual environment >>>\n",
    "vcd() {\n",
    "    folder_input=$1\n",
    "\n",
    "    if [[ $folder_input != \"\" ]]; then\n",
    "        case $folder_input in\n",
    "            \"..\" ) cd .. && return;;\n",
    "            \"-\" )  cd -  && return;;\n",
    "            \"/\" )  cd /  && return;;\n",
    "            * )    cd \"$folder_input\" || return;;\n",
    "        esac\n",
    "\n",
    "        # activate venv\n",
    "        path_activate=\"$(pwd)/venv/bin/activate\"\n",
    "        if [[ -f $path_activate ]]; then\n",
    "            # deactivate any existing virtual env\n",
    "            [[ $VIRTUAL_ENV ]] && deactivate\n",
    "\n",
    "            # deactivate any existing conda env\n",
    "            [[ $CONDA_PROMPT_MODIFIER ]] && conda deactivate\n",
    "\n",
    "            source $path_activate;\n",
    "        fi\n",
    "        # activate venv end\n",
    "    fi\n",
    "}\n",
    "\n",
    "alias cd=vcd\n",
    "# <<< CD for virtual environment <<<\n",
    "\n",
    "# >>> command for activate conda >>>\n",
    "aconda(){\n",
    "    [[ $VIRTUAL_ENV ]] && deactivate\n",
    "    source ~/anaconda3/bin/activate\n",
    "}\n",
    "# <<< command for activate conda <<<\n",
    "```"
   ]
  }
 ],
 "metadata": {
  "kernelspec": {
   "display_name": "Python 3",
   "language": "python",
   "name": "python3"
  },
  "language_info": {
   "codemirror_mode": {
    "name": "ipython",
    "version": 3
   },
   "file_extension": ".py",
   "mimetype": "text/x-python",
   "name": "python",
   "nbconvert_exporter": "python",
   "pygments_lexer": "ipython3",
   "version": "3.8.8"
  }
 },
 "nbformat": 4,
 "nbformat_minor": 4
}
