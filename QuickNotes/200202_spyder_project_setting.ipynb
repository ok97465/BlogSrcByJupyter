{
 "cells": [
  {
   "cell_type": "markdown",
   "metadata": {},
   "source": [
    "///---\n",
    "layout: post\n",
    "title: \"Spyder project 설정\"\n",
    "comments: true\n",
    "share: true\n",
    "date: 2020-02-02 12:00:00\n",
    "description: Spyder project 설정을 위한 노트.\n",
    "tags: note\n",
    "toc: false\n",
    "sitemap :\n",
    "    changefreq : daily\n",
    "    priority : 1.0\n",
    "///---"
   ]
  },
  {
   "cell_type": "markdown",
   "metadata": {},
   "source": [
    "# Spyder Project 설정"
   ]
  },
  {
   "cell_type": "markdown",
   "metadata": {},
   "source": [
    "## ISORT 설정\n",
    "\n",
    ".isort.cfg를 프로젝트 root 폴더에 만들고 아래내용으로 채운다.\n",
    "\n",
    "```\n",
    "[settings]\n",
    "line_length=79\n",
    "use_parentheses=True\n",
    "atomic=False\n",
    "multi_line_output=4\n",
    "import_heading_stdlib = Standard library imports\n",
    "import_heading_firstparty = Local imports\n",
    "import_heading_thirdparty = Third party imports\n",
    "```"
   ]
  },
  {
   "cell_type": "markdown",
   "metadata": {},
   "source": [
    "## 자주 사용하는 Library\n",
    "\n",
    "생성한 Python Project 폴더에 아래 파일을 압축 해제하여 oklib 폴더를 생성한다.  \n",
    "[oklib Download](/assets/data/oklib.zip)"
   ]
  }
 ],
 "metadata": {
  "kernelspec": {
   "display_name": "Python 3.7.3 64-bit ('base': conda)",
   "language": "python",
   "name": "python37364bitbaseconda656c2ae4f3f4436795851f61296d1aa9"
  },
  "language_info": {
   "codemirror_mode": {
    "name": "ipython",
    "version": 3
   },
   "file_extension": ".py",
   "mimetype": "text/x-python",
   "name": "python",
   "nbconvert_exporter": "python",
   "pygments_lexer": "ipython3",
   "version": "3.7.3"
  }
 },
 "nbformat": 4,
 "nbformat_minor": 4
}
