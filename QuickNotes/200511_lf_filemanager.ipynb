{
 "cells": [
  {
   "cell_type": "markdown",
   "metadata": {},
   "source": [
    "///---\n",
    "layout: post\n",
    "title: \"lf(list files) terminal filemanager\"\n",
    "comments: true\n",
    "share: true\n",
    "date: 2020-05-11 16:10:00\n",
    "description: lf terminal filemanager 의 사용법과 설정방법을 정리한다.\n",
    "tags: note\n",
    "toc: false\n",
    "sitemap :\n",
    "    changefreq : daily\n",
    "    priority : 1.0\n",
    "///---"
   ]
  },
  {
   "cell_type": "markdown",
   "metadata": {},
   "source": [
    "# lf(Terminal filemanager)"
   ]
  },
  {
   "cell_type": "markdown",
   "metadata": {},
   "source": [
    "## 사용방법[1]"
   ]
  },
  {
   "cell_type": "markdown",
   "metadata": {},
   "source": [
    "### 명령어\n",
    "\n",
    "\\\\$: shell 명령어  \n",
    "zh: 숨김 파일 on/off\n"
   ]
  },
  {
   "cell_type": "markdown",
   "metadata": {},
   "source": [
    "## 환경 설정\n",
    "\n",
    "lf는 강력한 customizing을 지원한다. https://godoc.org/github.com/gokcehan/lf 에서 lf의 기능을 확인 할 수 있다.\n",
    "\n",
    "Linux 환경설정 파일 경로는 [~/.config/lf/lfrc](/assets/data/lf/linux/lfrc) 이다.\n",
    "Window 환결설정 파일 경로는 [C:\\Users\\<user>\\AppData\\Local\\lf\\lfrc](/assets/data/lf/windows/lfrc) 이다."
   ]
  },
  {
   "cell_type": "markdown",
   "metadata": {},
   "source": [
    "## 참고문헌\n",
    "[1] https://godoc.org/github.com/gokcehan/lf"
   ]
  }
 ],
 "metadata": {
  "kernelspec": {
   "display_name": "Python 3",
   "language": "python",
   "name": "python3"
  },
  "language_info": {
   "codemirror_mode": {
    "name": "ipython",
    "version": 3
   },
   "file_extension": ".py",
   "mimetype": "text/x-python",
   "name": "python",
   "nbconvert_exporter": "python",
   "pygments_lexer": "ipython3",
   "version": "3.7.6"
  }
 },
 "nbformat": 4,
 "nbformat_minor": 4
}
