{
 "cells": [
  {
   "cell_type": "markdown",
   "metadata": {},
   "source": [
    "///---\n",
    "layout: post\n",
    "title: \"역행렬 snippets\"\n",
    "comments: true\n",
    "share: true\n",
    "date: 2018-09-30 22:33:00\n",
    "description: 역행렬 코드.\n",
    "tags: note\n",
    "toc: true\n",
    "sitemap :\n",
    "    changefreq : daily\n",
    "    priority : 1.0\n",
    "///---"
   ]
  },
  {
   "cell_type": "markdown",
   "metadata": {},
   "source": [
    "# 역행렬 Snippets"
   ]
  },
  {
   "cell_type": "markdown",
   "metadata": {},
   "source": [
    "## Gauss Elimination 이용"
   ]
  },
  {
   "cell_type": "markdown",
   "metadata": {},
   "source": [
    "### Python Code"
   ]
  },
  {
   "cell_type": "code",
   "execution_count": 1,
   "metadata": {},
   "outputs": [],
   "source": [
    "# Show in Markdown\n",
    "from numpy import hstack, eye, ndarray, where, allclose\n",
    "from numpy.linalg import inv, LinAlgError, matrix_rank\n",
    "from numpy.random import standard_normal, randint\n",
    "\n",
    "\n",
    "def inv_by_gauss_elimination(mat):\n",
    "    \"\"\"Calculate inverse matrix by gauss elimination\n",
    "\n",
    "    Parameters\n",
    "    ----------\n",
    "    mat : ndarray\n",
    "        matrix\n",
    "\n",
    "    Returns\n",
    "    -------\n",
    "    mat_inv : ndarray\n",
    "        inverse matrix\n",
    "    null_dim : int\n",
    "        dimension of null space\n",
    "\n",
    "    \"\"\"\n",
    "    n_row, n_col = mat.shape\n",
    "\n",
    "    if n_row != n_col:\n",
    "        raise IndexError(\"The rows and columns are different sizes.\")\n",
    "\n",
    "    data = hstack([mat, eye(n_row)])\n",
    "\n",
    "    null_dim = 0\n",
    "    # calculate row echelon form\n",
    "    for idx_row in range(n_row):\n",
    "        idx_pivot_candidate = where(data[idx_row:, idx_row] != 0.0)[0]\n",
    "        if len(idx_pivot_candidate) > 0:\n",
    "            idx_pivot = idx_pivot_candidate[0] + idx_row\n",
    "        else:\n",
    "            null_dim += 1\n",
    "\n",
    "        if idx_pivot != idx_row:\n",
    "            tmp = data[idx_row, :].copy()\n",
    "            data[idx_row, :] = data[idx_pivot, :]\n",
    "            data[idx_pivot, :] = tmp\n",
    "\n",
    "        if data[idx_row, idx_row] != 0.0:\n",
    "            data[idx_row, :] /= data[idx_row, idx_row]\n",
    "\n",
    "        for idx_row_dst in range(idx_row + 1, n_row):\n",
    "            data[idx_row_dst, :] -= (data[idx_row, :]\n",
    "                                     * data[idx_row_dst, idx_row])\n",
    "\n",
    "    # calculate inverse matrix\n",
    "    for idx_row in range(n_row - 1, 0, -1):\n",
    "        for idx_row_dst in range(idx_row - 1, -1, -1):\n",
    "            data[idx_row_dst, :] -= (data[idx_row, :]\n",
    "                                     * data[idx_row_dst, idx_row])\n",
    "\n",
    "    mat_inv = data[-n_row:, -n_col:]\n",
    "\n",
    "    return mat_inv, null_dim"
   ]
  },
  {
   "cell_type": "markdown",
   "metadata": {},
   "source": [
    "### Python Test Code"
   ]
  },
  {
   "cell_type": "code",
   "execution_count": 2,
   "metadata": {},
   "outputs": [
    {
     "name": "stdout",
     "output_type": "stream",
     "text": [
      "same\n"
     ]
    }
   ],
   "source": [
    "# Show in Markdown\n",
    "n_row = 128\n",
    "\n",
    "for idx in range(1):\n",
    "    mat = standard_normal((n_row, n_row))\n",
    "\n",
    "    # Test Inverse\n",
    "    try:\n",
    "        mat_inv_exact = inv(mat)\n",
    "        mat_inv, null_dim = inv_by_gauss_elimination(mat)\n",
    "        is_same = allclose(mat_inv_exact, mat_inv)\n",
    "    \n",
    "        if is_same is True:\n",
    "            print(\"same\")\n",
    "        else:\n",
    "            print(\"=====Error=====\")\n",
    "            break\n",
    "    except LinAlgError:\n",
    "        null_dim_exact = n_row - matrix_rank(mat)\n",
    "        mat_inv, null_dim = inv_by_gauss_elimination(mat)\n",
    "        if null_dim_exact == null_dim:\n",
    "            print(\"null dim same\")\n",
    "        else:\n",
    "            print(\"=====null dim Error=====\")\n",
    "            break"
   ]
  }
 ],
 "metadata": {
  "kernelspec": {
   "display_name": "Python 3",
   "language": "python",
   "name": "python3"
  },
  "language_info": {
   "codemirror_mode": {
    "name": "ipython",
    "version": 3
   },
   "file_extension": ".py",
   "mimetype": "text/x-python",
   "name": "python",
   "nbconvert_exporter": "python",
   "pygments_lexer": "ipython3",
   "version": "3.7.3"
  }
 },
 "nbformat": 4,
 "nbformat_minor": 4
}
