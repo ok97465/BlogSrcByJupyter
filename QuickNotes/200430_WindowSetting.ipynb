{
 "cells": [
  {
   "cell_type": "markdown",
   "metadata": {},
   "source": [
    "///---\n",
    "layout: post\n",
    "title: \"Windows setting\"\n",
    "comments: true\n",
    "share: true\n",
    "date: 2020-04-30 16:10:00\n",
    "description: 개인적인 Windows 설정\n",
    "tags: note\n",
    "toc: false\n",
    "sitemap :\n",
    "    changefreq : daily\n",
    "    priority : 1.0\n",
    "///---"
   ]
  },
  {
   "cell_type": "markdown",
   "metadata": {},
   "source": [
    "# Windows 설정"
   ]
  },
  {
   "cell_type": "markdown",
   "metadata": {},
   "source": [
    "## Windows 기준 시간을 UTC 시간으로 설정\n",
    "\n",
    "Windows는 RTC로 시간을 해석하고 Linux는 UTC를 이용하기 때문에 멀티 부팅시 OS의 시간차이가 발생한다. 이런 문제를 해결하기 위해서는 아래와 같이 레지스트리를 변경하여 Windows의 시간 기준으로 UTC로 변경해준다.\n",
    "\n",
    "```\n",
    "Windows Registry Editor Version 5.00\n",
    "[HKEY_LOCAL_MACHINE\\SYSTEM\\CurrentControlSet\\Control\\TimeZoneInformation]\n",
    "     \"RealTimeIsUniversal\"=dword:00000001   \n",
    "```"
   ]
  },
  {
   "cell_type": "markdown",
   "metadata": {},
   "source": [
    "## Windows wincmd+L disable\n",
    "\n",
    "개인적인 단축키 설정과 windows의 기존 단축키인 wincmd + L을 이용한 화면 잠금이 충돌을 일으킨다. Windows 단축키 해제 방법은 다음과 같다.\n",
    "\n",
    "```\n",
    "HKEY_CURRENT_USER\\Software\\Microsoft\\Windows\\CurrentVersion\\Policies\\System\n",
    "\n",
    "Step 4: In the right-side, create a new DWORD 32-bit value and rename it as DisableLockWorkstation.\n",
    "\n",
    "Step 5: Double-click on the newly created DisableLockWorkstation entry and change its value from 0 (zero) to 1 (one).\n",
    "```"
   ]
  },
  {
   "cell_type": "markdown",
   "metadata": {},
   "source": [
    "## AutoHotkey를 이용한 단축키 설정\n",
    "\n",
    "개인적인 Window 단축키 설정은 다음과 같다.\n",
    "\n",
    "```\n",
    "#e:: Run, C:\\pcsetup\\lf\\lf_anaconda3.bat\n",
    "^!e:: Run, explorer\n",
    "#b:: Run, firefox\n",
    "#t:: Run, \"C:\\Programdata\\Microsoft\\Windows\\Start Menu\\Programs\\Anaconda3 (64-bit)\\Anaconda Powershell Prompt (Anaconda3).lnk\"\n",
    "#v:: Run, \"C:\\Program Files\\Vim\\vim82\\gvim.exe\"\n",
    "#c:: Run, \"C:\\Users\\ok974\\AppData\\Local\\Programs\\Microsoft VS Code\\code.exe\"\n",
    "#s:: Run, \"C:\\codepy\\spyder_ok97465\\spyder.bat\"\n",
    "#w:: Send, !{f4}\n",
    "#h:: Send, #{left}\n",
    "#l:: Send, #{right}\n",
    "#j:: Send, #{down}\n",
    "#k:: Send, #{up}\n",
    "#+h:: Send, #+{left}\n",
    "#+l:: Send, #+{right}\n",
    "#p::\n",
    "    MsgBox, 0x104,, HALT SYSTEM?\n",
    "    ifMsgBox, Yes\n",
    "        Shutdown, 1\n",
    "    Return\n",
    "#+p::\n",
    "    MsgBox, 0x104,, REBOOT SYSTEM?\n",
    "    ifMsgBox, Yes\n",
    "        Shutdown, 2\n",
    "    Return\n",
    "```"
   ]
  }
 ],
 "metadata": {
  "kernelspec": {
   "display_name": "Python 3",
   "language": "python",
   "name": "python3"
  },
  "language_info": {
   "codemirror_mode": {
    "name": "ipython",
    "version": 3
   },
   "file_extension": ".py",
   "mimetype": "text/x-python",
   "name": "python",
   "nbconvert_exporter": "python",
   "pygments_lexer": "ipython3",
   "version": "3.8.5"
  }
 },
 "nbformat": 4,
 "nbformat_minor": 4
}
