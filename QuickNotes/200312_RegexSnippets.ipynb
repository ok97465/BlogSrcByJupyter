{
 "cells": [
  {
   "cell_type": "markdown",
   "metadata": {},
   "source": [
    "///---\n",
    "layout: post\n",
    "title: \"Regex 설명\"\n",
    "comments: true\n",
    "share: true\n",
    "date: 2020-03-12 12:51:00\n",
    "description: Regex Expression snippets.\n",
    "tags: note\n",
    "toc: false\n",
    "sitemap :\n",
    "    changefreq : daily\n",
    "    priority : 1.0\n",
    "///---"
   ]
  },
  {
   "cell_type": "markdown",
   "metadata": {},
   "source": [
    "# 정규식(Regex Expression)"
   ]
  },
  {
   "cell_type": "code",
   "execution_count": 1,
   "metadata": {},
   "outputs": [],
   "source": [
    "import re"
   ]
  },
  {
   "cell_type": "markdown",
   "metadata": {},
   "source": [
    "## Snippets"
   ]
  },
  {
   "cell_type": "markdown",
   "metadata": {},
   "source": [
    "### 전화번호 찾기\n",
    "\n",
    "숫자를 찾고 싶은 경우 \\d를 이용하고 수량을 지정하고 싶은 경우 {}에 숫자를 기입한다. *{}의 내부 숫자는 띄어쓰기 없이 입력한다.*"
   ]
  },
  {
   "cell_type": "code",
   "execution_count": 2,
   "metadata": {},
   "outputs": [
    {
     "name": "stdout",
     "output_type": "stream",
     "text": [
      "str(032-123-3456) start(9) end(21)\n",
      "str(02-1234-9876) start(25) end(37)\n",
      "str(01011112222) start(41) end(52)\n"
     ]
    }
   ],
   "source": [
    "# Show in Markdown\n",
    "text = \"나의 전화번호는 032-123-3456 혹은 02-1234-9876 혹은 01011112222 이다.\"\n",
    "phone_regex1 = re.compile(r\"0\\d{1,2}-\\d{3,4}-\\d{4}\")\n",
    "phone_regex2 = re.compile(r\"0\\d{9,10}\")\n",
    "\n",
    "for match in re.finditer(phone_regex1, text):\n",
    "    print(f'str({match.group()}) start({match.start()}) end({match.end()})')\n",
    "    \n",
    "for match in re.finditer(phone_regex2, text):\n",
    "    print(f'str({match.group()}) start({match.start()}) end({match.end()})')"
   ]
  },
  {
   "cell_type": "markdown",
   "metadata": {},
   "source": [
    "### 쉼표로 구분된 숫자 찾기\n",
    "\n",
    "()는 Group을 뜻한다. finall 수행시 Group은 Tuple의 인자로 출력된다."
   ]
  },
  {
   "cell_type": "code",
   "execution_count": 3,
   "metadata": {},
   "outputs": [
    {
     "name": "stdout",
     "output_type": "stream",
     "text": [
      "[('64,000,000', ',000'), ('2', '')]\n"
     ]
    }
   ],
   "source": [
    "# Show in Markdown\n",
    "text = \"\"\"\n",
    "I have a 64,000,000 years old egg.\n",
    "I have 2 babies.\n",
    "\"\"\"\n",
    "number_regex = re.compile(r\"(\\d{1,3}(,\\d{3})*)\")\n",
    "result_list = re.findall(number_regex, text)\n",
    "\n",
    "print(result_list)"
   ]
  },
  {
   "cell_type": "markdown",
   "metadata": {},
   "source": [
    "### 괄호 내의 문자열 찾기\n",
    "\n",
    ".\\*는 모든 문자를 뜻하기 때문에 >의 마지막 문자열까지 하나의 match로 인식한다. .\\*을 사용할 경우 보통 .\\*?을 사용하여야 문제가 원하는 결과를 얻을 수 있다."
   ]
  },
  {
   "cell_type": "code",
   "execution_count": 4,
   "metadata": {},
   "outputs": [
    {
     "name": "stdout",
     "output_type": "stream",
     "text": [
      "['<TO SERVE HUMANS>', '<TO SERVE DOG>']\n"
     ]
    }
   ],
   "source": [
    "# Show in Markdown\n",
    "text = \"Good <TO SERVE HUMANS> <TO SERVE DOG>\"\n",
    "\n",
    "bracket_regex = re.compile(r\"<.*?>\")\n",
    "result_list = re.findall(bracket_regex, text)\n",
    "\n",
    "print(result_list)"
   ]
  },
  {
   "cell_type": "markdown",
   "metadata": {},
   "source": [
    "## 문법"
   ]
  },
  {
   "cell_type": "markdown",
   "metadata": {},
   "source": [
    "### Character class\n",
    "\n",
    "\\d : Digit charcters (numbers)  \n",
    "\\w : Word characters (letters & numbers)  \n",
    "\\s : Space characters (space, tab, \\n)  \n",
    "  \n",
    "\\D : Non-digit  \n",
    "\\W : Non-word  \n",
    "\\S : None-space  "
   ]
  },
  {
   "cell_type": "markdown",
   "metadata": {},
   "source": [
    "### 임의의 Character class\n",
    "\n",
    "[]를 이용하여 character class를 만들 수 있다.\n",
    "  \n",
    "[aeiouAEIOU] : 모음 Character  \n",
    "[^aeiouAEIOU] : 모음을 제외한 Character  \n",
    "[``\\``(``\\``)] : () Character  "
   ]
  },
  {
   "cell_type": "markdown",
   "metadata": {},
   "source": [
    "### 수량 지정"
   ]
  },
  {
   "cell_type": "markdown",
   "metadata": {},
   "source": [
    "\\d : One digit  \n",
    "\\d? : Zero or one digit  \n",
    "\\d* : Zero or more digits  \n",
    "\\d+ : One or more digits  \n",
    "\\d{3} : Exactly 3 digits  \n",
    "\\d{3,5} : Btwn 3 and digits  \n",
    "\\d{3,} : 3 or more digits"
   ]
  },
  {
   "cell_type": "markdown",
   "metadata": {},
   "source": [
    "## 참고자료\n",
    "[1] https://www.youtube.com/watch?v=abrcJ9MpF60&t=1486s"
   ]
  }
 ],
 "metadata": {
  "kernelspec": {
   "display_name": "Python 3",
   "language": "python",
   "name": "python3"
  },
  "language_info": {
   "codemirror_mode": {
    "name": "ipython",
    "version": 3
   },
   "file_extension": ".py",
   "mimetype": "text/x-python",
   "name": "python",
   "nbconvert_exporter": "python",
   "pygments_lexer": "ipython3",
   "version": "3.7.4"
  }
 },
 "nbformat": 4,
 "nbformat_minor": 4
}
