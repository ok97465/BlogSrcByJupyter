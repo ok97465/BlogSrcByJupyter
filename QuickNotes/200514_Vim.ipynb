{
 "cells": [
  {
   "cell_type": "markdown",
   "metadata": {},
   "source": [
    "///---\n",
    "layout: post\n",
    "title: \"Vim\"\n",
    "comments: true\n",
    "share: true\n",
    "date: 2020-05-13 14:00:00\n",
    "description: Vim 사용을 위한 자료 정리\n",
    "tags: note\n",
    "toc: false\n",
    "sitemap :\n",
    "    changefreq : daily\n",
    "    priority : 1.0\n",
    "///---"
   ]
  },
  {
   "cell_type": "markdown",
   "metadata": {},
   "source": [
    "# Vim"
   ]
  },
  {
   "cell_type": "markdown",
   "metadata": {},
   "source": [
    "## 명령어"
   ]
  },
  {
   "cell_type": "markdown",
   "metadata": {},
   "source": [
    "## 설정"
   ]
  },
  {
   "cell_type": "markdown",
   "metadata": {},
   "source": [
    "### Neovim 설치\n",
    "\n",
    "Neovim 최신 안정 버전 설치\n",
    "\n",
    "```sh\n",
    "sudo add-apt-repository ppa:neovim-ppa/stable\n",
    "sudo apt-get update\n",
    "sudo apt-get install neovim\n",
    "```\n",
    "\n",
    "vi를 neovim으로 대체\n",
    "\n",
    "```sh\n",
    "sudo update-alternatives --install /usr/bin/vi vi /usr/bin/nvim 60\n",
    "sudo update-alternatives --config vi \n",
    "sudo update-alternatives --install /usr/bin/vim vim /usr/bin/nvim 60 \n",
    "sudo update-alternatives --config vim \n",
    "sudo update-alternatives --install /usr/bin/editor editor /usr/bin/nvim 60\n",
    "sudo update-alternatives --config editor\n",
    "```"
   ]
  },
  {
   "cell_type": "markdown",
   "metadata": {},
   "source": [
    "## Neovim init.vim 설정\n",
    "\n",
    "Neovim의 설정 파일은 ~/.config/nvim/init.vim에 위치한다.  \n",
    "https://seulcode.tistory.com/272 을 참고한 [init.vim](/assets/data/vim/init.vim)"
   ]
  },
  {
   "cell_type": "markdown",
   "metadata": {},
   "source": [
    "### ESC 입력시 자동 영어 변환 (VScode)\n",
    "\n",
    "Vim에서 한글 입력 후에 ESC를 눌려 Normal 모드로 진입하면 어떤 명령어도 동작되지 않는 문제가 발생한다. 명령어가 영어가 아닌 한글로 입력되면서 벌어지는 문제인데 VScode의 Vim Plugin은 이 문제를 해결하기 위한 방안을 제공한다.\n",
    "\n",
    "#### Windows\n",
    "\n",
    "설정 -> 언어 -> 영어(미국) 추가한다.\n",
    "https://github.com/daipeihust/im-select 에서 [im-select](/assets/data/vim/im-select.zip) 를 다운 받는다.  \n",
    "Vscode의 환경설정에 다음 내용을 추가한다.\n",
    "\n",
    "```\n",
    "\"vim.autoSwitchInputMethod.enable\": true,\n",
    "\"vim.autoSwitchInputMethod.defaultIM\": \"1033\",\n",
    "\"vim.autoSwitchInputMethod.obtainIMCmd\": \"D:\\\\bin\\\\im-select.exe\",\n",
    "\"vim.autoSwitchInputMethod.switchIMCmd\": \"D:\\\\bin\\\\im-select.exe {im}\"\n",
    "```\n",
    "\n",
    "#### Ubuntu\n",
    "\n",
    "Nimf 사용자일 경우 Vscode 환경설정에 다음 내용을 추가한다.\n",
    "\n",
    "```\n",
    "```"
   ]
  },
  {
   "cell_type": "markdown",
   "metadata": {},
   "source": [
    "### Capslock -> ESC\n",
    "\n",
    "#### Windows\n",
    "AutoHotKey를 설치하고 ahk 확장자 파일을 만들어 아래 내용을 추가한다.\n",
    "```\n",
    "Capslock::Esc\n",
    "Esc::Capslock\n",
    "```\n",
    "\n",
    "#### Mint\n",
    "\n",
    "- 설정 -> 키보드 -> 배치 -> 옵션 -> Capslock 동작 변경\n",
    "- 위의 방안이 동작 안할 시 .xsession 혹은 .xinirc 혹은 .bashrc에 아래 내용 추가\n",
    "\n",
    "```\n",
    "setxkbmap -option caps:swapescape\n",
    "```\n",
    "\n",
    "- vscode 환경 설정에 아래 내용 추가\n",
    "\n",
    "```\n",
    "\"keyboard.dispatch\": \"keyCode\"\n",
    "```"
   ]
  }
 ],
 "metadata": {
  "kernelspec": {
   "display_name": "Python 3",
   "language": "python",
   "name": "python3"
  },
  "language_info": {
   "codemirror_mode": {
    "name": "ipython",
    "version": 3
   },
   "file_extension": ".py",
   "mimetype": "text/x-python",
   "name": "python",
   "nbconvert_exporter": "python",
   "pygments_lexer": "ipython3",
   "version": "3.7.6"
  }
 },
 "nbformat": 4,
 "nbformat_minor": 4
}
