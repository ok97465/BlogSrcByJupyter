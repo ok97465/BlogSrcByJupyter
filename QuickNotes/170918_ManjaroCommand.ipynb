{
 "cells": [
  {
   "cell_type": "markdown",
   "metadata": {},
   "source": [
    "///---\n",
    "layout: post\n",
    "title: \"Manjaro 사용법\"\n",
    "comments: true\n",
    "share: true\n",
    "date: 2017-09-18 22:33:00\n",
    "description: Manjaro를 사용하면서 필요했던 내용을 정리한다.\n",
    "tags: note\n",
    "toc: false\n",
    "sitemap :\n",
    "    changefreq : daily\n",
    "    priority : 1.0\n",
    "///---"
   ]
  },
  {
   "cell_type": "markdown",
   "metadata": {},
   "source": [
    "# Manjaro 사용법"
   ]
  },
  {
   "cell_type": "markdown",
   "metadata": {},
   "source": [
    "## Update\n",
    "\n",
    "- 'yy’s will force resync with your mirror\n",
    "- ‘-a’ update AUR packages, so resync, update, include aur is\n",
    "\n",
    "```sh\n",
    "yaourt -Syyua\n",
    "```\n"
   ]
  }
 ],
 "metadata": {
  "kernelspec": {
   "display_name": "Python 3",
   "language": "python",
   "name": "python3"
  },
  "language_info": {
   "codemirror_mode": {
    "name": "ipython",
    "version": 3
   },
   "file_extension": ".py",
   "mimetype": "text/x-python",
   "name": "python",
   "nbconvert_exporter": "python",
   "pygments_lexer": "ipython3",
   "version": "3.7.3"
  }
 },
 "nbformat": 4,
 "nbformat_minor": 4
}
