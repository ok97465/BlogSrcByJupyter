{
 "cells": [
  {
   "cell_type": "markdown",
   "metadata": {},
   "source": [
    "///---\n",
    "layout: post\n",
    "title: \"Manjaro 사용법\"\n",
    "comments: true\n",
    "share: true\n",
    "date: 2017-09-18 22:33:00\n",
    "description: Manjaro를 사용하면서 필요했던 내용을 정리한다.\n",
    "tags: note\n",
    "toc: false\n",
    "sitemap :\n",
    "    changefreq : daily\n",
    "    priority : 1.0\n",
    "///---"
   ]
  },
  {
   "cell_type": "markdown",
   "metadata": {},
   "source": [
    "# Manjaro 사용법"
   ]
  },
  {
   "cell_type": "markdown",
   "metadata": {},
   "source": [
    "## Update\n",
    "\n",
    "- 'yy’s will force resync with your mirror\n",
    "- ‘-a’ update AUR packages, so resync, update, include aur is\n",
    "\n",
    "```sh\n",
    "yaourt -Syyua\n",
    "```\n"
   ]
  },
  {
   "cell_type": "markdown",
   "metadata": {},
   "source": [
    "## Partition\n",
    "\n",
    "[Reference](https://forum.manjaro.org/t/howto-dual-boot-manjaro-windows-10-step-by-step/52668)\n",
    "\n",
    "- EFI PARTITION\n",
    "  - Select the unpartitioned space → Create\n",
    "    1. Size → input 512\n",
    "    2. Filesystem → select FAT32\n",
    "    3. Mountpoint → select /boot/efi\n",
    "    4. Flags → check boot and esp → OK\n",
    "\n",
    "- SWAP PARTITION\n",
    "  - Select the unpartitioned space → Create\n",
    "    1. Size → input 2048\n",
    "    2. Filesystem → select linuxswap\n",
    "    3. Flags → check swap → OK\n",
    "\n",
    "- ROOT PARTITION\n",
    "  - Select the unpartitioned space → Create\n",
    "    1. Size → input 2048000 (min. recommended size)\n",
    "    2. Filesystem → select ext4\n",
    "    3. Mountpoint → select / (root) → OK\n",
    "\n",
    "- HOME PARTITION\n",
    "  - Select the unpartitioned space → Create\n",
    "    1. Size → Use remaining\n",
    "    2. Filesystem → select ext4\n",
    "    3. Mountpoint → select /home → OK\n"
   ]
  },
  {
   "cell_type": "code",
   "execution_count": null,
   "metadata": {},
   "outputs": [],
   "source": []
  }
 ],
 "metadata": {
  "kernelspec": {
   "display_name": "Python 3",
   "language": "python",
   "name": "python3"
  },
  "language_info": {
   "codemirror_mode": {
    "name": "ipython",
    "version": 3
   },
   "file_extension": ".py",
   "mimetype": "text/x-python",
   "name": "python",
   "nbconvert_exporter": "python",
   "pygments_lexer": "ipython3",
   "version": "3.7.3"
  }
 },
 "nbformat": 4,
 "nbformat_minor": 4
}
