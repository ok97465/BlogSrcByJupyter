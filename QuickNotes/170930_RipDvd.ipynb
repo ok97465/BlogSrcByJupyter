{
 "cells": [
  {
   "cell_type": "markdown",
   "metadata": {},
   "source": [
    "///---\n",
    "layout: post\n",
    "title: \"Dvd 동영상 굽기\"\n",
    "comments: true\n",
    "share: true\n",
    "date: 2017-09-30 22:33:00\n",
    "description: Dvd에서 동영상을 추출하는 코드.\n",
    "tags: note\n",
    "toc: false\n",
    "sitemap :\n",
    "    changefreq : daily\n",
    "    priority : 1.0\n",
    "///---"
   ]
  },
  {
   "cell_type": "markdown",
   "metadata": {},
   "source": [
    "# Dvd 동영상 굽기"
   ]
  },
  {
   "cell_type": "markdown",
   "metadata": {},
   "source": [
    "## HandBrakeCLI 이용"
   ]
  },
  {
   "cell_type": "code",
   "execution_count": null,
   "metadata": {},
   "outputs": [],
   "source": [
    "# Show in Markdown\n",
    "import subprocess\n",
    "\n",
    "album_name = ['08']\n",
    "chapter_name = ['MisterSkinnylegs', 'GrandpaPigBoat', 'Shopping', 'MyBirthdayParty', 'DaddyMovieCamera', 'SchoolPlay']\n",
    "lang_name = ['en', 'cr']\n",
    "\n",
    "for idx in range(len(chapter_name)):\n",
    "    p = subprocess.Popen(['HandBrakeCLI', '--input', '/dev/sr0', '--title', '1', '--chapters', f'{idx+1}', '--audio', '1', '--output', f'/home/ok97465/dvd_rip/{album_name[0]}_{idx+1}_{chapter_name[idx]}_{lang_name[0]}.mp4', '--encoder', 'x264',\n",
    "                          '--quality', '10', '--rate', '29.97', '-B', '129', '-X', '720'])\n",
    "    \n",
    "    (output, err) = p.communicate()  \n",
    "    p_status = p.wait()\n",
    "\n",
    "for idx in range(len(chapter_name)):\n",
    "    p = subprocess.Popen(['HandBrakeCLI', '--input', '/dev/sr0', '--title', '1', '--chapters', f'{idx+1}', '--audio', '2', '--output', f'/home/ok97465/dvd_rip/{album_name[0]}_{idx+1}_{chapter_name[idx]}_{lang_name[1]}.mp4', '--encoder', 'x264',\n",
    "                          '--quality', '10', '--rate', '29.97', '-B', '129', '-X', '720'])\n",
    "    \n",
    "    (output, err) = p.communicate()  \n",
    "    p_status = p.wait()"
   ]
  }
 ],
 "metadata": {
  "kernelspec": {
   "display_name": "Python 3",
   "language": "python",
   "name": "python3"
  },
  "language_info": {
   "codemirror_mode": {
    "name": "ipython",
    "version": 3
   },
   "file_extension": ".py",
   "mimetype": "text/x-python",
   "name": "python",
   "nbconvert_exporter": "python",
   "pygments_lexer": "ipython3",
   "version": "3.7.3"
  }
 },
 "nbformat": 4,
 "nbformat_minor": 4
}
