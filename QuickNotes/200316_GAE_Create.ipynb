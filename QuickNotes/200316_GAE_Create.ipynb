{
 "cells": [
  {
   "cell_type": "markdown",
   "metadata": {},
   "source": [
    "///---\n",
    "layout: post\n",
    "title: \"Google App Engine에 코드 올리기\"\n",
    "comments: true\n",
    "share: true\n",
    "date: 2020-03-16 15:49:00\n",
    "description: Google App Engine에 코드 올리기.\n",
    "tags: note\n",
    "toc: false\n",
    "sitemap :\n",
    "    changefreq : daily\n",
    "    priority : 1.0\n",
    "///---"
   ]
  },
  {
   "cell_type": "markdown",
   "metadata": {},
   "source": [
    "# GAE(Google App Engine)에 코드 올리기"
   ]
  },
  {
   "cell_type": "markdown",
   "metadata": {},
   "source": [
    "## SDK 설치\n",
    "\n",
    "- 패키지 소스로 Cloud SDK 배포 URI를 추가 [Ref](https://cloud.google.com/sdk/docs/downloads-apt-get?hl=ko)\n",
    "\n",
    "```bash\n",
    "echo \"deb [signed-by=/usr/share/keyrings/cloud.google.gpg] https://packages.cloud.google.com/apt cloud-sdk main\" | sudo tee -a /etc/apt/sources.list.d/google-cloud-sdk.list\n",
    "```\n",
    "\n",
    "  - apt-transport-https 설치\n",
    "\n",
    "```bash\n",
    "sudo apt-get install apt-transport-https ca-certificates gnupg\n",
    "```\n",
    "\n",
    "  - Google Cloud 공개 키를 가져온다\n",
    "\n",
    "```bash\n",
    "curl https://packages.cloud.google.com/apt/doc/apt-key.gpg | sudo apt-key --keyring /usr/share/keyrings/cloud.google.gpg add\n",
    "```\n",
    "\n",
    "  - Cloud SDK를 설치\n",
    "\n",
    "```bash\n",
    "sudo apt-get update && sudo apt-get install google-cloud-sdk\n",
    "sudo apt-get install google-cloud-sdk-app-engine-python\n",
    "sudo apt-get install google-cloud-sdk-app-engine-python-extras\n",
    "sudo apt-get install google-cloud-sdk-cloud-build-local\n",
    "```"
   ]
  },
  {
   "cell_type": "markdown",
   "metadata": {},
   "source": [
    "## Project 생성\n",
    "\n",
    "- 폴더 생성\n",
    "- GAE 초기화\n",
    "\n",
    "```bash\n",
    "gcloud init\n",
    "```\n",
    "\n",
    "- venv 설정\n",
    "\n",
    "```bash\n",
    "cd your-project\n",
    "python -m venv venv\n",
    "source venv/bin/activate\n",
    "pip install google-cloud-storage\n",
    "```"
   ]
  },
  {
   "cell_type": "markdown",
   "metadata": {},
   "source": [
    "## Project Upload\n",
    "\n",
    "```bash\n",
    "gcloud app deploy\n",
    "```"
   ]
  },
  {
   "cell_type": "markdown",
   "metadata": {},
   "source": [
    "## 할일 예약\n",
    "\n",
    "```bash\n",
    "gcloud app deploy cron.yaml\n",
    "```"
   ]
  }
 ],
 "metadata": {
  "kernelspec": {
   "display_name": "Python 3",
   "language": "python",
   "name": "python3"
  },
  "language_info": {
   "codemirror_mode": {
    "name": "ipython",
    "version": 3
   },
   "file_extension": ".py",
   "mimetype": "text/x-python",
   "name": "python",
   "nbconvert_exporter": "python",
   "pygments_lexer": "ipython3",
   "version": "3.7.4"
  }
 },
 "nbformat": 4,
 "nbformat_minor": 4
}
