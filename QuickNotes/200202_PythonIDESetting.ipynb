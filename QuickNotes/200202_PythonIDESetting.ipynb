{
 "cells": [
  {
   "cell_type": "markdown",
   "metadata": {},
   "source": [
    "///---\n",
    "layout: post\n",
    "title: \"Python IDE 설정\"\n",
    "comments: true\n",
    "share: true\n",
    "date: 2020-02-02 12:00:00\n",
    "description: Python IDE 설정을 위한 자료 정리.\n",
    "tags: note\n",
    "toc: false\n",
    "sitemap :\n",
    "    changefreq : daily\n",
    "    priority : 1.0\n",
    "///---"
   ]
  },
  {
   "cell_type": "markdown",
   "metadata": {},
   "source": [
    "# Python IDE 설정"
   ]
  },
  {
   "cell_type": "markdown",
   "metadata": {},
   "source": [
    "## Spyder Project 설정"
   ]
  },
  {
   "cell_type": "markdown",
   "metadata": {},
   "source": [
    "### ISORT 설정\n",
    "\n",
    ".isort.cfg를 프로젝트 root 폴더에 만들고 아래내용으로 채운다.\n",
    "\n",
    "```\n",
    "[settings]\n",
    "line_length=79\n",
    "use_parentheses=True\n",
    "atomic=False\n",
    "multi_line_output=4\n",
    "import_heading_stdlib = Standard library imports\n",
    "import_heading_firstparty = Local imports\n",
    "import_heading_thirdparty = Third party imports\n",
    "```"
   ]
  },
  {
   "cell_type": "markdown",
   "metadata": {},
   "source": [
    "## 자주 사용하는 Library\n",
    "\n",
    "생성한 Python Project 폴더에 아래 파일을 압축 해제하여 oklib 폴더를 생성한다.  \n",
    "[oklib Download](/assets/data/oklib.zip)"
   ]
  },
  {
   "cell_type": "markdown",
   "metadata": {},
   "source": [
    "## 필요한 Package"
   ]
  },
  {
   "cell_type": "markdown",
   "metadata": {},
   "source": [
    "| 이름               | 저장소      | 설명                                                           |   |   |\n",
    "|--------------------|-------------|----------------------------------------------------------------|---|---|\n",
    "| pymap3d            | PyPi        | 지구 좌표계 변화                                               |   |   |\n",
    "| basemap            | anaconda    | Matplotlib 지도 투영                                           |   |   |\n",
    "| basemap-data-hires | anaconda    | Matplotlib 지도 투영(with coastlines and political boundaries) |   |   |\n",
    "| pyqtgraph          | anaconda    | QT를 이용한 빠른 Plot                                          |   |   |\n",
    "| vispy              | conda-forge | GPU 가속을 이용한 빠른 Plot                                    |   |   |\n",
    "| mplcursors         | conda-forge | Maplotlib에 Data Cursor 추가                                   |   |   |\n",
    "| jupyterthemes      | conda-forge | Mapplotlib theme 지원                                          |   |   |\n",
    "| pyautogui          | conda-forge | 컴퓨터 자동화                                                  |   |   |"
   ]
  },
  {
   "cell_type": "code",
   "execution_count": null,
   "metadata": {},
   "outputs": [],
   "source": []
  }
 ],
 "metadata": {
  "kernelspec": {
   "display_name": "Python 3",
   "language": "python",
   "name": "python3"
  },
  "language_info": {
   "codemirror_mode": {
    "name": "ipython",
    "version": 3
   },
   "file_extension": ".py",
   "mimetype": "text/x-python",
   "name": "python",
   "nbconvert_exporter": "python",
   "pygments_lexer": "ipython3",
   "version": "3.7.4"
  }
 },
 "nbformat": 4,
 "nbformat_minor": 4
}
