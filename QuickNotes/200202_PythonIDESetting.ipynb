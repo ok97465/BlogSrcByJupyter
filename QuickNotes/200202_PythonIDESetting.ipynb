{
 "cells": [
  {
   "cell_type": "markdown",
   "metadata": {},
   "source": [
    "///---\n",
    "layout: post\n",
    "title: \"Python IDE 설정\"\n",
    "comments: true\n",
    "share: true\n",
    "date: 2020-02-02 12:00:00\n",
    "description: Python IDE 설정을 위한 자료 정리.\n",
    "tags: note\n",
    "toc: false\n",
    "sitemap :\n",
    "    changefreq : daily\n",
    "    priority : 1.0\n",
    "///---"
   ]
  },
  {
   "cell_type": "markdown",
   "metadata": {},
   "source": [
    "# Python IDE 설정"
   ]
  },
  {
   "cell_type": "markdown",
   "metadata": {},
   "source": [
    "## Spyder Project 설정"
   ]
  },
  {
   "cell_type": "markdown",
   "metadata": {},
   "source": [
    "### ISORT 설정\n",
    "\n",
    ".isort.cfg를 프로젝트 root 폴더에 만들고 아래내용으로 채운다.\n",
    "\n",
    "```\n",
    "[settings]\n",
    "line_length=79\n",
    "use_parentheses=True\n",
    "atomic=False\n",
    "multi_line_output=4\n",
    "import_heading_stdlib = Standard library imports\n",
    "import_heading_firstparty = Local imports\n",
    "import_heading_thirdparty = Third party imports\n",
    "```"
   ]
  },
  {
   "cell_type": "markdown",
   "metadata": {},
   "source": [
    "## 자주 사용하는 Library\n",
    "\n",
    "생성한 Python Project 폴더에 아래 파일을 압축 해제하여 oklib 폴더를 생성한다.  \n",
    "[oklib Download](/assets/data/oklib.zip)"
   ]
  },
  {
   "cell_type": "markdown",
   "metadata": {},
   "source": [
    "## 필요한 Package"
   ]
  },
  {
   "cell_type": "markdown",
   "metadata": {},
   "source": [
    "| 이름                | 저장소       | 설명                                                           |\n",
    "|--------------------|-------------|---------------------------------------------------------------|\n",
    "| basemap            | anaconda    | Matplotlib 지도 투영                                            |\n",
    "| basemap-data-hires | anaconda    | Matplotlib 지도 투영(with coastlines and political boundaries)  |\n",
    "| pyqtgraph          | anaconda    | QT를 이용한 빠른 Plot                                            |\n",
    "| opencv             | anaconda    | 영상처리 Library                                                |\n",
    "| dill               | anaconda    | Python 변수 파일 입출력                                          |\n",
    "| mayavi             | anaconda    | surf, mesh등 3d Plot 가속화                                     |\n",
    "| pyserial           | anaconda    | Serial library                                               |\n",
    "| rasterio           | anaconda    | GeoTiff library                                               |\n",
    "| pymap3d            | conda-forge | 지구 좌표계 변화                                                 |\n",
    "| vispy              | conda-forge | GPU 가속을 이용한 빠른 Plot                                       |\n",
    "| mplcursors         | conda-forge | Maplotlib에 Data Cursor 추가                                    |\n",
    "| jupyter_contrib_nbextensions | conda-forge | jupyter notebook extension                          |\n",
    "| jupyterthemes      | conda-forge | Mapplotlib theme 지원                                          |\n",
    "| ipympl             | conda-forge | Jupyterlab maplotlib extension                                |\n",
    "| xeus-python        | conda-forge | Jupyterlab debugger extension                                |\n",
    "| imutils            | conda-forge | 영상처리 library                                                |\n",
    "| dataslots          | Github      | dataclass를 __slots__ class로 변환                              |\n",
    "| numexpr3           | Github      | 간단한 연산에 대한 최적화                                         |\n",
    "| ctypeslib2         | PyPi        | c header를 python class로 변환                                  |\n",
    "| pyinstaller        | anaconda    | python을 실행파일로 변환                                          |\n",
    "| pyautogui          | conda-forge | 컴퓨터 자동화                                                    |\n",
    "| pyperclip          | conda-forge | 컴퓨터 clipboard 활용                                            |\n",
    "| python-pptx        | conda-forge | Python에서 pptx 작성                                            |\n",
    "| python-docx        | conda-forge | Python에서 docx 작성                                            |\n",
    "| jupyterlab-git     | conda-forge | Jupyterlab에서 git 사용                                        |\n",
    "| jupyterlab_vim     | PyPi        | jupyterlab vim extension                                       |\n",
    "| jupyterlab-kite    | PyPi        | jupyterlab kite                                                |\n",
    "| pyswarms           | PyPi        | Partical Swarms Optimization                                   |\n",
    "| hml_equation_parser| PyPi        | HWP의 수식을 latex로 변환                                         |\n"
   ]
  },
  {
   "cell_type": "markdown",
   "metadata": {},
   "source": [
    "## Linux에서 한글 입력\n",
    "\n",
    "LINUX의 QT 프로그램에서는 한글 입력이 가능하지만 Anaconda의 QT를 사용하는 GUI 프로그램의 경우 한글 입력이 되지 않는 경우가 있다. 그럴 경우에는 Linux의 Qt 입력기 Library를 anaconda에 복사해 준다.\n",
    "\n",
    "```sh\n",
    "cp /usr/lib/x86_64-linux-gnu/qt5/plugins/platforminputcontexts/libqt5im-nimf.so /home/ok97465/anaconda3/plugins/platforminputcontexts\n",
    "```"
   ]
  },
  {
   "cell_type": "markdown",
   "metadata": {},
   "source": [
    "## VScode Project 설정"
   ]
  },
  {
   "cell_type": "markdown",
   "metadata": {},
   "source": [
    "### 환경변수 설정\n",
    ".env를 프로젝트 root 폴더에 만들고 아래 내용으로 채운다.\n",
    "\n",
    "```\n",
    "PYTHONPATH=/home/ok97465/codepy/scientific\n",
    "MPLCURSORS={\"multiple\": 1}\n",
    "```"
   ]
  },
  {
   "cell_type": "markdown",
   "metadata": {},
   "source": [
    "Setting.json 설정\n",
    "\n",
    "```json\n",
    "{\n",
    "    \"workbench.startupEditor\": \"newUntitledFile\",\n",
    "    \"terminal.integrated.inheritEnv\": false,\n",
    "    \"editor.fontFamily\": \"D2Coding Ligature\",\n",
    "    \"editor.fontLigatures\": true,\n",
    "    \"editor.formatOnPaste\": true,\n",
    "    \"editor.formatOnSave\": true,\n",
    "    \"editor.formatOnType\": true,\n",
    "    \"editor.formatOnSaveMode\": \"modifications\",\n",
    "    \"editor.snippetSuggestions\": \"top\",\n",
    "    \"editor.minimap.enabled\": false,\n",
    "    \"editor.lineNumbers\": \"relative\",\n",
    "    \"editor.rulers\": [\n",
    "        79\n",
    "    ],\n",
    "    \"python.showStartPage\": false,\n",
    "    \"python.pythonPath\": \"/home/ok97465/anaconda3/bin/python\",\n",
    "    \"python.languageServer\": \"Pylance\",\n",
    "    \"python.linting.enabled\": true,\n",
    "    \"python.linting.lintOnSave\": true,\n",
    "    \"python.linting.pylintEnabled\": true,\n",
    "    \"python.linting.pylintArgs\": [\n",
    "        \"--disable=None\",\n",
    "        \"--const-rgx=(([a-z_][a-z0-9_]{2,30})|([A-Z_][A-Z0-9_]{2,30})|(__*.__))\"],\n",
    "    \"python.linting.pydocstyleEnabled\": true,\n",
    "    \"python.linting.pydocstyleArgs\": [\"--convention=google\"],\n",
    "    \"python.linting.pycodestyleEnabled\": true,\n",
    "    \"python.linting.pycodestyleArgs\": [\"--ignore=W503\"],\n",
    "    \"python.formatting.autopep8Args\": [\n",
    "        \"--ignore\",\n",
    "        \"E402\"\n",
    "    ],\n",
    "    \"jupyter.sendSelectionToInteractiveWindow\": true,\n",
    "    \"jupyter.alwaysTrustNotebooks\": true,\n",
    "    \"vim.easymotion\": true,\n",
    "    \"vim.smartRelativeLine\": true,\n",
    "    \"vim.highlightedyank.enable\": true,\n",
    "    \"vim.highlightedyank.duration\": 400,\n",
    "    \"vim.leader\": \"<space>\",\n",
    "    \"markdown-preview-enhanced.previewTheme\": \"atom-light.css\",\n",
    "    \"markdown-preview-enhanced.codeBlockTheme\": \"atom-dark.css\",\n",
    "    \"doxdocgen.generic.briefTemplate\": \"\\\\brief {text} \\n * \\\\details \\\\verbatim \\\\endverbatim\",\n",
    "    \"doxdocgen.generic.paramTemplate\": \"\\\\param {param} \",\n",
    "    \"doxdocgen.generic.returnTemplate\": \"\\\\return {type} \",\n",
    "    \"doxdocgen.generic.authorEmail\": \"ok97465@gmail.com\",\n",
    "    \"doxdocgen.generic.authorName\": \"ok97465\",\n",
    "    \"doxdocgen.generic.authorTag\": \"\\\\author {author}\",\n",
    "    \"doxdocgen.cpp.tparamTemplate\": \"\\\\tparam {param} \",\n",
    "    \"doxdocgen.generic.dateTemplate\": \"\\\\date {date}\",\n",
    "    \"doxdocgen.file.fileTemplate\": \"\\\\file {name}\",\n",
    "    \"doxdocgen.file.versionTag\": \"\",\n",
    "    \"doxdocgen.file.copyrightTag\": \"\",\n",
    "    \"doxdocgen.generic.order\": [\n",
    "        \"brief\",\n",
    "        \"tparam\",\n",
    "        \"param\",\n",
    "        \"return\"\n",
    "    ],\n",
    "    \"doxdocgen.file.fileOrder\": [\n",
    "        \"file\",\n",
    "        \"author\",\n",
    "        \"date\",\n",
    "        \"brief\"\n",
    "    ],\n",
    "    \"AREPL.customCSS\": \"\",\n",
    "    \"AREPL.defaultFilterTypes\": [\n",
    "        \"<class 'module'>\",\n",
    "        \"<class 'function'>\",\n",
    "        \"<class 'builtin_function_or_method'>\",\n",
    "        \"<class 'numpy.ufunc'>\"\n",
    "    ],\n",
    "    \"AREPL.defaultFilterVars\": [\n",
    "        \"colormap\",\n",
    "        \"jtstyle\",\n",
    "        \"newaxis\",\n",
    "        \"pi\",\n",
    "        \"fig\",\n",
    "        \"ax1\"\n",
    "    ],\n",
    "    \"gitlens.views.repositories.files.layout\": \"list\",\n",
    "    \"explorer.confirmDelete\": false,\n",
    "    \"keyboard.dispatch\": \"keyCode\",\n",
    "    \"search.smartCase\": true,\n",
    "    \"window.zoomLevel\": 0,\n",
    "    \"workbench.editorAssociations\": [\n",
    "        {\n",
    "            \"viewType\": \"jupyter.notebook.ipynb\",\n",
    "            \"filenamePattern\": \"*.ipynb\"\n",
    "        }\n",
    "    ]\n",
    "}\n",
    "```"
   ]
  }
 ],
 "metadata": {
  "kernelspec": {
   "display_name": "Python 3",
   "language": "python",
   "name": "python3"
  },
  "language_info": {
   "codemirror_mode": {
    "name": "ipython",
    "version": 3
   },
   "file_extension": ".py",
   "mimetype": "text/x-python",
   "name": "python",
   "nbconvert_exporter": "python",
   "pygments_lexer": "ipython3",
   "version": "3.8.5"
  }
 },
 "nbformat": 4,
 "nbformat_minor": 4
}
